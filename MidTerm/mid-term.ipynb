{
 "cells": [
  {
   "cell_type": "code",
   "execution_count": 1,
   "id": "6689cf84",
   "metadata": {},
   "outputs": [],
   "source": [
    "import pandas as pd\n",
    "import matplotlib as plt"
   ]
  },
  {
   "cell_type": "code",
   "execution_count": 2,
   "id": "0e79bd2c",
   "metadata": {},
   "outputs": [],
   "source": [
    "df = pd.read_csv(\"https://github.com/msaricaumbc/DS_data/blob/master/ds602/dataset_newsletter.csv?raw=true\")"
   ]
  },
  {
   "cell_type": "code",
   "execution_count": 3,
   "id": "fd7aab6d",
   "metadata": {},
   "outputs": [
    {
     "data": {
      "text/html": [
       "<div>\n",
       "<style scoped>\n",
       "    .dataframe tbody tr th:only-of-type {\n",
       "        vertical-align: middle;\n",
       "    }\n",
       "\n",
       "    .dataframe tbody tr th {\n",
       "        vertical-align: top;\n",
       "    }\n",
       "\n",
       "    .dataframe thead th {\n",
       "        text-align: right;\n",
       "    }\n",
       "</style>\n",
       "<table border=\"1\" class=\"dataframe\">\n",
       "  <thead>\n",
       "    <tr style=\"text-align: right;\">\n",
       "      <th></th>\n",
       "      <th>Unnamed: 0</th>\n",
       "      <th>title</th>\n",
       "      <th>body</th>\n",
       "      <th>signature</th>\n",
       "      <th>submissiontime</th>\n",
       "      <th>category</th>\n",
       "    </tr>\n",
       "  </thead>\n",
       "  <tbody>\n",
       "    <tr>\n",
       "      <th>0</th>\n",
       "      <td>0</td>\n",
       "      <td>Mrs. Laurence Class</td>\n",
       "      <td>Because of the upcoming holiday, we will be re...</td>\n",
       "      <td>Jaslynn Laurence</td>\n",
       "      <td>11/18/15 9:26 AM</td>\n",
       "      <td>ANNOUNCEMENTS</td>\n",
       "    </tr>\n",
       "    <tr>\n",
       "      <th>1</th>\n",
       "      <td>1</td>\n",
       "      <td>Mr. Valle's Winter Break Packets (Cornell/Hamp...</td>\n",
       "      <td>All my Cornell, Hampton, and Princeton student...</td>\n",
       "      <td>Mr. Sam Valle</td>\n",
       "      <td>12/16/15 9:26 PM</td>\n",
       "      <td>ANNOUNCEMENTS</td>\n",
       "    </tr>\n",
       "    <tr>\n",
       "      <th>2</th>\n",
       "      <td>2</td>\n",
       "      <td>Hours of Operation</td>\n",
       "      <td>Parents/Guardians,    We will gladly assist yo...</td>\n",
       "      <td>Ms. Ellis</td>\n",
       "      <td>11/18/15 3:30 PM</td>\n",
       "      <td>ANNOUNCEMENTS</td>\n",
       "    </tr>\n",
       "    <tr>\n",
       "      <th>3</th>\n",
       "      <td>3</td>\n",
       "      <td>Character Education</td>\n",
       "      <td>CMIT South scholars will continue to work on v...</td>\n",
       "      <td>Ch.Ed. Team  Room 163</td>\n",
       "      <td>11/15/15 4:49 PM</td>\n",
       "      <td>ANNOUNCEMENTS</td>\n",
       "    </tr>\n",
       "    <tr>\n",
       "      <th>4</th>\n",
       "      <td>4</td>\n",
       "      <td>CMIT Students Connecting with Students Around ...</td>\n",
       "      <td>A couple of classes have had the opportunity t...</td>\n",
       "      <td>Srta. Dickerson</td>\n",
       "      <td>11/16/15 5:21 AM</td>\n",
       "      <td>ANNOUNCEMENTS</td>\n",
       "    </tr>\n",
       "  </tbody>\n",
       "</table>\n",
       "</div>"
      ],
      "text/plain": [
       "   Unnamed: 0                                              title  \\\n",
       "0           0                                Mrs. Laurence Class   \n",
       "1           1  Mr. Valle's Winter Break Packets (Cornell/Hamp...   \n",
       "2           2                                 Hours of Operation   \n",
       "3           3                                Character Education   \n",
       "4           4  CMIT Students Connecting with Students Around ...   \n",
       "\n",
       "                                                body              signature  \\\n",
       "0  Because of the upcoming holiday, we will be re...       Jaslynn Laurence   \n",
       "1  All my Cornell, Hampton, and Princeton student...          Mr. Sam Valle   \n",
       "2  Parents/Guardians,    We will gladly assist yo...              Ms. Ellis   \n",
       "3  CMIT South scholars will continue to work on v...  Ch.Ed. Team  Room 163   \n",
       "4  A couple of classes have had the opportunity t...        Srta. Dickerson   \n",
       "\n",
       "     submissiontime       category  \n",
       "0  11/18/15 9:26 AM  ANNOUNCEMENTS  \n",
       "1  12/16/15 9:26 PM  ANNOUNCEMENTS  \n",
       "2  11/18/15 3:30 PM  ANNOUNCEMENTS  \n",
       "3  11/15/15 4:49 PM  ANNOUNCEMENTS  \n",
       "4  11/16/15 5:21 AM  ANNOUNCEMENTS  "
      ]
     },
     "execution_count": 3,
     "metadata": {},
     "output_type": "execute_result"
    }
   ],
   "source": [
    "df.head(5)"
   ]
  },
  {
   "cell_type": "code",
   "execution_count": 4,
   "id": "976f7950",
   "metadata": {},
   "outputs": [],
   "source": [
    "df = df.drop(df.columns[0], axis=1)"
   ]
  },
  {
   "cell_type": "code",
   "execution_count": 5,
   "id": "9e5cf675",
   "metadata": {},
   "outputs": [
    {
     "data": {
      "text/html": [
       "<div>\n",
       "<style scoped>\n",
       "    .dataframe tbody tr th:only-of-type {\n",
       "        vertical-align: middle;\n",
       "    }\n",
       "\n",
       "    .dataframe tbody tr th {\n",
       "        vertical-align: top;\n",
       "    }\n",
       "\n",
       "    .dataframe thead th {\n",
       "        text-align: right;\n",
       "    }\n",
       "</style>\n",
       "<table border=\"1\" class=\"dataframe\">\n",
       "  <thead>\n",
       "    <tr style=\"text-align: right;\">\n",
       "      <th></th>\n",
       "      <th>title</th>\n",
       "      <th>body</th>\n",
       "      <th>signature</th>\n",
       "      <th>submissiontime</th>\n",
       "      <th>category</th>\n",
       "    </tr>\n",
       "  </thead>\n",
       "  <tbody>\n",
       "    <tr>\n",
       "      <th>0</th>\n",
       "      <td>Mrs. Laurence Class</td>\n",
       "      <td>Because of the upcoming holiday, we will be re...</td>\n",
       "      <td>Jaslynn Laurence</td>\n",
       "      <td>11/18/15 9:26 AM</td>\n",
       "      <td>ANNOUNCEMENTS</td>\n",
       "    </tr>\n",
       "    <tr>\n",
       "      <th>1</th>\n",
       "      <td>Mr. Valle's Winter Break Packets (Cornell/Hamp...</td>\n",
       "      <td>All my Cornell, Hampton, and Princeton student...</td>\n",
       "      <td>Mr. Sam Valle</td>\n",
       "      <td>12/16/15 9:26 PM</td>\n",
       "      <td>ANNOUNCEMENTS</td>\n",
       "    </tr>\n",
       "    <tr>\n",
       "      <th>2</th>\n",
       "      <td>Hours of Operation</td>\n",
       "      <td>Parents/Guardians,    We will gladly assist yo...</td>\n",
       "      <td>Ms. Ellis</td>\n",
       "      <td>11/18/15 3:30 PM</td>\n",
       "      <td>ANNOUNCEMENTS</td>\n",
       "    </tr>\n",
       "    <tr>\n",
       "      <th>3</th>\n",
       "      <td>Character Education</td>\n",
       "      <td>CMIT South scholars will continue to work on v...</td>\n",
       "      <td>Ch.Ed. Team  Room 163</td>\n",
       "      <td>11/15/15 4:49 PM</td>\n",
       "      <td>ANNOUNCEMENTS</td>\n",
       "    </tr>\n",
       "    <tr>\n",
       "      <th>4</th>\n",
       "      <td>CMIT Students Connecting with Students Around ...</td>\n",
       "      <td>A couple of classes have had the opportunity t...</td>\n",
       "      <td>Srta. Dickerson</td>\n",
       "      <td>11/16/15 5:21 AM</td>\n",
       "      <td>ANNOUNCEMENTS</td>\n",
       "    </tr>\n",
       "  </tbody>\n",
       "</table>\n",
       "</div>"
      ],
      "text/plain": [
       "                                               title  \\\n",
       "0                                Mrs. Laurence Class   \n",
       "1  Mr. Valle's Winter Break Packets (Cornell/Hamp...   \n",
       "2                                 Hours of Operation   \n",
       "3                                Character Education   \n",
       "4  CMIT Students Connecting with Students Around ...   \n",
       "\n",
       "                                                body              signature  \\\n",
       "0  Because of the upcoming holiday, we will be re...       Jaslynn Laurence   \n",
       "1  All my Cornell, Hampton, and Princeton student...          Mr. Sam Valle   \n",
       "2  Parents/Guardians,    We will gladly assist yo...              Ms. Ellis   \n",
       "3  CMIT South scholars will continue to work on v...  Ch.Ed. Team  Room 163   \n",
       "4  A couple of classes have had the opportunity t...        Srta. Dickerson   \n",
       "\n",
       "     submissiontime       category  \n",
       "0  11/18/15 9:26 AM  ANNOUNCEMENTS  \n",
       "1  12/16/15 9:26 PM  ANNOUNCEMENTS  \n",
       "2  11/18/15 3:30 PM  ANNOUNCEMENTS  \n",
       "3  11/15/15 4:49 PM  ANNOUNCEMENTS  \n",
       "4  11/16/15 5:21 AM  ANNOUNCEMENTS  "
      ]
     },
     "execution_count": 5,
     "metadata": {},
     "output_type": "execute_result"
    }
   ],
   "source": [
    "df.head()"
   ]
  },
  {
   "cell_type": "code",
   "execution_count": 6,
   "id": "97cbf1d3",
   "metadata": {},
   "outputs": [
    {
     "name": "stdout",
     "output_type": "stream",
     "text": [
      "<class 'pandas.core.frame.DataFrame'>\n",
      "RangeIndex: 19607 entries, 0 to 19606\n",
      "Data columns (total 5 columns):\n",
      " #   Column          Non-Null Count  Dtype \n",
      "---  ------          --------------  ----- \n",
      " 0   title           19597 non-null  object\n",
      " 1   body            19604 non-null  object\n",
      " 2   signature       19207 non-null  object\n",
      " 3   submissiontime  19607 non-null  object\n",
      " 4   category        19607 non-null  object\n",
      "dtypes: object(5)\n",
      "memory usage: 766.0+ KB\n"
     ]
    }
   ],
   "source": [
    "df.info()"
   ]
  },
  {
   "cell_type": "markdown",
   "id": "1c9b08a5",
   "metadata": {},
   "source": [
    "From above we can see that there are some nulls in the data hence replacing nulls with some meaning data"
   ]
  },
  {
   "cell_type": "code",
   "execution_count": 7,
   "id": "5009723c",
   "metadata": {},
   "outputs": [],
   "source": [
    "df['title'].fillna('Missing Title', inplace=True)"
   ]
  },
  {
   "cell_type": "code",
   "execution_count": 8,
   "id": "60fc895d",
   "metadata": {},
   "outputs": [],
   "source": [
    "df['signature'].fillna('Missing Title', inplace=True)\n",
    "df['body'].fillna('Missing Body', inplace=True)"
   ]
  },
  {
   "cell_type": "code",
   "execution_count": 9,
   "id": "d8d572e7",
   "metadata": {},
   "outputs": [
    {
     "data": {
      "text/html": [
       "<div>\n",
       "<style scoped>\n",
       "    .dataframe tbody tr th:only-of-type {\n",
       "        vertical-align: middle;\n",
       "    }\n",
       "\n",
       "    .dataframe tbody tr th {\n",
       "        vertical-align: top;\n",
       "    }\n",
       "\n",
       "    .dataframe thead th {\n",
       "        text-align: right;\n",
       "    }\n",
       "</style>\n",
       "<table border=\"1\" class=\"dataframe\">\n",
       "  <thead>\n",
       "    <tr style=\"text-align: right;\">\n",
       "      <th></th>\n",
       "      <th>title</th>\n",
       "      <th>body</th>\n",
       "      <th>signature</th>\n",
       "      <th>submissiontime</th>\n",
       "      <th>category</th>\n",
       "    </tr>\n",
       "  </thead>\n",
       "  <tbody>\n",
       "    <tr>\n",
       "      <th>288</th>\n",
       "      <td>Volunteer</td>\n",
       "      <td>Missing Body</td>\n",
       "      <td>CMIT South PTO</td>\n",
       "      <td>1/7/16 10:48 AM</td>\n",
       "      <td>ANNOUNCEMENTS</td>\n",
       "    </tr>\n",
       "    <tr>\n",
       "      <th>5586</th>\n",
       "      <td>Missing Title</td>\n",
       "      <td>Missing Body</td>\n",
       "      <td>Angie Obrien Principal's Secretary</td>\n",
       "      <td>11/7/17 8:28 AM</td>\n",
       "      <td>BREAKING NEWS</td>\n",
       "    </tr>\n",
       "    <tr>\n",
       "      <th>14598</th>\n",
       "      <td>Missing Title</td>\n",
       "      <td>Missing Body</td>\n",
       "      <td>Dr. Fryson</td>\n",
       "      <td>1/27/21 10:48 AM</td>\n",
       "      <td>ANNOUNCEMENTS</td>\n",
       "    </tr>\n",
       "  </tbody>\n",
       "</table>\n",
       "</div>"
      ],
      "text/plain": [
       "               title          body                           signature  \\\n",
       "288        Volunteer  Missing Body                      CMIT South PTO   \n",
       "5586   Missing Title  Missing Body  Angie Obrien Principal's Secretary   \n",
       "14598  Missing Title  Missing Body                          Dr. Fryson   \n",
       "\n",
       "         submissiontime       category  \n",
       "288     1/7/16 10:48 AM  ANNOUNCEMENTS  \n",
       "5586    11/7/17 8:28 AM  BREAKING NEWS  \n",
       "14598  1/27/21 10:48 AM  ANNOUNCEMENTS  "
      ]
     },
     "execution_count": 9,
     "metadata": {},
     "output_type": "execute_result"
    }
   ],
   "source": [
    "df[df['body'] == 'Missing Body']"
   ]
  },
  {
   "cell_type": "code",
   "execution_count": 10,
   "id": "7562cc4a",
   "metadata": {},
   "outputs": [
    {
     "name": "stdout",
     "output_type": "stream",
     "text": [
      "<class 'pandas.core.frame.DataFrame'>\n",
      "RangeIndex: 19607 entries, 0 to 19606\n",
      "Data columns (total 5 columns):\n",
      " #   Column          Non-Null Count  Dtype \n",
      "---  ------          --------------  ----- \n",
      " 0   title           19607 non-null  object\n",
      " 1   body            19607 non-null  object\n",
      " 2   signature       19607 non-null  object\n",
      " 3   submissiontime  19607 non-null  object\n",
      " 4   category        19607 non-null  object\n",
      "dtypes: object(5)\n",
      "memory usage: 766.0+ KB\n"
     ]
    }
   ],
   "source": [
    "df.info()"
   ]
  },
  {
   "cell_type": "markdown",
   "id": "567ebc67",
   "metadata": {},
   "source": [
    "From above we can see there are no null values anymore"
   ]
  },
  {
   "cell_type": "markdown",
   "id": "a690fa32",
   "metadata": {},
   "source": [
    "Also we can observe Datatype of Submission Time is object hence changing it to date time"
   ]
  },
  {
   "cell_type": "code",
   "execution_count": 11,
   "id": "acb47155",
   "metadata": {},
   "outputs": [],
   "source": [
    "df['submissiontime'] = pd.to_datetime(df['submissiontime'])"
   ]
  },
  {
   "cell_type": "code",
   "execution_count": 12,
   "id": "b0665e4d",
   "metadata": {},
   "outputs": [],
   "source": [
    "df[['title', 'body', 'signature','category']] = df[['title', 'body', 'signature','category']].astype('string')"
   ]
  },
  {
   "cell_type": "code",
   "execution_count": 13,
   "id": "9c029c85",
   "metadata": {},
   "outputs": [
    {
     "name": "stdout",
     "output_type": "stream",
     "text": [
      "<class 'pandas.core.frame.DataFrame'>\n",
      "RangeIndex: 19607 entries, 0 to 19606\n",
      "Data columns (total 5 columns):\n",
      " #   Column          Non-Null Count  Dtype         \n",
      "---  ------          --------------  -----         \n",
      " 0   title           19607 non-null  string        \n",
      " 1   body            19607 non-null  string        \n",
      " 2   signature       19607 non-null  string        \n",
      " 3   submissiontime  19607 non-null  datetime64[ns]\n",
      " 4   category        19607 non-null  string        \n",
      "dtypes: datetime64[ns](1), string(4)\n",
      "memory usage: 766.0 KB\n"
     ]
    }
   ],
   "source": [
    "df.info()"
   ]
  },
  {
   "cell_type": "code",
   "execution_count": 14,
   "id": "97527a4a",
   "metadata": {},
   "outputs": [
    {
     "data": {
      "text/html": [
       "<div>\n",
       "<style scoped>\n",
       "    .dataframe tbody tr th:only-of-type {\n",
       "        vertical-align: middle;\n",
       "    }\n",
       "\n",
       "    .dataframe tbody tr th {\n",
       "        vertical-align: top;\n",
       "    }\n",
       "\n",
       "    .dataframe thead th {\n",
       "        text-align: right;\n",
       "    }\n",
       "</style>\n",
       "<table border=\"1\" class=\"dataframe\">\n",
       "  <thead>\n",
       "    <tr style=\"text-align: right;\">\n",
       "      <th></th>\n",
       "      <th>title</th>\n",
       "      <th>body</th>\n",
       "      <th>signature</th>\n",
       "      <th>submissiontime</th>\n",
       "      <th>category</th>\n",
       "    </tr>\n",
       "  </thead>\n",
       "  <tbody>\n",
       "    <tr>\n",
       "      <th>0</th>\n",
       "      <td>Mrs. Laurence Class</td>\n",
       "      <td>Because of the upcoming holiday, we will be re...</td>\n",
       "      <td>Jaslynn Laurence</td>\n",
       "      <td>2015-11-18 09:26:00</td>\n",
       "      <td>ANNOUNCEMENTS</td>\n",
       "    </tr>\n",
       "    <tr>\n",
       "      <th>1</th>\n",
       "      <td>Mr. Valle's Winter Break Packets (Cornell/Hamp...</td>\n",
       "      <td>All my Cornell, Hampton, and Princeton student...</td>\n",
       "      <td>Mr. Sam Valle</td>\n",
       "      <td>2015-12-16 21:26:00</td>\n",
       "      <td>ANNOUNCEMENTS</td>\n",
       "    </tr>\n",
       "    <tr>\n",
       "      <th>2</th>\n",
       "      <td>Hours of Operation</td>\n",
       "      <td>Parents/Guardians,    We will gladly assist yo...</td>\n",
       "      <td>Ms. Ellis</td>\n",
       "      <td>2015-11-18 15:30:00</td>\n",
       "      <td>ANNOUNCEMENTS</td>\n",
       "    </tr>\n",
       "    <tr>\n",
       "      <th>3</th>\n",
       "      <td>Character Education</td>\n",
       "      <td>CMIT South scholars will continue to work on v...</td>\n",
       "      <td>Ch.Ed. Team  Room 163</td>\n",
       "      <td>2015-11-15 16:49:00</td>\n",
       "      <td>ANNOUNCEMENTS</td>\n",
       "    </tr>\n",
       "    <tr>\n",
       "      <th>4</th>\n",
       "      <td>CMIT Students Connecting with Students Around ...</td>\n",
       "      <td>A couple of classes have had the opportunity t...</td>\n",
       "      <td>Srta. Dickerson</td>\n",
       "      <td>2015-11-16 05:21:00</td>\n",
       "      <td>ANNOUNCEMENTS</td>\n",
       "    </tr>\n",
       "  </tbody>\n",
       "</table>\n",
       "</div>"
      ],
      "text/plain": [
       "                                               title  \\\n",
       "0                                Mrs. Laurence Class   \n",
       "1  Mr. Valle's Winter Break Packets (Cornell/Hamp...   \n",
       "2                                 Hours of Operation   \n",
       "3                                Character Education   \n",
       "4  CMIT Students Connecting with Students Around ...   \n",
       "\n",
       "                                                body              signature  \\\n",
       "0  Because of the upcoming holiday, we will be re...       Jaslynn Laurence   \n",
       "1  All my Cornell, Hampton, and Princeton student...          Mr. Sam Valle   \n",
       "2  Parents/Guardians,    We will gladly assist yo...              Ms. Ellis   \n",
       "3  CMIT South scholars will continue to work on v...  Ch.Ed. Team  Room 163   \n",
       "4  A couple of classes have had the opportunity t...        Srta. Dickerson   \n",
       "\n",
       "       submissiontime       category  \n",
       "0 2015-11-18 09:26:00  ANNOUNCEMENTS  \n",
       "1 2015-12-16 21:26:00  ANNOUNCEMENTS  \n",
       "2 2015-11-18 15:30:00  ANNOUNCEMENTS  \n",
       "3 2015-11-15 16:49:00  ANNOUNCEMENTS  \n",
       "4 2015-11-16 05:21:00  ANNOUNCEMENTS  "
      ]
     },
     "execution_count": 14,
     "metadata": {},
     "output_type": "execute_result"
    }
   ],
   "source": [
    "df.head()"
   ]
  },
  {
   "cell_type": "code",
   "execution_count": 15,
   "id": "c09b1f3c",
   "metadata": {},
   "outputs": [
    {
     "data": {
      "text/plain": [
       "12"
      ]
     },
     "execution_count": 15,
     "metadata": {},
     "output_type": "execute_result"
    }
   ],
   "source": [
    "df.category.nunique()"
   ]
  },
  {
   "cell_type": "code",
   "execution_count": 16,
   "id": "f03cb8e9",
   "metadata": {},
   "outputs": [
    {
     "data": {
      "text/plain": [
       "<StringArray>\n",
       "[    'ANNOUNCEMENTS',   'UPCOMING EVENTS',     'BREAKING NEWS',\n",
       "       'FIELD TRIPS',               'PTO', 'VOLUNTEERS NEEDED',\n",
       "  'DONATIONS NEEDED',         'ATHLETICS',    'IMPORTANT NEWS',\n",
       "      'ACHIEVEMENTS',  'STUDENT THOUGHTS',             'CLUBS']\n",
       "Length: 12, dtype: string"
      ]
     },
     "execution_count": 16,
     "metadata": {},
     "output_type": "execute_result"
    }
   ],
   "source": [
    "df.category.unique()"
   ]
  },
  {
   "cell_type": "markdown",
   "id": "77a40723",
   "metadata": {},
   "source": [
    "### Test/split"
   ]
  },
  {
   "cell_type": "code",
   "execution_count": 17,
   "id": "7c17ef91",
   "metadata": {},
   "outputs": [],
   "source": [
    "from sklearn.model_selection import train_test_split\n",
    "features = [x for x in df.columns if x != 'category']\n",
    "\n",
    "X = df[features]\n",
    "y = df['category']"
   ]
  },
  {
   "cell_type": "code",
   "execution_count": 18,
   "id": "f17d27a7",
   "metadata": {},
   "outputs": [
    {
     "data": {
      "text/html": [
       "<div>\n",
       "<style scoped>\n",
       "    .dataframe tbody tr th:only-of-type {\n",
       "        vertical-align: middle;\n",
       "    }\n",
       "\n",
       "    .dataframe tbody tr th {\n",
       "        vertical-align: top;\n",
       "    }\n",
       "\n",
       "    .dataframe thead th {\n",
       "        text-align: right;\n",
       "    }\n",
       "</style>\n",
       "<table border=\"1\" class=\"dataframe\">\n",
       "  <thead>\n",
       "    <tr style=\"text-align: right;\">\n",
       "      <th></th>\n",
       "      <th>title</th>\n",
       "      <th>body</th>\n",
       "      <th>signature</th>\n",
       "      <th>submissiontime</th>\n",
       "    </tr>\n",
       "  </thead>\n",
       "  <tbody>\n",
       "    <tr>\n",
       "      <th>0</th>\n",
       "      <td>Mrs. Laurence Class</td>\n",
       "      <td>Because of the upcoming holiday, we will be re...</td>\n",
       "      <td>Jaslynn Laurence</td>\n",
       "      <td>2015-11-18 09:26:00</td>\n",
       "    </tr>\n",
       "    <tr>\n",
       "      <th>1</th>\n",
       "      <td>Mr. Valle's Winter Break Packets (Cornell/Hamp...</td>\n",
       "      <td>All my Cornell, Hampton, and Princeton student...</td>\n",
       "      <td>Mr. Sam Valle</td>\n",
       "      <td>2015-12-16 21:26:00</td>\n",
       "    </tr>\n",
       "    <tr>\n",
       "      <th>2</th>\n",
       "      <td>Hours of Operation</td>\n",
       "      <td>Parents/Guardians,    We will gladly assist yo...</td>\n",
       "      <td>Ms. Ellis</td>\n",
       "      <td>2015-11-18 15:30:00</td>\n",
       "    </tr>\n",
       "    <tr>\n",
       "      <th>3</th>\n",
       "      <td>Character Education</td>\n",
       "      <td>CMIT South scholars will continue to work on v...</td>\n",
       "      <td>Ch.Ed. Team  Room 163</td>\n",
       "      <td>2015-11-15 16:49:00</td>\n",
       "    </tr>\n",
       "    <tr>\n",
       "      <th>4</th>\n",
       "      <td>CMIT Students Connecting with Students Around ...</td>\n",
       "      <td>A couple of classes have had the opportunity t...</td>\n",
       "      <td>Srta. Dickerson</td>\n",
       "      <td>2015-11-16 05:21:00</td>\n",
       "    </tr>\n",
       "    <tr>\n",
       "      <th>...</th>\n",
       "      <td>...</td>\n",
       "      <td>...</td>\n",
       "      <td>...</td>\n",
       "      <td>...</td>\n",
       "    </tr>\n",
       "    <tr>\n",
       "      <th>19602</th>\n",
       "      <td>Ms. Coholic's Science Classes</td>\n",
       "      <td>Hello all!  This week, BioGeoChem students wil...</td>\n",
       "      <td>Suzanne Coholic High School Science Teacher  S...</td>\n",
       "      <td>2023-01-11 10:28:00</td>\n",
       "    </tr>\n",
       "    <tr>\n",
       "      <th>19603</th>\n",
       "      <td>AP Exams</td>\n",
       "      <td>Clock is ticking and we have four months until...</td>\n",
       "      <td>Nabil Siddiqui</td>\n",
       "      <td>2023-01-13 09:43:00</td>\n",
       "    </tr>\n",
       "    <tr>\n",
       "      <th>19604</th>\n",
       "      <td>Ever thought of becoming a Software Engineer?</td>\n",
       "      <td>This after school club can benefit all the com...</td>\n",
       "      <td>Nabil Siddiqui</td>\n",
       "      <td>2023-01-13 09:49:00</td>\n",
       "    </tr>\n",
       "    <tr>\n",
       "      <th>19605</th>\n",
       "      <td>Last Call! Women's Lacrosse Interest</td>\n",
       "      <td>Last Call! The Women's Lacrosse Program is hav...</td>\n",
       "      <td>Serey Sok CMIT Women's Lacrosse &amp; Women's Socc...</td>\n",
       "      <td>2023-01-15 20:29:00</td>\n",
       "    </tr>\n",
       "    <tr>\n",
       "      <th>19606</th>\n",
       "      <td>Clarinetists, Flautist, Violinist, Violists, ...</td>\n",
       "      <td>ORCHESTRA/CONCERT CLUB   We are doing a mid ye...</td>\n",
       "      <td>Russell Carter</td>\n",
       "      <td>2023-02-06 12:54:00</td>\n",
       "    </tr>\n",
       "  </tbody>\n",
       "</table>\n",
       "<p>19607 rows × 4 columns</p>\n",
       "</div>"
      ],
      "text/plain": [
       "                                                   title  \\\n",
       "0                                    Mrs. Laurence Class   \n",
       "1      Mr. Valle's Winter Break Packets (Cornell/Hamp...   \n",
       "2                                     Hours of Operation   \n",
       "3                                    Character Education   \n",
       "4      CMIT Students Connecting with Students Around ...   \n",
       "...                                                  ...   \n",
       "19602                      Ms. Coholic's Science Classes   \n",
       "19603                                          AP Exams    \n",
       "19604      Ever thought of becoming a Software Engineer?   \n",
       "19605               Last Call! Women's Lacrosse Interest   \n",
       "19606   Clarinetists, Flautist, Violinist, Violists, ...   \n",
       "\n",
       "                                                    body  \\\n",
       "0      Because of the upcoming holiday, we will be re...   \n",
       "1      All my Cornell, Hampton, and Princeton student...   \n",
       "2      Parents/Guardians,    We will gladly assist yo...   \n",
       "3      CMIT South scholars will continue to work on v...   \n",
       "4      A couple of classes have had the opportunity t...   \n",
       "...                                                  ...   \n",
       "19602  Hello all!  This week, BioGeoChem students wil...   \n",
       "19603  Clock is ticking and we have four months until...   \n",
       "19604  This after school club can benefit all the com...   \n",
       "19605  Last Call! The Women's Lacrosse Program is hav...   \n",
       "19606  ORCHESTRA/CONCERT CLUB   We are doing a mid ye...   \n",
       "\n",
       "                                               signature      submissiontime  \n",
       "0                                       Jaslynn Laurence 2015-11-18 09:26:00  \n",
       "1                                          Mr. Sam Valle 2015-12-16 21:26:00  \n",
       "2                                              Ms. Ellis 2015-11-18 15:30:00  \n",
       "3                                  Ch.Ed. Team  Room 163 2015-11-15 16:49:00  \n",
       "4                                        Srta. Dickerson 2015-11-16 05:21:00  \n",
       "...                                                  ...                 ...  \n",
       "19602  Suzanne Coholic High School Science Teacher  S... 2023-01-11 10:28:00  \n",
       "19603                                     Nabil Siddiqui 2023-01-13 09:43:00  \n",
       "19604                                     Nabil Siddiqui 2023-01-13 09:49:00  \n",
       "19605  Serey Sok CMIT Women's Lacrosse & Women's Socc... 2023-01-15 20:29:00  \n",
       "19606                                     Russell Carter 2023-02-06 12:54:00  \n",
       "\n",
       "[19607 rows x 4 columns]"
      ]
     },
     "execution_count": 18,
     "metadata": {},
     "output_type": "execute_result"
    }
   ],
   "source": [
    "X"
   ]
  },
  {
   "cell_type": "code",
   "execution_count": 19,
   "id": "7c4668e9",
   "metadata": {},
   "outputs": [
    {
     "data": {
      "text/plain": [
       "0        ANNOUNCEMENTS\n",
       "1        ANNOUNCEMENTS\n",
       "2        ANNOUNCEMENTS\n",
       "3        ANNOUNCEMENTS\n",
       "4        ANNOUNCEMENTS\n",
       "             ...      \n",
       "19602    ANNOUNCEMENTS\n",
       "19603    ANNOUNCEMENTS\n",
       "19604            CLUBS\n",
       "19605            CLUBS\n",
       "19606            CLUBS\n",
       "Name: category, Length: 19607, dtype: string"
      ]
     },
     "execution_count": 19,
     "metadata": {},
     "output_type": "execute_result"
    }
   ],
   "source": [
    "y"
   ]
  },
  {
   "cell_type": "code",
   "execution_count": 20,
   "id": "13df25b5",
   "metadata": {},
   "outputs": [
    {
     "name": "stdout",
     "output_type": "stream",
     "text": [
      "Records in training data: 15,685\n",
      "Records in test data: 3,922\n"
     ]
    }
   ],
   "source": [
    "X_train, X_test, y_train, y_test = train_test_split(X, y, test_size=0.2, random_state=124)\n",
    "print(f'Records in training data: {X_train.shape[0]:,}')\n",
    "print(f'Records in test data: {X_test.shape[0]:,}')"
   ]
  },
  {
   "cell_type": "code",
   "execution_count": 21,
   "id": "6d80b7d8",
   "metadata": {},
   "outputs": [
    {
     "data": {
      "text/html": [
       "<div>\n",
       "<style scoped>\n",
       "    .dataframe tbody tr th:only-of-type {\n",
       "        vertical-align: middle;\n",
       "    }\n",
       "\n",
       "    .dataframe tbody tr th {\n",
       "        vertical-align: top;\n",
       "    }\n",
       "\n",
       "    .dataframe thead th {\n",
       "        text-align: right;\n",
       "    }\n",
       "</style>\n",
       "<table border=\"1\" class=\"dataframe\">\n",
       "  <thead>\n",
       "    <tr style=\"text-align: right;\">\n",
       "      <th></th>\n",
       "      <th>title</th>\n",
       "      <th>body</th>\n",
       "      <th>signature</th>\n",
       "      <th>submissiontime</th>\n",
       "    </tr>\n",
       "  </thead>\n",
       "  <tbody>\n",
       "    <tr>\n",
       "      <th>14046</th>\n",
       "      <td>HS SGA - Thanksgiving Challenge</td>\n",
       "      <td>Hi CMIT-South Families! SGA wants to engage ou...</td>\n",
       "      <td>Mr. Wassam (nwassam@cmitsouth.org) and Executi...</td>\n",
       "      <td>2020-11-19 08:09:00</td>\n",
       "    </tr>\n",
       "    <tr>\n",
       "      <th>2851</th>\n",
       "      <td>Parent Appreciation</td>\n",
       "      <td>Dear Parents past and present,  Thank you for ...</td>\n",
       "      <td>Donna McCallister</td>\n",
       "      <td>2016-11-15 13:07:00</td>\n",
       "    </tr>\n",
       "    <tr>\n",
       "      <th>3958</th>\n",
       "      <td>Repeat Free School</td>\n",
       "      <td>CSP continues to provide a rigorous and qual...</td>\n",
       "      <td>Darryl Gonzalez</td>\n",
       "      <td>2017-03-09 10:33:00</td>\n",
       "    </tr>\n",
       "    <tr>\n",
       "      <th>7118</th>\n",
       "      <td>Thank You! Thank You! Thank You!</td>\n",
       "      <td>Hello CSP family!!!  This has been a great ye...</td>\n",
       "      <td>Sincerely, Your CSP- PTSO Team</td>\n",
       "      <td>2018-06-01 10:16:00</td>\n",
       "    </tr>\n",
       "    <tr>\n",
       "      <th>18923</th>\n",
       "      <td>NHS Tutoring is Starting!</td>\n",
       "      <td>The National Honor Society will begin our Tuto...</td>\n",
       "      <td>Dr. Gaudette (ngaudette@cmitacademy.org) Profe...</td>\n",
       "      <td>2022-09-22 09:55:00</td>\n",
       "    </tr>\n",
       "    <tr>\n",
       "      <th>...</th>\n",
       "      <td>...</td>\n",
       "      <td>...</td>\n",
       "      <td>...</td>\n",
       "      <td>...</td>\n",
       "    </tr>\n",
       "    <tr>\n",
       "      <th>681</th>\n",
       "      <td>2015-2016 Annual Middle School Math Contest</td>\n",
       "      <td>Congratulations to the following students for ...</td>\n",
       "      <td>Mrs. Valencia  Math/Technology Department Chair</td>\n",
       "      <td>2016-03-04 10:34:00</td>\n",
       "    </tr>\n",
       "    <tr>\n",
       "      <th>9154</th>\n",
       "      <td>Senior Class - Cap/Gown and Announcement Orders</td>\n",
       "      <td>Parents of 12th grade students,  Please rememb...</td>\n",
       "      <td>Angie O'Brien</td>\n",
       "      <td>2019-01-31 07:45:00</td>\n",
       "    </tr>\n",
       "    <tr>\n",
       "      <th>14353</th>\n",
       "      <td>Have a Safe and Fun Filled Break</td>\n",
       "      <td>This time of year is usually marked by the joi...</td>\n",
       "      <td>James Screven, Assistant Principal</td>\n",
       "      <td>2020-12-20 00:18:00</td>\n",
       "    </tr>\n",
       "    <tr>\n",
       "      <th>4764</th>\n",
       "      <td>School Supply List</td>\n",
       "      <td>School supply list for the 2017-18 school ye...</td>\n",
       "      <td>CMIT SOUTH</td>\n",
       "      <td>2017-06-15 09:09:00</td>\n",
       "    </tr>\n",
       "    <tr>\n",
       "      <th>4558</th>\n",
       "      <td>Math 6: Miss Sears</td>\n",
       "      <td>The Final Exam for Math 6 will be on Wednesday...</td>\n",
       "      <td>Missing Title</td>\n",
       "      <td>2017-05-17 09:11:00</td>\n",
       "    </tr>\n",
       "  </tbody>\n",
       "</table>\n",
       "<p>15685 rows × 4 columns</p>\n",
       "</div>"
      ],
      "text/plain": [
       "                                                 title  \\\n",
       "14046                  HS SGA - Thanksgiving Challenge   \n",
       "2851                              Parent Appreciation    \n",
       "3958                                Repeat Free School   \n",
       "7118                  Thank You! Thank You! Thank You!   \n",
       "18923                        NHS Tutoring is Starting!   \n",
       "...                                                ...   \n",
       "681        2015-2016 Annual Middle School Math Contest   \n",
       "9154   Senior Class - Cap/Gown and Announcement Orders   \n",
       "14353                 Have a Safe and Fun Filled Break   \n",
       "4764                                School Supply List   \n",
       "4558                                Math 6: Miss Sears   \n",
       "\n",
       "                                                    body  \\\n",
       "14046  Hi CMIT-South Families! SGA wants to engage ou...   \n",
       "2851   Dear Parents past and present,  Thank you for ...   \n",
       "3958     CSP continues to provide a rigorous and qual...   \n",
       "7118    Hello CSP family!!!  This has been a great ye...   \n",
       "18923  The National Honor Society will begin our Tuto...   \n",
       "...                                                  ...   \n",
       "681    Congratulations to the following students for ...   \n",
       "9154   Parents of 12th grade students,  Please rememb...   \n",
       "14353  This time of year is usually marked by the joi...   \n",
       "4764     School supply list for the 2017-18 school ye...   \n",
       "4558   The Final Exam for Math 6 will be on Wednesday...   \n",
       "\n",
       "                                               signature      submissiontime  \n",
       "14046  Mr. Wassam (nwassam@cmitsouth.org) and Executi... 2020-11-19 08:09:00  \n",
       "2851                                   Donna McCallister 2016-11-15 13:07:00  \n",
       "3958                                     Darryl Gonzalez 2017-03-09 10:33:00  \n",
       "7118                      Sincerely, Your CSP- PTSO Team 2018-06-01 10:16:00  \n",
       "18923  Dr. Gaudette (ngaudette@cmitacademy.org) Profe... 2022-09-22 09:55:00  \n",
       "...                                                  ...                 ...  \n",
       "681      Mrs. Valencia  Math/Technology Department Chair 2016-03-04 10:34:00  \n",
       "9154                                       Angie O'Brien 2019-01-31 07:45:00  \n",
       "14353                 James Screven, Assistant Principal 2020-12-20 00:18:00  \n",
       "4764                                          CMIT SOUTH 2017-06-15 09:09:00  \n",
       "4558                                       Missing Title 2017-05-17 09:11:00  \n",
       "\n",
       "[15685 rows x 4 columns]"
      ]
     },
     "execution_count": 21,
     "metadata": {},
     "output_type": "execute_result"
    }
   ],
   "source": [
    "X_train"
   ]
  },
  {
   "cell_type": "code",
   "execution_count": 22,
   "id": "a84dbeca",
   "metadata": {},
   "outputs": [
    {
     "data": {
      "text/html": [
       "<div>\n",
       "<style scoped>\n",
       "    .dataframe tbody tr th:only-of-type {\n",
       "        vertical-align: middle;\n",
       "    }\n",
       "\n",
       "    .dataframe tbody tr th {\n",
       "        vertical-align: top;\n",
       "    }\n",
       "\n",
       "    .dataframe thead th {\n",
       "        text-align: right;\n",
       "    }\n",
       "</style>\n",
       "<table border=\"1\" class=\"dataframe\">\n",
       "  <thead>\n",
       "    <tr style=\"text-align: right;\">\n",
       "      <th></th>\n",
       "      <th>title</th>\n",
       "      <th>body</th>\n",
       "      <th>signature</th>\n",
       "      <th>submissiontime</th>\n",
       "    </tr>\n",
       "  </thead>\n",
       "  <tbody>\n",
       "    <tr>\n",
       "      <th>10723</th>\n",
       "      <td>Back to School Night</td>\n",
       "      <td>CMIT Families:  The high school will host its ...</td>\n",
       "      <td>HS Administration</td>\n",
       "      <td>2019-09-07 10:24:00</td>\n",
       "    </tr>\n",
       "    <tr>\n",
       "      <th>469</th>\n",
       "      <td>Please no food or drinks</td>\n",
       "      <td>This is a friendly reminder that there is no f...</td>\n",
       "      <td>Thank you,    Srta. Stacie Young</td>\n",
       "      <td>2016-02-03 13:12:00</td>\n",
       "    </tr>\n",
       "    <tr>\n",
       "      <th>13647</th>\n",
       "      <td>Social Studies 8</td>\n",
       "      <td>Hello.  This upcoming week, we will be practic...</td>\n",
       "      <td>Janette Morandin</td>\n",
       "      <td>2020-10-15 11:14:00</td>\n",
       "    </tr>\n",
       "    <tr>\n",
       "      <th>3016</th>\n",
       "      <td>PGCPS #FatherhoodForum - \"Father Daughter Dance\"!</td>\n",
       "      <td>Greetings all,    MarkYourCalendar!!!  (Just a...</td>\n",
       "      <td>PGCPS</td>\n",
       "      <td>2016-12-02 10:30:00</td>\n",
       "    </tr>\n",
       "    <tr>\n",
       "      <th>5782</th>\n",
       "      <td>Fall Sports Banquet</td>\n",
       "      <td>High School Parents,    There will be a fall s...</td>\n",
       "      <td>Angie Obrien Principal's Secretary</td>\n",
       "      <td>2017-12-01 09:15:00</td>\n",
       "    </tr>\n",
       "    <tr>\n",
       "      <th>...</th>\n",
       "      <td>...</td>\n",
       "      <td>...</td>\n",
       "      <td>...</td>\n",
       "      <td>...</td>\n",
       "    </tr>\n",
       "    <tr>\n",
       "      <th>14579</th>\n",
       "      <td>Science Olympiad - Social Media Accounts - UMD...</td>\n",
       "      <td>Science Olympiad Team will participate in the ...</td>\n",
       "      <td>*****</td>\n",
       "      <td>2021-01-23 17:40:00</td>\n",
       "    </tr>\n",
       "    <tr>\n",
       "      <th>4214</th>\n",
       "      <td>Teachers Appreciation Week</td>\n",
       "      <td>May 1st-5th -- Teachers Appreciation Week  &amp;qu...</td>\n",
       "      <td>Missing Title</td>\n",
       "      <td>2017-03-31 21:41:00</td>\n",
       "    </tr>\n",
       "    <tr>\n",
       "      <th>8863</th>\n",
       "      <td>CLASS OF 2020 NEWS!  SIGN UP FOR THE NEWSLETTE...</td>\n",
       "      <td>...</td>\n",
       "      <td>lhw</td>\n",
       "      <td>2019-01-04 14:31:00</td>\n",
       "    </tr>\n",
       "    <tr>\n",
       "      <th>6741</th>\n",
       "      <td>Join the HPLC Engineering Team at the Science ...</td>\n",
       "      <td>The HPLC Engineering Team consisting of Hann...</td>\n",
       "      <td>H.P.L.C. Robotic Team and  Alma Smith, Chemist...</td>\n",
       "      <td>2018-03-31 20:59:00</td>\n",
       "    </tr>\n",
       "    <tr>\n",
       "      <th>12927</th>\n",
       "      <td>Celebrate</td>\n",
       "      <td>Parents/Guardians, We celebrate all our paren...</td>\n",
       "      <td>L. Watkis (Assistant Principal)</td>\n",
       "      <td>2020-05-22 14:15:00</td>\n",
       "    </tr>\n",
       "  </tbody>\n",
       "</table>\n",
       "<p>3922 rows × 4 columns</p>\n",
       "</div>"
      ],
      "text/plain": [
       "                                                   title  \\\n",
       "10723                               Back to School Night   \n",
       "469                             Please no food or drinks   \n",
       "13647                                   Social Studies 8   \n",
       "3016   PGCPS #FatherhoodForum - \"Father Daughter Dance\"!   \n",
       "5782                                 Fall Sports Banquet   \n",
       "...                                                  ...   \n",
       "14579  Science Olympiad - Social Media Accounts - UMD...   \n",
       "4214                          Teachers Appreciation Week   \n",
       "8863   CLASS OF 2020 NEWS!  SIGN UP FOR THE NEWSLETTE...   \n",
       "6741   Join the HPLC Engineering Team at the Science ...   \n",
       "12927                                          Celebrate   \n",
       "\n",
       "                                                    body  \\\n",
       "10723  CMIT Families:  The high school will host its ...   \n",
       "469    This is a friendly reminder that there is no f...   \n",
       "13647  Hello.  This upcoming week, we will be practic...   \n",
       "3016   Greetings all,    MarkYourCalendar!!!  (Just a...   \n",
       "5782   High School Parents,    There will be a fall s...   \n",
       "...                                                  ...   \n",
       "14579  Science Olympiad Team will participate in the ...   \n",
       "4214   May 1st-5th -- Teachers Appreciation Week  &qu...   \n",
       "8863                                                 ...   \n",
       "6741     The HPLC Engineering Team consisting of Hann...   \n",
       "12927   Parents/Guardians, We celebrate all our paren...   \n",
       "\n",
       "                                               signature      submissiontime  \n",
       "10723                                  HS Administration 2019-09-07 10:24:00  \n",
       "469                     Thank you,    Srta. Stacie Young 2016-02-03 13:12:00  \n",
       "13647                                   Janette Morandin 2020-10-15 11:14:00  \n",
       "3016                                               PGCPS 2016-12-02 10:30:00  \n",
       "5782                  Angie Obrien Principal's Secretary 2017-12-01 09:15:00  \n",
       "...                                                  ...                 ...  \n",
       "14579                                              ***** 2021-01-23 17:40:00  \n",
       "4214                                       Missing Title 2017-03-31 21:41:00  \n",
       "8863                                                 lhw 2019-01-04 14:31:00  \n",
       "6741   H.P.L.C. Robotic Team and  Alma Smith, Chemist... 2018-03-31 20:59:00  \n",
       "12927                    L. Watkis (Assistant Principal) 2020-05-22 14:15:00  \n",
       "\n",
       "[3922 rows x 4 columns]"
      ]
     },
     "execution_count": 22,
     "metadata": {},
     "output_type": "execute_result"
    }
   ],
   "source": [
    "X_test"
   ]
  },
  {
   "cell_type": "code",
   "execution_count": 23,
   "id": "1d8ca446",
   "metadata": {},
   "outputs": [],
   "source": [
    "# categorical_vars=[i for i in df.columns if df[i].dtype == 'object' and i!='category']\n",
    "# numerical_vars=[i for i in df.columns if df[i].dtype != 'object']"
   ]
  },
  {
   "cell_type": "code",
   "execution_count": 24,
   "id": "81a7ce5f",
   "metadata": {},
   "outputs": [],
   "source": [
    "categorical_vars=['title', 'body', 'signature']\n",
    "numerical_vars=['submissiontime']"
   ]
  },
  {
   "cell_type": "code",
   "execution_count": 25,
   "id": "7f38a9d9",
   "metadata": {},
   "outputs": [],
   "source": [
    "from sklearn.pipeline import Pipeline\n",
    "from sklearn.compose import ColumnTransformer\n",
    "from sklearn.impute import SimpleImputer\n",
    "from sklearn.preprocessing import OneHotEncoder\n",
    "from sklearn.preprocessing import StandardScaler"
   ]
  },
  {
   "cell_type": "code",
   "execution_count": 26,
   "id": "e9c68027",
   "metadata": {},
   "outputs": [],
   "source": [
    "num_pipeline = Pipeline([('impute_missing', SimpleImputer(strategy='median')),\n",
    "                           ('standardize_num', StandardScaler())\n",
    "                        ])"
   ]
  },
  {
   "cell_type": "code",
   "execution_count": 27,
   "id": "b5b4968a",
   "metadata": {},
   "outputs": [],
   "source": [
    "cat_pipeline = Pipeline([('impute_missing_cats', SimpleImputer(strategy='most_frequent')),\n",
    "                          ('create_dummies_cats', OneHotEncoder(handle_unknown='ignore'))])"
   ]
  },
  {
   "cell_type": "code",
   "execution_count": 28,
   "id": "a3858a5d",
   "metadata": {},
   "outputs": [
    {
     "name": "stdout",
     "output_type": "stream",
     "text": [
      "ColumnTransformer(transformers=[('proc_numeric',\n",
      "                                 Pipeline(steps=[('impute_missing',\n",
      "                                                  SimpleImputer(strategy='median')),\n",
      "                                                 ('standardize_num',\n",
      "                                                  StandardScaler())]),\n",
      "                                 ['submissiontime']),\n",
      "                                ('create_dummies',\n",
      "                                 Pipeline(steps=[('impute_missing_cats',\n",
      "                                                  SimpleImputer(strategy='most_frequent')),\n",
      "                                                 ('create_dummies_cats',\n",
      "                                                  OneHotEncoder(handle_unknown='ignore'))]),\n",
      "                                 ['title', 'body', 'signature'])])\n"
     ]
    }
   ],
   "source": [
    "processing_pipeline = ColumnTransformer(transformers=[('proc_numeric', num_pipeline, numerical_vars),\n",
    "                                                      ('create_dummies', cat_pipeline, categorical_vars)])\n",
    "\n",
    "print(processing_pipeline)"
   ]
  },
  {
   "cell_type": "code",
   "execution_count": 29,
   "id": "f628e803",
   "metadata": {},
   "outputs": [],
   "source": [
    "from sklearn.preprocessing import LabelEncoder\n",
    "le = LabelEncoder()\n",
    "y_train = le.fit_transform(y_train)\n",
    "y_test = le.fit_transform(y_test)"
   ]
  },
  {
   "cell_type": "markdown",
   "id": "199617a0",
   "metadata": {},
   "source": [
    "### Linear Regression"
   ]
  },
  {
   "cell_type": "code",
   "execution_count": 30,
   "id": "7c2b9615",
   "metadata": {},
   "outputs": [
    {
     "data": {
      "text/html": [
       "<style>#sk-container-id-1 {color: black;background-color: white;}#sk-container-id-1 pre{padding: 0;}#sk-container-id-1 div.sk-toggleable {background-color: white;}#sk-container-id-1 label.sk-toggleable__label {cursor: pointer;display: block;width: 100%;margin-bottom: 0;padding: 0.3em;box-sizing: border-box;text-align: center;}#sk-container-id-1 label.sk-toggleable__label-arrow:before {content: \"▸\";float: left;margin-right: 0.25em;color: #696969;}#sk-container-id-1 label.sk-toggleable__label-arrow:hover:before {color: black;}#sk-container-id-1 div.sk-estimator:hover label.sk-toggleable__label-arrow:before {color: black;}#sk-container-id-1 div.sk-toggleable__content {max-height: 0;max-width: 0;overflow: hidden;text-align: left;background-color: #f0f8ff;}#sk-container-id-1 div.sk-toggleable__content pre {margin: 0.2em;color: black;border-radius: 0.25em;background-color: #f0f8ff;}#sk-container-id-1 input.sk-toggleable__control:checked~div.sk-toggleable__content {max-height: 200px;max-width: 100%;overflow: auto;}#sk-container-id-1 input.sk-toggleable__control:checked~label.sk-toggleable__label-arrow:before {content: \"▾\";}#sk-container-id-1 div.sk-estimator input.sk-toggleable__control:checked~label.sk-toggleable__label {background-color: #d4ebff;}#sk-container-id-1 div.sk-label input.sk-toggleable__control:checked~label.sk-toggleable__label {background-color: #d4ebff;}#sk-container-id-1 input.sk-hidden--visually {border: 0;clip: rect(1px 1px 1px 1px);clip: rect(1px, 1px, 1px, 1px);height: 1px;margin: -1px;overflow: hidden;padding: 0;position: absolute;width: 1px;}#sk-container-id-1 div.sk-estimator {font-family: monospace;background-color: #f0f8ff;border: 1px dotted black;border-radius: 0.25em;box-sizing: border-box;margin-bottom: 0.5em;}#sk-container-id-1 div.sk-estimator:hover {background-color: #d4ebff;}#sk-container-id-1 div.sk-parallel-item::after {content: \"\";width: 100%;border-bottom: 1px solid gray;flex-grow: 1;}#sk-container-id-1 div.sk-label:hover label.sk-toggleable__label {background-color: #d4ebff;}#sk-container-id-1 div.sk-serial::before {content: \"\";position: absolute;border-left: 1px solid gray;box-sizing: border-box;top: 0;bottom: 0;left: 50%;z-index: 0;}#sk-container-id-1 div.sk-serial {display: flex;flex-direction: column;align-items: center;background-color: white;padding-right: 0.2em;padding-left: 0.2em;position: relative;}#sk-container-id-1 div.sk-item {position: relative;z-index: 1;}#sk-container-id-1 div.sk-parallel {display: flex;align-items: stretch;justify-content: center;background-color: white;position: relative;}#sk-container-id-1 div.sk-item::before, #sk-container-id-1 div.sk-parallel-item::before {content: \"\";position: absolute;border-left: 1px solid gray;box-sizing: border-box;top: 0;bottom: 0;left: 50%;z-index: -1;}#sk-container-id-1 div.sk-parallel-item {display: flex;flex-direction: column;z-index: 1;position: relative;background-color: white;}#sk-container-id-1 div.sk-parallel-item:first-child::after {align-self: flex-end;width: 50%;}#sk-container-id-1 div.sk-parallel-item:last-child::after {align-self: flex-start;width: 50%;}#sk-container-id-1 div.sk-parallel-item:only-child::after {width: 0;}#sk-container-id-1 div.sk-dashed-wrapped {border: 1px dashed gray;margin: 0 0.4em 0.5em 0.4em;box-sizing: border-box;padding-bottom: 0.4em;background-color: white;}#sk-container-id-1 div.sk-label label {font-family: monospace;font-weight: bold;display: inline-block;line-height: 1.2em;}#sk-container-id-1 div.sk-label-container {text-align: center;}#sk-container-id-1 div.sk-container {/* jupyter's `normalize.less` sets `[hidden] { display: none; }` but bootstrap.min.css set `[hidden] { display: none !important; }` so we also need the `!important` here to be able to override the default hidden behavior on the sphinx rendered scikit-learn.org. See: https://github.com/scikit-learn/scikit-learn/issues/21755 */display: inline-block !important;position: relative;}#sk-container-id-1 div.sk-text-repr-fallback {display: none;}</style><div id=\"sk-container-id-1\" class=\"sk-top-container\"><div class=\"sk-text-repr-fallback\"><pre>Pipeline(steps=[(&#x27;data_processing&#x27;,\n",
       "                 ColumnTransformer(transformers=[(&#x27;proc_numeric&#x27;,\n",
       "                                                  Pipeline(steps=[(&#x27;impute_missing&#x27;,\n",
       "                                                                   SimpleImputer(strategy=&#x27;median&#x27;)),\n",
       "                                                                  (&#x27;standardize_num&#x27;,\n",
       "                                                                   StandardScaler())]),\n",
       "                                                  [&#x27;submissiontime&#x27;]),\n",
       "                                                 (&#x27;create_dummies&#x27;,\n",
       "                                                  Pipeline(steps=[(&#x27;impute_missing_cats&#x27;,\n",
       "                                                                   SimpleImputer(strategy=&#x27;most_frequent&#x27;)),\n",
       "                                                                  (&#x27;create_dummies_cats&#x27;,\n",
       "                                                                   OneHotEncoder(handle_unknown=&#x27;ignore&#x27;))]),\n",
       "                                                  [&#x27;title&#x27;, &#x27;body&#x27;,\n",
       "                                                   &#x27;signature&#x27;])])),\n",
       "                (&#x27;lm&#x27;, LinearRegression())])</pre><b>In a Jupyter environment, please rerun this cell to show the HTML representation or trust the notebook. <br />On GitHub, the HTML representation is unable to render, please try loading this page with nbviewer.org.</b></div><div class=\"sk-container\" hidden><div class=\"sk-item sk-dashed-wrapped\"><div class=\"sk-label-container\"><div class=\"sk-label sk-toggleable\"><input class=\"sk-toggleable__control sk-hidden--visually\" id=\"sk-estimator-id-1\" type=\"checkbox\" ><label for=\"sk-estimator-id-1\" class=\"sk-toggleable__label sk-toggleable__label-arrow\">Pipeline</label><div class=\"sk-toggleable__content\"><pre>Pipeline(steps=[(&#x27;data_processing&#x27;,\n",
       "                 ColumnTransformer(transformers=[(&#x27;proc_numeric&#x27;,\n",
       "                                                  Pipeline(steps=[(&#x27;impute_missing&#x27;,\n",
       "                                                                   SimpleImputer(strategy=&#x27;median&#x27;)),\n",
       "                                                                  (&#x27;standardize_num&#x27;,\n",
       "                                                                   StandardScaler())]),\n",
       "                                                  [&#x27;submissiontime&#x27;]),\n",
       "                                                 (&#x27;create_dummies&#x27;,\n",
       "                                                  Pipeline(steps=[(&#x27;impute_missing_cats&#x27;,\n",
       "                                                                   SimpleImputer(strategy=&#x27;most_frequent&#x27;)),\n",
       "                                                                  (&#x27;create_dummies_cats&#x27;,\n",
       "                                                                   OneHotEncoder(handle_unknown=&#x27;ignore&#x27;))]),\n",
       "                                                  [&#x27;title&#x27;, &#x27;body&#x27;,\n",
       "                                                   &#x27;signature&#x27;])])),\n",
       "                (&#x27;lm&#x27;, LinearRegression())])</pre></div></div></div><div class=\"sk-serial\"><div class=\"sk-item sk-dashed-wrapped\"><div class=\"sk-label-container\"><div class=\"sk-label sk-toggleable\"><input class=\"sk-toggleable__control sk-hidden--visually\" id=\"sk-estimator-id-2\" type=\"checkbox\" ><label for=\"sk-estimator-id-2\" class=\"sk-toggleable__label sk-toggleable__label-arrow\">data_processing: ColumnTransformer</label><div class=\"sk-toggleable__content\"><pre>ColumnTransformer(transformers=[(&#x27;proc_numeric&#x27;,\n",
       "                                 Pipeline(steps=[(&#x27;impute_missing&#x27;,\n",
       "                                                  SimpleImputer(strategy=&#x27;median&#x27;)),\n",
       "                                                 (&#x27;standardize_num&#x27;,\n",
       "                                                  StandardScaler())]),\n",
       "                                 [&#x27;submissiontime&#x27;]),\n",
       "                                (&#x27;create_dummies&#x27;,\n",
       "                                 Pipeline(steps=[(&#x27;impute_missing_cats&#x27;,\n",
       "                                                  SimpleImputer(strategy=&#x27;most_frequent&#x27;)),\n",
       "                                                 (&#x27;create_dummies_cats&#x27;,\n",
       "                                                  OneHotEncoder(handle_unknown=&#x27;ignore&#x27;))]),\n",
       "                                 [&#x27;title&#x27;, &#x27;body&#x27;, &#x27;signature&#x27;])])</pre></div></div></div><div class=\"sk-parallel\"><div class=\"sk-parallel-item\"><div class=\"sk-item\"><div class=\"sk-label-container\"><div class=\"sk-label sk-toggleable\"><input class=\"sk-toggleable__control sk-hidden--visually\" id=\"sk-estimator-id-3\" type=\"checkbox\" ><label for=\"sk-estimator-id-3\" class=\"sk-toggleable__label sk-toggleable__label-arrow\">proc_numeric</label><div class=\"sk-toggleable__content\"><pre>[&#x27;submissiontime&#x27;]</pre></div></div></div><div class=\"sk-serial\"><div class=\"sk-item\"><div class=\"sk-serial\"><div class=\"sk-item\"><div class=\"sk-estimator sk-toggleable\"><input class=\"sk-toggleable__control sk-hidden--visually\" id=\"sk-estimator-id-4\" type=\"checkbox\" ><label for=\"sk-estimator-id-4\" class=\"sk-toggleable__label sk-toggleable__label-arrow\">SimpleImputer</label><div class=\"sk-toggleable__content\"><pre>SimpleImputer(strategy=&#x27;median&#x27;)</pre></div></div></div><div class=\"sk-item\"><div class=\"sk-estimator sk-toggleable\"><input class=\"sk-toggleable__control sk-hidden--visually\" id=\"sk-estimator-id-5\" type=\"checkbox\" ><label for=\"sk-estimator-id-5\" class=\"sk-toggleable__label sk-toggleable__label-arrow\">StandardScaler</label><div class=\"sk-toggleable__content\"><pre>StandardScaler()</pre></div></div></div></div></div></div></div></div><div class=\"sk-parallel-item\"><div class=\"sk-item\"><div class=\"sk-label-container\"><div class=\"sk-label sk-toggleable\"><input class=\"sk-toggleable__control sk-hidden--visually\" id=\"sk-estimator-id-6\" type=\"checkbox\" ><label for=\"sk-estimator-id-6\" class=\"sk-toggleable__label sk-toggleable__label-arrow\">create_dummies</label><div class=\"sk-toggleable__content\"><pre>[&#x27;title&#x27;, &#x27;body&#x27;, &#x27;signature&#x27;]</pre></div></div></div><div class=\"sk-serial\"><div class=\"sk-item\"><div class=\"sk-serial\"><div class=\"sk-item\"><div class=\"sk-estimator sk-toggleable\"><input class=\"sk-toggleable__control sk-hidden--visually\" id=\"sk-estimator-id-7\" type=\"checkbox\" ><label for=\"sk-estimator-id-7\" class=\"sk-toggleable__label sk-toggleable__label-arrow\">SimpleImputer</label><div class=\"sk-toggleable__content\"><pre>SimpleImputer(strategy=&#x27;most_frequent&#x27;)</pre></div></div></div><div class=\"sk-item\"><div class=\"sk-estimator sk-toggleable\"><input class=\"sk-toggleable__control sk-hidden--visually\" id=\"sk-estimator-id-8\" type=\"checkbox\" ><label for=\"sk-estimator-id-8\" class=\"sk-toggleable__label sk-toggleable__label-arrow\">OneHotEncoder</label><div class=\"sk-toggleable__content\"><pre>OneHotEncoder(handle_unknown=&#x27;ignore&#x27;)</pre></div></div></div></div></div></div></div></div></div></div><div class=\"sk-item\"><div class=\"sk-estimator sk-toggleable\"><input class=\"sk-toggleable__control sk-hidden--visually\" id=\"sk-estimator-id-9\" type=\"checkbox\" ><label for=\"sk-estimator-id-9\" class=\"sk-toggleable__label sk-toggleable__label-arrow\">LinearRegression</label><div class=\"sk-toggleable__content\"><pre>LinearRegression()</pre></div></div></div></div></div></div></div>"
      ],
      "text/plain": [
       "Pipeline(steps=[('data_processing',\n",
       "                 ColumnTransformer(transformers=[('proc_numeric',\n",
       "                                                  Pipeline(steps=[('impute_missing',\n",
       "                                                                   SimpleImputer(strategy='median')),\n",
       "                                                                  ('standardize_num',\n",
       "                                                                   StandardScaler())]),\n",
       "                                                  ['submissiontime']),\n",
       "                                                 ('create_dummies',\n",
       "                                                  Pipeline(steps=[('impute_missing_cats',\n",
       "                                                                   SimpleImputer(strategy='most_frequent')),\n",
       "                                                                  ('create_dummies_cats',\n",
       "                                                                   OneHotEncoder(handle_unknown='ignore'))]),\n",
       "                                                  ['title', 'body',\n",
       "                                                   'signature'])])),\n",
       "                ('lm', LinearRegression())])"
      ]
     },
     "execution_count": 30,
     "metadata": {},
     "output_type": "execute_result"
    }
   ],
   "source": [
    "from sklearn.linear_model import LinearRegression\n",
    "\n",
    "modeling_pipeline = Pipeline([('data_processing', processing_pipeline), \n",
    "                              ('lm', LinearRegression())\n",
    "                             ])\n",
    "modeling_pipeline.fit(X_train, y_train)"
   ]
  },
  {
   "cell_type": "code",
   "execution_count": 31,
   "id": "faf37a3d",
   "metadata": {},
   "outputs": [],
   "source": [
    "y_predict_train = modeling_pipeline.predict(X_train)"
   ]
  },
  {
   "cell_type": "code",
   "execution_count": 32,
   "id": "0498ebc3",
   "metadata": {},
   "outputs": [],
   "source": [
    "y_predict_test = modeling_pipeline.predict(X_test)"
   ]
  },
  {
   "cell_type": "code",
   "execution_count": 33,
   "id": "3d6ad7c2",
   "metadata": {},
   "outputs": [],
   "source": [
    "from sklearn.metrics import mean_squared_error, mean_absolute_error\n",
    "train_mse = mean_squared_error(y_train, y_predict_train)\n",
    "test_mse = mean_squared_error(y_test, y_predict_test)\n",
    "\n",
    "train_rmse = mean_absolute_error(y_train, y_predict_train)\n",
    "test_rmse = mean_absolute_error(y_test, y_predict_test)"
   ]
  },
  {
   "cell_type": "code",
   "execution_count": 34,
   "id": "12b8db7e",
   "metadata": {},
   "outputs": [
    {
     "data": {
      "text/plain": [
       "(0.39695042060045865, 6.640497104023636)"
      ]
     },
     "execution_count": 34,
     "metadata": {},
     "output_type": "execute_result"
    }
   ],
   "source": [
    "train_mse,test_mse"
   ]
  },
  {
   "cell_type": "code",
   "execution_count": 35,
   "id": "d00740e9",
   "metadata": {},
   "outputs": [
    {
     "data": {
      "text/plain": [
       "(0.10354224213612877, 1.6548434306068083)"
      ]
     },
     "execution_count": 35,
     "metadata": {},
     "output_type": "execute_result"
    }
   ],
   "source": [
    "train_rmse,test_rmse"
   ]
  },
  {
   "cell_type": "markdown",
   "id": "bfd519c2",
   "metadata": {},
   "source": [
    "As test MSE is pretty high we can say model is performing better on the training data compared to the test data hence it is overfitting "
   ]
  },
  {
   "cell_type": "markdown",
   "id": "387ee1ef",
   "metadata": {},
   "source": [
    "### Logistic Regression"
   ]
  },
  {
   "cell_type": "code",
   "execution_count": 36,
   "id": "e75c0d7e",
   "metadata": {},
   "outputs": [
    {
     "name": "stderr",
     "output_type": "stream",
     "text": [
      "C:\\Users\\Wihar\\anaconda3\\lib\\site-packages\\sklearn\\linear_model\\_logistic.py:458: ConvergenceWarning: lbfgs failed to converge (status=1):\n",
      "STOP: TOTAL NO. of ITERATIONS REACHED LIMIT.\n",
      "\n",
      "Increase the number of iterations (max_iter) or scale the data as shown in:\n",
      "    https://scikit-learn.org/stable/modules/preprocessing.html\n",
      "Please also refer to the documentation for alternative solver options:\n",
      "    https://scikit-learn.org/stable/modules/linear_model.html#logistic-regression\n",
      "  n_iter_i = _check_optimize_result(\n"
     ]
    },
    {
     "data": {
      "text/html": [
       "<style>#sk-container-id-2 {color: black;background-color: white;}#sk-container-id-2 pre{padding: 0;}#sk-container-id-2 div.sk-toggleable {background-color: white;}#sk-container-id-2 label.sk-toggleable__label {cursor: pointer;display: block;width: 100%;margin-bottom: 0;padding: 0.3em;box-sizing: border-box;text-align: center;}#sk-container-id-2 label.sk-toggleable__label-arrow:before {content: \"▸\";float: left;margin-right: 0.25em;color: #696969;}#sk-container-id-2 label.sk-toggleable__label-arrow:hover:before {color: black;}#sk-container-id-2 div.sk-estimator:hover label.sk-toggleable__label-arrow:before {color: black;}#sk-container-id-2 div.sk-toggleable__content {max-height: 0;max-width: 0;overflow: hidden;text-align: left;background-color: #f0f8ff;}#sk-container-id-2 div.sk-toggleable__content pre {margin: 0.2em;color: black;border-radius: 0.25em;background-color: #f0f8ff;}#sk-container-id-2 input.sk-toggleable__control:checked~div.sk-toggleable__content {max-height: 200px;max-width: 100%;overflow: auto;}#sk-container-id-2 input.sk-toggleable__control:checked~label.sk-toggleable__label-arrow:before {content: \"▾\";}#sk-container-id-2 div.sk-estimator input.sk-toggleable__control:checked~label.sk-toggleable__label {background-color: #d4ebff;}#sk-container-id-2 div.sk-label input.sk-toggleable__control:checked~label.sk-toggleable__label {background-color: #d4ebff;}#sk-container-id-2 input.sk-hidden--visually {border: 0;clip: rect(1px 1px 1px 1px);clip: rect(1px, 1px, 1px, 1px);height: 1px;margin: -1px;overflow: hidden;padding: 0;position: absolute;width: 1px;}#sk-container-id-2 div.sk-estimator {font-family: monospace;background-color: #f0f8ff;border: 1px dotted black;border-radius: 0.25em;box-sizing: border-box;margin-bottom: 0.5em;}#sk-container-id-2 div.sk-estimator:hover {background-color: #d4ebff;}#sk-container-id-2 div.sk-parallel-item::after {content: \"\";width: 100%;border-bottom: 1px solid gray;flex-grow: 1;}#sk-container-id-2 div.sk-label:hover label.sk-toggleable__label {background-color: #d4ebff;}#sk-container-id-2 div.sk-serial::before {content: \"\";position: absolute;border-left: 1px solid gray;box-sizing: border-box;top: 0;bottom: 0;left: 50%;z-index: 0;}#sk-container-id-2 div.sk-serial {display: flex;flex-direction: column;align-items: center;background-color: white;padding-right: 0.2em;padding-left: 0.2em;position: relative;}#sk-container-id-2 div.sk-item {position: relative;z-index: 1;}#sk-container-id-2 div.sk-parallel {display: flex;align-items: stretch;justify-content: center;background-color: white;position: relative;}#sk-container-id-2 div.sk-item::before, #sk-container-id-2 div.sk-parallel-item::before {content: \"\";position: absolute;border-left: 1px solid gray;box-sizing: border-box;top: 0;bottom: 0;left: 50%;z-index: -1;}#sk-container-id-2 div.sk-parallel-item {display: flex;flex-direction: column;z-index: 1;position: relative;background-color: white;}#sk-container-id-2 div.sk-parallel-item:first-child::after {align-self: flex-end;width: 50%;}#sk-container-id-2 div.sk-parallel-item:last-child::after {align-self: flex-start;width: 50%;}#sk-container-id-2 div.sk-parallel-item:only-child::after {width: 0;}#sk-container-id-2 div.sk-dashed-wrapped {border: 1px dashed gray;margin: 0 0.4em 0.5em 0.4em;box-sizing: border-box;padding-bottom: 0.4em;background-color: white;}#sk-container-id-2 div.sk-label label {font-family: monospace;font-weight: bold;display: inline-block;line-height: 1.2em;}#sk-container-id-2 div.sk-label-container {text-align: center;}#sk-container-id-2 div.sk-container {/* jupyter's `normalize.less` sets `[hidden] { display: none; }` but bootstrap.min.css set `[hidden] { display: none !important; }` so we also need the `!important` here to be able to override the default hidden behavior on the sphinx rendered scikit-learn.org. See: https://github.com/scikit-learn/scikit-learn/issues/21755 */display: inline-block !important;position: relative;}#sk-container-id-2 div.sk-text-repr-fallback {display: none;}</style><div id=\"sk-container-id-2\" class=\"sk-top-container\"><div class=\"sk-text-repr-fallback\"><pre>Pipeline(steps=[(&#x27;data_processing&#x27;,\n",
       "                 ColumnTransformer(transformers=[(&#x27;proc_numeric&#x27;,\n",
       "                                                  Pipeline(steps=[(&#x27;impute_missing&#x27;,\n",
       "                                                                   SimpleImputer(strategy=&#x27;median&#x27;)),\n",
       "                                                                  (&#x27;standardize_num&#x27;,\n",
       "                                                                   StandardScaler())]),\n",
       "                                                  [&#x27;submissiontime&#x27;]),\n",
       "                                                 (&#x27;create_dummies&#x27;,\n",
       "                                                  Pipeline(steps=[(&#x27;impute_missing_cats&#x27;,\n",
       "                                                                   SimpleImputer(strategy=&#x27;most_frequent&#x27;)),\n",
       "                                                                  (&#x27;create_dummies_cats&#x27;,\n",
       "                                                                   OneHotEncoder(handle_unknown=&#x27;ignore&#x27;))]),\n",
       "                                                  [&#x27;title&#x27;, &#x27;body&#x27;,\n",
       "                                                   &#x27;signature&#x27;])])),\n",
       "                (&#x27;logreg&#x27;, LogisticRegression(penalty=None))])</pre><b>In a Jupyter environment, please rerun this cell to show the HTML representation or trust the notebook. <br />On GitHub, the HTML representation is unable to render, please try loading this page with nbviewer.org.</b></div><div class=\"sk-container\" hidden><div class=\"sk-item sk-dashed-wrapped\"><div class=\"sk-label-container\"><div class=\"sk-label sk-toggleable\"><input class=\"sk-toggleable__control sk-hidden--visually\" id=\"sk-estimator-id-10\" type=\"checkbox\" ><label for=\"sk-estimator-id-10\" class=\"sk-toggleable__label sk-toggleable__label-arrow\">Pipeline</label><div class=\"sk-toggleable__content\"><pre>Pipeline(steps=[(&#x27;data_processing&#x27;,\n",
       "                 ColumnTransformer(transformers=[(&#x27;proc_numeric&#x27;,\n",
       "                                                  Pipeline(steps=[(&#x27;impute_missing&#x27;,\n",
       "                                                                   SimpleImputer(strategy=&#x27;median&#x27;)),\n",
       "                                                                  (&#x27;standardize_num&#x27;,\n",
       "                                                                   StandardScaler())]),\n",
       "                                                  [&#x27;submissiontime&#x27;]),\n",
       "                                                 (&#x27;create_dummies&#x27;,\n",
       "                                                  Pipeline(steps=[(&#x27;impute_missing_cats&#x27;,\n",
       "                                                                   SimpleImputer(strategy=&#x27;most_frequent&#x27;)),\n",
       "                                                                  (&#x27;create_dummies_cats&#x27;,\n",
       "                                                                   OneHotEncoder(handle_unknown=&#x27;ignore&#x27;))]),\n",
       "                                                  [&#x27;title&#x27;, &#x27;body&#x27;,\n",
       "                                                   &#x27;signature&#x27;])])),\n",
       "                (&#x27;logreg&#x27;, LogisticRegression(penalty=None))])</pre></div></div></div><div class=\"sk-serial\"><div class=\"sk-item sk-dashed-wrapped\"><div class=\"sk-label-container\"><div class=\"sk-label sk-toggleable\"><input class=\"sk-toggleable__control sk-hidden--visually\" id=\"sk-estimator-id-11\" type=\"checkbox\" ><label for=\"sk-estimator-id-11\" class=\"sk-toggleable__label sk-toggleable__label-arrow\">data_processing: ColumnTransformer</label><div class=\"sk-toggleable__content\"><pre>ColumnTransformer(transformers=[(&#x27;proc_numeric&#x27;,\n",
       "                                 Pipeline(steps=[(&#x27;impute_missing&#x27;,\n",
       "                                                  SimpleImputer(strategy=&#x27;median&#x27;)),\n",
       "                                                 (&#x27;standardize_num&#x27;,\n",
       "                                                  StandardScaler())]),\n",
       "                                 [&#x27;submissiontime&#x27;]),\n",
       "                                (&#x27;create_dummies&#x27;,\n",
       "                                 Pipeline(steps=[(&#x27;impute_missing_cats&#x27;,\n",
       "                                                  SimpleImputer(strategy=&#x27;most_frequent&#x27;)),\n",
       "                                                 (&#x27;create_dummies_cats&#x27;,\n",
       "                                                  OneHotEncoder(handle_unknown=&#x27;ignore&#x27;))]),\n",
       "                                 [&#x27;title&#x27;, &#x27;body&#x27;, &#x27;signature&#x27;])])</pre></div></div></div><div class=\"sk-parallel\"><div class=\"sk-parallel-item\"><div class=\"sk-item\"><div class=\"sk-label-container\"><div class=\"sk-label sk-toggleable\"><input class=\"sk-toggleable__control sk-hidden--visually\" id=\"sk-estimator-id-12\" type=\"checkbox\" ><label for=\"sk-estimator-id-12\" class=\"sk-toggleable__label sk-toggleable__label-arrow\">proc_numeric</label><div class=\"sk-toggleable__content\"><pre>[&#x27;submissiontime&#x27;]</pre></div></div></div><div class=\"sk-serial\"><div class=\"sk-item\"><div class=\"sk-serial\"><div class=\"sk-item\"><div class=\"sk-estimator sk-toggleable\"><input class=\"sk-toggleable__control sk-hidden--visually\" id=\"sk-estimator-id-13\" type=\"checkbox\" ><label for=\"sk-estimator-id-13\" class=\"sk-toggleable__label sk-toggleable__label-arrow\">SimpleImputer</label><div class=\"sk-toggleable__content\"><pre>SimpleImputer(strategy=&#x27;median&#x27;)</pre></div></div></div><div class=\"sk-item\"><div class=\"sk-estimator sk-toggleable\"><input class=\"sk-toggleable__control sk-hidden--visually\" id=\"sk-estimator-id-14\" type=\"checkbox\" ><label for=\"sk-estimator-id-14\" class=\"sk-toggleable__label sk-toggleable__label-arrow\">StandardScaler</label><div class=\"sk-toggleable__content\"><pre>StandardScaler()</pre></div></div></div></div></div></div></div></div><div class=\"sk-parallel-item\"><div class=\"sk-item\"><div class=\"sk-label-container\"><div class=\"sk-label sk-toggleable\"><input class=\"sk-toggleable__control sk-hidden--visually\" id=\"sk-estimator-id-15\" type=\"checkbox\" ><label for=\"sk-estimator-id-15\" class=\"sk-toggleable__label sk-toggleable__label-arrow\">create_dummies</label><div class=\"sk-toggleable__content\"><pre>[&#x27;title&#x27;, &#x27;body&#x27;, &#x27;signature&#x27;]</pre></div></div></div><div class=\"sk-serial\"><div class=\"sk-item\"><div class=\"sk-serial\"><div class=\"sk-item\"><div class=\"sk-estimator sk-toggleable\"><input class=\"sk-toggleable__control sk-hidden--visually\" id=\"sk-estimator-id-16\" type=\"checkbox\" ><label for=\"sk-estimator-id-16\" class=\"sk-toggleable__label sk-toggleable__label-arrow\">SimpleImputer</label><div class=\"sk-toggleable__content\"><pre>SimpleImputer(strategy=&#x27;most_frequent&#x27;)</pre></div></div></div><div class=\"sk-item\"><div class=\"sk-estimator sk-toggleable\"><input class=\"sk-toggleable__control sk-hidden--visually\" id=\"sk-estimator-id-17\" type=\"checkbox\" ><label for=\"sk-estimator-id-17\" class=\"sk-toggleable__label sk-toggleable__label-arrow\">OneHotEncoder</label><div class=\"sk-toggleable__content\"><pre>OneHotEncoder(handle_unknown=&#x27;ignore&#x27;)</pre></div></div></div></div></div></div></div></div></div></div><div class=\"sk-item\"><div class=\"sk-estimator sk-toggleable\"><input class=\"sk-toggleable__control sk-hidden--visually\" id=\"sk-estimator-id-18\" type=\"checkbox\" ><label for=\"sk-estimator-id-18\" class=\"sk-toggleable__label sk-toggleable__label-arrow\">LogisticRegression</label><div class=\"sk-toggleable__content\"><pre>LogisticRegression(penalty=None)</pre></div></div></div></div></div></div></div>"
      ],
      "text/plain": [
       "Pipeline(steps=[('data_processing',\n",
       "                 ColumnTransformer(transformers=[('proc_numeric',\n",
       "                                                  Pipeline(steps=[('impute_missing',\n",
       "                                                                   SimpleImputer(strategy='median')),\n",
       "                                                                  ('standardize_num',\n",
       "                                                                   StandardScaler())]),\n",
       "                                                  ['submissiontime']),\n",
       "                                                 ('create_dummies',\n",
       "                                                  Pipeline(steps=[('impute_missing_cats',\n",
       "                                                                   SimpleImputer(strategy='most_frequent')),\n",
       "                                                                  ('create_dummies_cats',\n",
       "                                                                   OneHotEncoder(handle_unknown='ignore'))]),\n",
       "                                                  ['title', 'body',\n",
       "                                                   'signature'])])),\n",
       "                ('logreg', LogisticRegression(penalty=None))])"
      ]
     },
     "execution_count": 36,
     "metadata": {},
     "output_type": "execute_result"
    }
   ],
   "source": [
    "from sklearn.linear_model import LogisticRegression\n",
    "log_modeling_pipeline = Pipeline([\n",
    "        ('data_processing', processing_pipeline),\n",
    "        ('logreg', LogisticRegression(penalty=None))]\n",
    "    )\n",
    "log_modeling_pipeline.fit(X_train, y_train)"
   ]
  },
  {
   "cell_type": "code",
   "execution_count": 37,
   "id": "50cb6df6",
   "metadata": {},
   "outputs": [],
   "source": [
    "y_predict_train = log_modeling_pipeline.predict(X_train)\n",
    "y_predict_test = log_modeling_pipeline.predict(X_test)"
   ]
  },
  {
   "cell_type": "code",
   "execution_count": 38,
   "id": "e8eec48d",
   "metadata": {},
   "outputs": [
    {
     "name": "stdout",
     "output_type": "stream",
     "text": [
      "Training accuracy is 0.9864839018170226\n",
      "Test accuracy is 0.7417134115247322\n"
     ]
    }
   ],
   "source": [
    "from sklearn.metrics import accuracy_score\n",
    "train_accuracy = accuracy_score(y_train, y_predict_train)\n",
    "test_accuracy = accuracy_score(y_test, y_predict_test)\n",
    "\n",
    "print(\"Training accuracy is\", train_accuracy)\n",
    "print(\"Test accuracy is\", test_accuracy)"
   ]
  },
  {
   "cell_type": "markdown",
   "id": "c7bd2cb8",
   "metadata": {},
   "source": [
    "### Decision Trees"
   ]
  },
  {
   "cell_type": "code",
   "execution_count": 39,
   "id": "a458b88b",
   "metadata": {},
   "outputs": [
    {
     "data": {
      "text/html": [
       "<style>#sk-container-id-3 {color: black;background-color: white;}#sk-container-id-3 pre{padding: 0;}#sk-container-id-3 div.sk-toggleable {background-color: white;}#sk-container-id-3 label.sk-toggleable__label {cursor: pointer;display: block;width: 100%;margin-bottom: 0;padding: 0.3em;box-sizing: border-box;text-align: center;}#sk-container-id-3 label.sk-toggleable__label-arrow:before {content: \"▸\";float: left;margin-right: 0.25em;color: #696969;}#sk-container-id-3 label.sk-toggleable__label-arrow:hover:before {color: black;}#sk-container-id-3 div.sk-estimator:hover label.sk-toggleable__label-arrow:before {color: black;}#sk-container-id-3 div.sk-toggleable__content {max-height: 0;max-width: 0;overflow: hidden;text-align: left;background-color: #f0f8ff;}#sk-container-id-3 div.sk-toggleable__content pre {margin: 0.2em;color: black;border-radius: 0.25em;background-color: #f0f8ff;}#sk-container-id-3 input.sk-toggleable__control:checked~div.sk-toggleable__content {max-height: 200px;max-width: 100%;overflow: auto;}#sk-container-id-3 input.sk-toggleable__control:checked~label.sk-toggleable__label-arrow:before {content: \"▾\";}#sk-container-id-3 div.sk-estimator input.sk-toggleable__control:checked~label.sk-toggleable__label {background-color: #d4ebff;}#sk-container-id-3 div.sk-label input.sk-toggleable__control:checked~label.sk-toggleable__label {background-color: #d4ebff;}#sk-container-id-3 input.sk-hidden--visually {border: 0;clip: rect(1px 1px 1px 1px);clip: rect(1px, 1px, 1px, 1px);height: 1px;margin: -1px;overflow: hidden;padding: 0;position: absolute;width: 1px;}#sk-container-id-3 div.sk-estimator {font-family: monospace;background-color: #f0f8ff;border: 1px dotted black;border-radius: 0.25em;box-sizing: border-box;margin-bottom: 0.5em;}#sk-container-id-3 div.sk-estimator:hover {background-color: #d4ebff;}#sk-container-id-3 div.sk-parallel-item::after {content: \"\";width: 100%;border-bottom: 1px solid gray;flex-grow: 1;}#sk-container-id-3 div.sk-label:hover label.sk-toggleable__label {background-color: #d4ebff;}#sk-container-id-3 div.sk-serial::before {content: \"\";position: absolute;border-left: 1px solid gray;box-sizing: border-box;top: 0;bottom: 0;left: 50%;z-index: 0;}#sk-container-id-3 div.sk-serial {display: flex;flex-direction: column;align-items: center;background-color: white;padding-right: 0.2em;padding-left: 0.2em;position: relative;}#sk-container-id-3 div.sk-item {position: relative;z-index: 1;}#sk-container-id-3 div.sk-parallel {display: flex;align-items: stretch;justify-content: center;background-color: white;position: relative;}#sk-container-id-3 div.sk-item::before, #sk-container-id-3 div.sk-parallel-item::before {content: \"\";position: absolute;border-left: 1px solid gray;box-sizing: border-box;top: 0;bottom: 0;left: 50%;z-index: -1;}#sk-container-id-3 div.sk-parallel-item {display: flex;flex-direction: column;z-index: 1;position: relative;background-color: white;}#sk-container-id-3 div.sk-parallel-item:first-child::after {align-self: flex-end;width: 50%;}#sk-container-id-3 div.sk-parallel-item:last-child::after {align-self: flex-start;width: 50%;}#sk-container-id-3 div.sk-parallel-item:only-child::after {width: 0;}#sk-container-id-3 div.sk-dashed-wrapped {border: 1px dashed gray;margin: 0 0.4em 0.5em 0.4em;box-sizing: border-box;padding-bottom: 0.4em;background-color: white;}#sk-container-id-3 div.sk-label label {font-family: monospace;font-weight: bold;display: inline-block;line-height: 1.2em;}#sk-container-id-3 div.sk-label-container {text-align: center;}#sk-container-id-3 div.sk-container {/* jupyter's `normalize.less` sets `[hidden] { display: none; }` but bootstrap.min.css set `[hidden] { display: none !important; }` so we also need the `!important` here to be able to override the default hidden behavior on the sphinx rendered scikit-learn.org. See: https://github.com/scikit-learn/scikit-learn/issues/21755 */display: inline-block !important;position: relative;}#sk-container-id-3 div.sk-text-repr-fallback {display: none;}</style><div id=\"sk-container-id-3\" class=\"sk-top-container\"><div class=\"sk-text-repr-fallback\"><pre>Pipeline(steps=[(&#x27;data_processing&#x27;,\n",
       "                 ColumnTransformer(transformers=[(&#x27;proc_numeric&#x27;,\n",
       "                                                  Pipeline(steps=[(&#x27;impute_missing&#x27;,\n",
       "                                                                   SimpleImputer(strategy=&#x27;median&#x27;)),\n",
       "                                                                  (&#x27;standardize_num&#x27;,\n",
       "                                                                   StandardScaler())]),\n",
       "                                                  [&#x27;submissiontime&#x27;]),\n",
       "                                                 (&#x27;create_dummies&#x27;,\n",
       "                                                  Pipeline(steps=[(&#x27;impute_missing_cats&#x27;,\n",
       "                                                                   SimpleImputer(strategy=&#x27;most_frequent&#x27;)),\n",
       "                                                                  (&#x27;create_dummies_cats&#x27;,\n",
       "                                                                   OneHotEncoder(handle_unknown=&#x27;ignore&#x27;))]),\n",
       "                                                  [&#x27;title&#x27;, &#x27;body&#x27;,\n",
       "                                                   &#x27;signature&#x27;])])),\n",
       "                (&#x27;dt&#x27;, DecisionTreeClassifier())])</pre><b>In a Jupyter environment, please rerun this cell to show the HTML representation or trust the notebook. <br />On GitHub, the HTML representation is unable to render, please try loading this page with nbviewer.org.</b></div><div class=\"sk-container\" hidden><div class=\"sk-item sk-dashed-wrapped\"><div class=\"sk-label-container\"><div class=\"sk-label sk-toggleable\"><input class=\"sk-toggleable__control sk-hidden--visually\" id=\"sk-estimator-id-19\" type=\"checkbox\" ><label for=\"sk-estimator-id-19\" class=\"sk-toggleable__label sk-toggleable__label-arrow\">Pipeline</label><div class=\"sk-toggleable__content\"><pre>Pipeline(steps=[(&#x27;data_processing&#x27;,\n",
       "                 ColumnTransformer(transformers=[(&#x27;proc_numeric&#x27;,\n",
       "                                                  Pipeline(steps=[(&#x27;impute_missing&#x27;,\n",
       "                                                                   SimpleImputer(strategy=&#x27;median&#x27;)),\n",
       "                                                                  (&#x27;standardize_num&#x27;,\n",
       "                                                                   StandardScaler())]),\n",
       "                                                  [&#x27;submissiontime&#x27;]),\n",
       "                                                 (&#x27;create_dummies&#x27;,\n",
       "                                                  Pipeline(steps=[(&#x27;impute_missing_cats&#x27;,\n",
       "                                                                   SimpleImputer(strategy=&#x27;most_frequent&#x27;)),\n",
       "                                                                  (&#x27;create_dummies_cats&#x27;,\n",
       "                                                                   OneHotEncoder(handle_unknown=&#x27;ignore&#x27;))]),\n",
       "                                                  [&#x27;title&#x27;, &#x27;body&#x27;,\n",
       "                                                   &#x27;signature&#x27;])])),\n",
       "                (&#x27;dt&#x27;, DecisionTreeClassifier())])</pre></div></div></div><div class=\"sk-serial\"><div class=\"sk-item sk-dashed-wrapped\"><div class=\"sk-label-container\"><div class=\"sk-label sk-toggleable\"><input class=\"sk-toggleable__control sk-hidden--visually\" id=\"sk-estimator-id-20\" type=\"checkbox\" ><label for=\"sk-estimator-id-20\" class=\"sk-toggleable__label sk-toggleable__label-arrow\">data_processing: ColumnTransformer</label><div class=\"sk-toggleable__content\"><pre>ColumnTransformer(transformers=[(&#x27;proc_numeric&#x27;,\n",
       "                                 Pipeline(steps=[(&#x27;impute_missing&#x27;,\n",
       "                                                  SimpleImputer(strategy=&#x27;median&#x27;)),\n",
       "                                                 (&#x27;standardize_num&#x27;,\n",
       "                                                  StandardScaler())]),\n",
       "                                 [&#x27;submissiontime&#x27;]),\n",
       "                                (&#x27;create_dummies&#x27;,\n",
       "                                 Pipeline(steps=[(&#x27;impute_missing_cats&#x27;,\n",
       "                                                  SimpleImputer(strategy=&#x27;most_frequent&#x27;)),\n",
       "                                                 (&#x27;create_dummies_cats&#x27;,\n",
       "                                                  OneHotEncoder(handle_unknown=&#x27;ignore&#x27;))]),\n",
       "                                 [&#x27;title&#x27;, &#x27;body&#x27;, &#x27;signature&#x27;])])</pre></div></div></div><div class=\"sk-parallel\"><div class=\"sk-parallel-item\"><div class=\"sk-item\"><div class=\"sk-label-container\"><div class=\"sk-label sk-toggleable\"><input class=\"sk-toggleable__control sk-hidden--visually\" id=\"sk-estimator-id-21\" type=\"checkbox\" ><label for=\"sk-estimator-id-21\" class=\"sk-toggleable__label sk-toggleable__label-arrow\">proc_numeric</label><div class=\"sk-toggleable__content\"><pre>[&#x27;submissiontime&#x27;]</pre></div></div></div><div class=\"sk-serial\"><div class=\"sk-item\"><div class=\"sk-serial\"><div class=\"sk-item\"><div class=\"sk-estimator sk-toggleable\"><input class=\"sk-toggleable__control sk-hidden--visually\" id=\"sk-estimator-id-22\" type=\"checkbox\" ><label for=\"sk-estimator-id-22\" class=\"sk-toggleable__label sk-toggleable__label-arrow\">SimpleImputer</label><div class=\"sk-toggleable__content\"><pre>SimpleImputer(strategy=&#x27;median&#x27;)</pre></div></div></div><div class=\"sk-item\"><div class=\"sk-estimator sk-toggleable\"><input class=\"sk-toggleable__control sk-hidden--visually\" id=\"sk-estimator-id-23\" type=\"checkbox\" ><label for=\"sk-estimator-id-23\" class=\"sk-toggleable__label sk-toggleable__label-arrow\">StandardScaler</label><div class=\"sk-toggleable__content\"><pre>StandardScaler()</pre></div></div></div></div></div></div></div></div><div class=\"sk-parallel-item\"><div class=\"sk-item\"><div class=\"sk-label-container\"><div class=\"sk-label sk-toggleable\"><input class=\"sk-toggleable__control sk-hidden--visually\" id=\"sk-estimator-id-24\" type=\"checkbox\" ><label for=\"sk-estimator-id-24\" class=\"sk-toggleable__label sk-toggleable__label-arrow\">create_dummies</label><div class=\"sk-toggleable__content\"><pre>[&#x27;title&#x27;, &#x27;body&#x27;, &#x27;signature&#x27;]</pre></div></div></div><div class=\"sk-serial\"><div class=\"sk-item\"><div class=\"sk-serial\"><div class=\"sk-item\"><div class=\"sk-estimator sk-toggleable\"><input class=\"sk-toggleable__control sk-hidden--visually\" id=\"sk-estimator-id-25\" type=\"checkbox\" ><label for=\"sk-estimator-id-25\" class=\"sk-toggleable__label sk-toggleable__label-arrow\">SimpleImputer</label><div class=\"sk-toggleable__content\"><pre>SimpleImputer(strategy=&#x27;most_frequent&#x27;)</pre></div></div></div><div class=\"sk-item\"><div class=\"sk-estimator sk-toggleable\"><input class=\"sk-toggleable__control sk-hidden--visually\" id=\"sk-estimator-id-26\" type=\"checkbox\" ><label for=\"sk-estimator-id-26\" class=\"sk-toggleable__label sk-toggleable__label-arrow\">OneHotEncoder</label><div class=\"sk-toggleable__content\"><pre>OneHotEncoder(handle_unknown=&#x27;ignore&#x27;)</pre></div></div></div></div></div></div></div></div></div></div><div class=\"sk-item\"><div class=\"sk-estimator sk-toggleable\"><input class=\"sk-toggleable__control sk-hidden--visually\" id=\"sk-estimator-id-27\" type=\"checkbox\" ><label for=\"sk-estimator-id-27\" class=\"sk-toggleable__label sk-toggleable__label-arrow\">DecisionTreeClassifier</label><div class=\"sk-toggleable__content\"><pre>DecisionTreeClassifier()</pre></div></div></div></div></div></div></div>"
      ],
      "text/plain": [
       "Pipeline(steps=[('data_processing',\n",
       "                 ColumnTransformer(transformers=[('proc_numeric',\n",
       "                                                  Pipeline(steps=[('impute_missing',\n",
       "                                                                   SimpleImputer(strategy='median')),\n",
       "                                                                  ('standardize_num',\n",
       "                                                                   StandardScaler())]),\n",
       "                                                  ['submissiontime']),\n",
       "                                                 ('create_dummies',\n",
       "                                                  Pipeline(steps=[('impute_missing_cats',\n",
       "                                                                   SimpleImputer(strategy='most_frequent')),\n",
       "                                                                  ('create_dummies_cats',\n",
       "                                                                   OneHotEncoder(handle_unknown='ignore'))]),\n",
       "                                                  ['title', 'body',\n",
       "                                                   'signature'])])),\n",
       "                ('dt', DecisionTreeClassifier())])"
      ]
     },
     "execution_count": 39,
     "metadata": {},
     "output_type": "execute_result"
    }
   ],
   "source": [
    "from sklearn.tree import DecisionTreeClassifier\n",
    "dt_modeling_pipeline = Pipeline([\n",
    "    ('data_processing', processing_pipeline),\n",
    "    ('dt', DecisionTreeClassifier())]\n",
    ")\n",
    "dt_modeling_pipeline.fit(X_train, y_train)"
   ]
  },
  {
   "cell_type": "code",
   "execution_count": 40,
   "id": "3f878d44",
   "metadata": {},
   "outputs": [],
   "source": [
    "y_predict_train = dt_modeling_pipeline.predict(X_train)\n",
    "y_predict_test = dt_modeling_pipeline.predict(X_test)"
   ]
  },
  {
   "cell_type": "code",
   "execution_count": 41,
   "id": "a503e6a4",
   "metadata": {},
   "outputs": [
    {
     "name": "stdout",
     "output_type": "stream",
     "text": [
      "Training accuracy is 0.9963659547338222\n",
      "Test accuracy is 0.7514023457419684\n"
     ]
    }
   ],
   "source": [
    "from sklearn.metrics import accuracy_score\n",
    "train_accuracy = accuracy_score(y_train, y_predict_train)\n",
    "test_accuracy = accuracy_score(y_test, y_predict_test)\n",
    "\n",
    "print(\"Training accuracy is\", train_accuracy)\n",
    "print(\"Test accuracy is\", test_accuracy)"
   ]
  },
  {
   "cell_type": "markdown",
   "id": "4b6997f0",
   "metadata": {},
   "source": [
    "### Random Forest"
   ]
  },
  {
   "cell_type": "code",
   "execution_count": 42,
   "id": "20458a5e",
   "metadata": {},
   "outputs": [
    {
     "data": {
      "text/html": [
       "<style>#sk-container-id-4 {color: black;background-color: white;}#sk-container-id-4 pre{padding: 0;}#sk-container-id-4 div.sk-toggleable {background-color: white;}#sk-container-id-4 label.sk-toggleable__label {cursor: pointer;display: block;width: 100%;margin-bottom: 0;padding: 0.3em;box-sizing: border-box;text-align: center;}#sk-container-id-4 label.sk-toggleable__label-arrow:before {content: \"▸\";float: left;margin-right: 0.25em;color: #696969;}#sk-container-id-4 label.sk-toggleable__label-arrow:hover:before {color: black;}#sk-container-id-4 div.sk-estimator:hover label.sk-toggleable__label-arrow:before {color: black;}#sk-container-id-4 div.sk-toggleable__content {max-height: 0;max-width: 0;overflow: hidden;text-align: left;background-color: #f0f8ff;}#sk-container-id-4 div.sk-toggleable__content pre {margin: 0.2em;color: black;border-radius: 0.25em;background-color: #f0f8ff;}#sk-container-id-4 input.sk-toggleable__control:checked~div.sk-toggleable__content {max-height: 200px;max-width: 100%;overflow: auto;}#sk-container-id-4 input.sk-toggleable__control:checked~label.sk-toggleable__label-arrow:before {content: \"▾\";}#sk-container-id-4 div.sk-estimator input.sk-toggleable__control:checked~label.sk-toggleable__label {background-color: #d4ebff;}#sk-container-id-4 div.sk-label input.sk-toggleable__control:checked~label.sk-toggleable__label {background-color: #d4ebff;}#sk-container-id-4 input.sk-hidden--visually {border: 0;clip: rect(1px 1px 1px 1px);clip: rect(1px, 1px, 1px, 1px);height: 1px;margin: -1px;overflow: hidden;padding: 0;position: absolute;width: 1px;}#sk-container-id-4 div.sk-estimator {font-family: monospace;background-color: #f0f8ff;border: 1px dotted black;border-radius: 0.25em;box-sizing: border-box;margin-bottom: 0.5em;}#sk-container-id-4 div.sk-estimator:hover {background-color: #d4ebff;}#sk-container-id-4 div.sk-parallel-item::after {content: \"\";width: 100%;border-bottom: 1px solid gray;flex-grow: 1;}#sk-container-id-4 div.sk-label:hover label.sk-toggleable__label {background-color: #d4ebff;}#sk-container-id-4 div.sk-serial::before {content: \"\";position: absolute;border-left: 1px solid gray;box-sizing: border-box;top: 0;bottom: 0;left: 50%;z-index: 0;}#sk-container-id-4 div.sk-serial {display: flex;flex-direction: column;align-items: center;background-color: white;padding-right: 0.2em;padding-left: 0.2em;position: relative;}#sk-container-id-4 div.sk-item {position: relative;z-index: 1;}#sk-container-id-4 div.sk-parallel {display: flex;align-items: stretch;justify-content: center;background-color: white;position: relative;}#sk-container-id-4 div.sk-item::before, #sk-container-id-4 div.sk-parallel-item::before {content: \"\";position: absolute;border-left: 1px solid gray;box-sizing: border-box;top: 0;bottom: 0;left: 50%;z-index: -1;}#sk-container-id-4 div.sk-parallel-item {display: flex;flex-direction: column;z-index: 1;position: relative;background-color: white;}#sk-container-id-4 div.sk-parallel-item:first-child::after {align-self: flex-end;width: 50%;}#sk-container-id-4 div.sk-parallel-item:last-child::after {align-self: flex-start;width: 50%;}#sk-container-id-4 div.sk-parallel-item:only-child::after {width: 0;}#sk-container-id-4 div.sk-dashed-wrapped {border: 1px dashed gray;margin: 0 0.4em 0.5em 0.4em;box-sizing: border-box;padding-bottom: 0.4em;background-color: white;}#sk-container-id-4 div.sk-label label {font-family: monospace;font-weight: bold;display: inline-block;line-height: 1.2em;}#sk-container-id-4 div.sk-label-container {text-align: center;}#sk-container-id-4 div.sk-container {/* jupyter's `normalize.less` sets `[hidden] { display: none; }` but bootstrap.min.css set `[hidden] { display: none !important; }` so we also need the `!important` here to be able to override the default hidden behavior on the sphinx rendered scikit-learn.org. See: https://github.com/scikit-learn/scikit-learn/issues/21755 */display: inline-block !important;position: relative;}#sk-container-id-4 div.sk-text-repr-fallback {display: none;}</style><div id=\"sk-container-id-4\" class=\"sk-top-container\"><div class=\"sk-text-repr-fallback\"><pre>Pipeline(steps=[(&#x27;data_processing&#x27;,\n",
       "                 ColumnTransformer(transformers=[(&#x27;proc_numeric&#x27;,\n",
       "                                                  Pipeline(steps=[(&#x27;impute_missing&#x27;,\n",
       "                                                                   SimpleImputer(strategy=&#x27;median&#x27;)),\n",
       "                                                                  (&#x27;standardize_num&#x27;,\n",
       "                                                                   StandardScaler())]),\n",
       "                                                  [&#x27;submissiontime&#x27;]),\n",
       "                                                 (&#x27;create_dummies&#x27;,\n",
       "                                                  Pipeline(steps=[(&#x27;impute_missing_cats&#x27;,\n",
       "                                                                   SimpleImputer(strategy=&#x27;most_frequent&#x27;)),\n",
       "                                                                  (&#x27;create_dummies_cats&#x27;,\n",
       "                                                                   OneHotEncoder(handle_unknown=&#x27;ignore&#x27;))]),\n",
       "                                                  [&#x27;title&#x27;, &#x27;body&#x27;,\n",
       "                                                   &#x27;signature&#x27;])])),\n",
       "                (&#x27;rf&#x27;, RandomForestClassifier())])</pre><b>In a Jupyter environment, please rerun this cell to show the HTML representation or trust the notebook. <br />On GitHub, the HTML representation is unable to render, please try loading this page with nbviewer.org.</b></div><div class=\"sk-container\" hidden><div class=\"sk-item sk-dashed-wrapped\"><div class=\"sk-label-container\"><div class=\"sk-label sk-toggleable\"><input class=\"sk-toggleable__control sk-hidden--visually\" id=\"sk-estimator-id-28\" type=\"checkbox\" ><label for=\"sk-estimator-id-28\" class=\"sk-toggleable__label sk-toggleable__label-arrow\">Pipeline</label><div class=\"sk-toggleable__content\"><pre>Pipeline(steps=[(&#x27;data_processing&#x27;,\n",
       "                 ColumnTransformer(transformers=[(&#x27;proc_numeric&#x27;,\n",
       "                                                  Pipeline(steps=[(&#x27;impute_missing&#x27;,\n",
       "                                                                   SimpleImputer(strategy=&#x27;median&#x27;)),\n",
       "                                                                  (&#x27;standardize_num&#x27;,\n",
       "                                                                   StandardScaler())]),\n",
       "                                                  [&#x27;submissiontime&#x27;]),\n",
       "                                                 (&#x27;create_dummies&#x27;,\n",
       "                                                  Pipeline(steps=[(&#x27;impute_missing_cats&#x27;,\n",
       "                                                                   SimpleImputer(strategy=&#x27;most_frequent&#x27;)),\n",
       "                                                                  (&#x27;create_dummies_cats&#x27;,\n",
       "                                                                   OneHotEncoder(handle_unknown=&#x27;ignore&#x27;))]),\n",
       "                                                  [&#x27;title&#x27;, &#x27;body&#x27;,\n",
       "                                                   &#x27;signature&#x27;])])),\n",
       "                (&#x27;rf&#x27;, RandomForestClassifier())])</pre></div></div></div><div class=\"sk-serial\"><div class=\"sk-item sk-dashed-wrapped\"><div class=\"sk-label-container\"><div class=\"sk-label sk-toggleable\"><input class=\"sk-toggleable__control sk-hidden--visually\" id=\"sk-estimator-id-29\" type=\"checkbox\" ><label for=\"sk-estimator-id-29\" class=\"sk-toggleable__label sk-toggleable__label-arrow\">data_processing: ColumnTransformer</label><div class=\"sk-toggleable__content\"><pre>ColumnTransformer(transformers=[(&#x27;proc_numeric&#x27;,\n",
       "                                 Pipeline(steps=[(&#x27;impute_missing&#x27;,\n",
       "                                                  SimpleImputer(strategy=&#x27;median&#x27;)),\n",
       "                                                 (&#x27;standardize_num&#x27;,\n",
       "                                                  StandardScaler())]),\n",
       "                                 [&#x27;submissiontime&#x27;]),\n",
       "                                (&#x27;create_dummies&#x27;,\n",
       "                                 Pipeline(steps=[(&#x27;impute_missing_cats&#x27;,\n",
       "                                                  SimpleImputer(strategy=&#x27;most_frequent&#x27;)),\n",
       "                                                 (&#x27;create_dummies_cats&#x27;,\n",
       "                                                  OneHotEncoder(handle_unknown=&#x27;ignore&#x27;))]),\n",
       "                                 [&#x27;title&#x27;, &#x27;body&#x27;, &#x27;signature&#x27;])])</pre></div></div></div><div class=\"sk-parallel\"><div class=\"sk-parallel-item\"><div class=\"sk-item\"><div class=\"sk-label-container\"><div class=\"sk-label sk-toggleable\"><input class=\"sk-toggleable__control sk-hidden--visually\" id=\"sk-estimator-id-30\" type=\"checkbox\" ><label for=\"sk-estimator-id-30\" class=\"sk-toggleable__label sk-toggleable__label-arrow\">proc_numeric</label><div class=\"sk-toggleable__content\"><pre>[&#x27;submissiontime&#x27;]</pre></div></div></div><div class=\"sk-serial\"><div class=\"sk-item\"><div class=\"sk-serial\"><div class=\"sk-item\"><div class=\"sk-estimator sk-toggleable\"><input class=\"sk-toggleable__control sk-hidden--visually\" id=\"sk-estimator-id-31\" type=\"checkbox\" ><label for=\"sk-estimator-id-31\" class=\"sk-toggleable__label sk-toggleable__label-arrow\">SimpleImputer</label><div class=\"sk-toggleable__content\"><pre>SimpleImputer(strategy=&#x27;median&#x27;)</pre></div></div></div><div class=\"sk-item\"><div class=\"sk-estimator sk-toggleable\"><input class=\"sk-toggleable__control sk-hidden--visually\" id=\"sk-estimator-id-32\" type=\"checkbox\" ><label for=\"sk-estimator-id-32\" class=\"sk-toggleable__label sk-toggleable__label-arrow\">StandardScaler</label><div class=\"sk-toggleable__content\"><pre>StandardScaler()</pre></div></div></div></div></div></div></div></div><div class=\"sk-parallel-item\"><div class=\"sk-item\"><div class=\"sk-label-container\"><div class=\"sk-label sk-toggleable\"><input class=\"sk-toggleable__control sk-hidden--visually\" id=\"sk-estimator-id-33\" type=\"checkbox\" ><label for=\"sk-estimator-id-33\" class=\"sk-toggleable__label sk-toggleable__label-arrow\">create_dummies</label><div class=\"sk-toggleable__content\"><pre>[&#x27;title&#x27;, &#x27;body&#x27;, &#x27;signature&#x27;]</pre></div></div></div><div class=\"sk-serial\"><div class=\"sk-item\"><div class=\"sk-serial\"><div class=\"sk-item\"><div class=\"sk-estimator sk-toggleable\"><input class=\"sk-toggleable__control sk-hidden--visually\" id=\"sk-estimator-id-34\" type=\"checkbox\" ><label for=\"sk-estimator-id-34\" class=\"sk-toggleable__label sk-toggleable__label-arrow\">SimpleImputer</label><div class=\"sk-toggleable__content\"><pre>SimpleImputer(strategy=&#x27;most_frequent&#x27;)</pre></div></div></div><div class=\"sk-item\"><div class=\"sk-estimator sk-toggleable\"><input class=\"sk-toggleable__control sk-hidden--visually\" id=\"sk-estimator-id-35\" type=\"checkbox\" ><label for=\"sk-estimator-id-35\" class=\"sk-toggleable__label sk-toggleable__label-arrow\">OneHotEncoder</label><div class=\"sk-toggleable__content\"><pre>OneHotEncoder(handle_unknown=&#x27;ignore&#x27;)</pre></div></div></div></div></div></div></div></div></div></div><div class=\"sk-item\"><div class=\"sk-estimator sk-toggleable\"><input class=\"sk-toggleable__control sk-hidden--visually\" id=\"sk-estimator-id-36\" type=\"checkbox\" ><label for=\"sk-estimator-id-36\" class=\"sk-toggleable__label sk-toggleable__label-arrow\">RandomForestClassifier</label><div class=\"sk-toggleable__content\"><pre>RandomForestClassifier()</pre></div></div></div></div></div></div></div>"
      ],
      "text/plain": [
       "Pipeline(steps=[('data_processing',\n",
       "                 ColumnTransformer(transformers=[('proc_numeric',\n",
       "                                                  Pipeline(steps=[('impute_missing',\n",
       "                                                                   SimpleImputer(strategy='median')),\n",
       "                                                                  ('standardize_num',\n",
       "                                                                   StandardScaler())]),\n",
       "                                                  ['submissiontime']),\n",
       "                                                 ('create_dummies',\n",
       "                                                  Pipeline(steps=[('impute_missing_cats',\n",
       "                                                                   SimpleImputer(strategy='most_frequent')),\n",
       "                                                                  ('create_dummies_cats',\n",
       "                                                                   OneHotEncoder(handle_unknown='ignore'))]),\n",
       "                                                  ['title', 'body',\n",
       "                                                   'signature'])])),\n",
       "                ('rf', RandomForestClassifier())])"
      ]
     },
     "execution_count": 42,
     "metadata": {},
     "output_type": "execute_result"
    }
   ],
   "source": [
    "from sklearn.ensemble import RandomForestClassifier\n",
    "rf_pipeline = Pipeline([\n",
    "    ('data_processing', processing_pipeline),\n",
    "    ('rf', RandomForestClassifier())]\n",
    ")\n",
    "rf_pipeline.fit(X_train, y_train)"
   ]
  },
  {
   "cell_type": "code",
   "execution_count": 43,
   "id": "31fd53d6",
   "metadata": {},
   "outputs": [],
   "source": [
    "y_predict_train = rf_pipeline.predict(X_train)\n",
    "y_predict_test = rf_pipeline.predict(X_test)"
   ]
  },
  {
   "cell_type": "code",
   "execution_count": 44,
   "id": "3f89f047",
   "metadata": {},
   "outputs": [
    {
     "name": "stdout",
     "output_type": "stream",
     "text": [
      "Training accuracy is 0.9961746891934969\n",
      "Test accuracy is 0.7506374298827129\n"
     ]
    }
   ],
   "source": [
    "from sklearn.metrics import accuracy_score\n",
    "train_accuracy = accuracy_score(y_train, y_predict_train)\n",
    "test_accuracy = accuracy_score(y_test, y_predict_test)\n",
    "\n",
    "print(\"Training accuracy is\", train_accuracy)\n",
    "print(\"Test accuracy is\", test_accuracy)"
   ]
  },
  {
   "cell_type": "markdown",
   "id": "7a845dfb",
   "metadata": {},
   "source": [
    "### SVM"
   ]
  },
  {
   "cell_type": "code",
   "execution_count": 55,
   "id": "6bde17b2",
   "metadata": {},
   "outputs": [
    {
     "data": {
      "text/html": [
       "<style>#sk-container-id-5 {color: black;background-color: white;}#sk-container-id-5 pre{padding: 0;}#sk-container-id-5 div.sk-toggleable {background-color: white;}#sk-container-id-5 label.sk-toggleable__label {cursor: pointer;display: block;width: 100%;margin-bottom: 0;padding: 0.3em;box-sizing: border-box;text-align: center;}#sk-container-id-5 label.sk-toggleable__label-arrow:before {content: \"▸\";float: left;margin-right: 0.25em;color: #696969;}#sk-container-id-5 label.sk-toggleable__label-arrow:hover:before {color: black;}#sk-container-id-5 div.sk-estimator:hover label.sk-toggleable__label-arrow:before {color: black;}#sk-container-id-5 div.sk-toggleable__content {max-height: 0;max-width: 0;overflow: hidden;text-align: left;background-color: #f0f8ff;}#sk-container-id-5 div.sk-toggleable__content pre {margin: 0.2em;color: black;border-radius: 0.25em;background-color: #f0f8ff;}#sk-container-id-5 input.sk-toggleable__control:checked~div.sk-toggleable__content {max-height: 200px;max-width: 100%;overflow: auto;}#sk-container-id-5 input.sk-toggleable__control:checked~label.sk-toggleable__label-arrow:before {content: \"▾\";}#sk-container-id-5 div.sk-estimator input.sk-toggleable__control:checked~label.sk-toggleable__label {background-color: #d4ebff;}#sk-container-id-5 div.sk-label input.sk-toggleable__control:checked~label.sk-toggleable__label {background-color: #d4ebff;}#sk-container-id-5 input.sk-hidden--visually {border: 0;clip: rect(1px 1px 1px 1px);clip: rect(1px, 1px, 1px, 1px);height: 1px;margin: -1px;overflow: hidden;padding: 0;position: absolute;width: 1px;}#sk-container-id-5 div.sk-estimator {font-family: monospace;background-color: #f0f8ff;border: 1px dotted black;border-radius: 0.25em;box-sizing: border-box;margin-bottom: 0.5em;}#sk-container-id-5 div.sk-estimator:hover {background-color: #d4ebff;}#sk-container-id-5 div.sk-parallel-item::after {content: \"\";width: 100%;border-bottom: 1px solid gray;flex-grow: 1;}#sk-container-id-5 div.sk-label:hover label.sk-toggleable__label {background-color: #d4ebff;}#sk-container-id-5 div.sk-serial::before {content: \"\";position: absolute;border-left: 1px solid gray;box-sizing: border-box;top: 0;bottom: 0;left: 50%;z-index: 0;}#sk-container-id-5 div.sk-serial {display: flex;flex-direction: column;align-items: center;background-color: white;padding-right: 0.2em;padding-left: 0.2em;position: relative;}#sk-container-id-5 div.sk-item {position: relative;z-index: 1;}#sk-container-id-5 div.sk-parallel {display: flex;align-items: stretch;justify-content: center;background-color: white;position: relative;}#sk-container-id-5 div.sk-item::before, #sk-container-id-5 div.sk-parallel-item::before {content: \"\";position: absolute;border-left: 1px solid gray;box-sizing: border-box;top: 0;bottom: 0;left: 50%;z-index: -1;}#sk-container-id-5 div.sk-parallel-item {display: flex;flex-direction: column;z-index: 1;position: relative;background-color: white;}#sk-container-id-5 div.sk-parallel-item:first-child::after {align-self: flex-end;width: 50%;}#sk-container-id-5 div.sk-parallel-item:last-child::after {align-self: flex-start;width: 50%;}#sk-container-id-5 div.sk-parallel-item:only-child::after {width: 0;}#sk-container-id-5 div.sk-dashed-wrapped {border: 1px dashed gray;margin: 0 0.4em 0.5em 0.4em;box-sizing: border-box;padding-bottom: 0.4em;background-color: white;}#sk-container-id-5 div.sk-label label {font-family: monospace;font-weight: bold;display: inline-block;line-height: 1.2em;}#sk-container-id-5 div.sk-label-container {text-align: center;}#sk-container-id-5 div.sk-container {/* jupyter's `normalize.less` sets `[hidden] { display: none; }` but bootstrap.min.css set `[hidden] { display: none !important; }` so we also need the `!important` here to be able to override the default hidden behavior on the sphinx rendered scikit-learn.org. See: https://github.com/scikit-learn/scikit-learn/issues/21755 */display: inline-block !important;position: relative;}#sk-container-id-5 div.sk-text-repr-fallback {display: none;}</style><div id=\"sk-container-id-5\" class=\"sk-top-container\"><div class=\"sk-text-repr-fallback\"><pre>Pipeline(steps=[(&#x27;data_processing&#x27;,\n",
       "                 ColumnTransformer(transformers=[(&#x27;proc_numeric&#x27;,\n",
       "                                                  Pipeline(steps=[(&#x27;impute_missing&#x27;,\n",
       "                                                                   SimpleImputer(strategy=&#x27;median&#x27;)),\n",
       "                                                                  (&#x27;standardize_num&#x27;,\n",
       "                                                                   StandardScaler())]),\n",
       "                                                  [&#x27;submissiontime&#x27;]),\n",
       "                                                 (&#x27;create_dummies&#x27;,\n",
       "                                                  Pipeline(steps=[(&#x27;impute_missing_cats&#x27;,\n",
       "                                                                   SimpleImputer(strategy=&#x27;most_frequent&#x27;)),\n",
       "                                                                  (&#x27;create_dummies_cats&#x27;,\n",
       "                                                                   OneHotEncoder(handle_unknown=&#x27;ignore&#x27;))]),\n",
       "                                                  [&#x27;title&#x27;, &#x27;body&#x27;,\n",
       "                                                   &#x27;signature&#x27;])])),\n",
       "                (&#x27;svm&#x27;, SVC())])</pre><b>In a Jupyter environment, please rerun this cell to show the HTML representation or trust the notebook. <br />On GitHub, the HTML representation is unable to render, please try loading this page with nbviewer.org.</b></div><div class=\"sk-container\" hidden><div class=\"sk-item sk-dashed-wrapped\"><div class=\"sk-label-container\"><div class=\"sk-label sk-toggleable\"><input class=\"sk-toggleable__control sk-hidden--visually\" id=\"sk-estimator-id-37\" type=\"checkbox\" ><label for=\"sk-estimator-id-37\" class=\"sk-toggleable__label sk-toggleable__label-arrow\">Pipeline</label><div class=\"sk-toggleable__content\"><pre>Pipeline(steps=[(&#x27;data_processing&#x27;,\n",
       "                 ColumnTransformer(transformers=[(&#x27;proc_numeric&#x27;,\n",
       "                                                  Pipeline(steps=[(&#x27;impute_missing&#x27;,\n",
       "                                                                   SimpleImputer(strategy=&#x27;median&#x27;)),\n",
       "                                                                  (&#x27;standardize_num&#x27;,\n",
       "                                                                   StandardScaler())]),\n",
       "                                                  [&#x27;submissiontime&#x27;]),\n",
       "                                                 (&#x27;create_dummies&#x27;,\n",
       "                                                  Pipeline(steps=[(&#x27;impute_missing_cats&#x27;,\n",
       "                                                                   SimpleImputer(strategy=&#x27;most_frequent&#x27;)),\n",
       "                                                                  (&#x27;create_dummies_cats&#x27;,\n",
       "                                                                   OneHotEncoder(handle_unknown=&#x27;ignore&#x27;))]),\n",
       "                                                  [&#x27;title&#x27;, &#x27;body&#x27;,\n",
       "                                                   &#x27;signature&#x27;])])),\n",
       "                (&#x27;svm&#x27;, SVC())])</pre></div></div></div><div class=\"sk-serial\"><div class=\"sk-item sk-dashed-wrapped\"><div class=\"sk-label-container\"><div class=\"sk-label sk-toggleable\"><input class=\"sk-toggleable__control sk-hidden--visually\" id=\"sk-estimator-id-38\" type=\"checkbox\" ><label for=\"sk-estimator-id-38\" class=\"sk-toggleable__label sk-toggleable__label-arrow\">data_processing: ColumnTransformer</label><div class=\"sk-toggleable__content\"><pre>ColumnTransformer(transformers=[(&#x27;proc_numeric&#x27;,\n",
       "                                 Pipeline(steps=[(&#x27;impute_missing&#x27;,\n",
       "                                                  SimpleImputer(strategy=&#x27;median&#x27;)),\n",
       "                                                 (&#x27;standardize_num&#x27;,\n",
       "                                                  StandardScaler())]),\n",
       "                                 [&#x27;submissiontime&#x27;]),\n",
       "                                (&#x27;create_dummies&#x27;,\n",
       "                                 Pipeline(steps=[(&#x27;impute_missing_cats&#x27;,\n",
       "                                                  SimpleImputer(strategy=&#x27;most_frequent&#x27;)),\n",
       "                                                 (&#x27;create_dummies_cats&#x27;,\n",
       "                                                  OneHotEncoder(handle_unknown=&#x27;ignore&#x27;))]),\n",
       "                                 [&#x27;title&#x27;, &#x27;body&#x27;, &#x27;signature&#x27;])])</pre></div></div></div><div class=\"sk-parallel\"><div class=\"sk-parallel-item\"><div class=\"sk-item\"><div class=\"sk-label-container\"><div class=\"sk-label sk-toggleable\"><input class=\"sk-toggleable__control sk-hidden--visually\" id=\"sk-estimator-id-39\" type=\"checkbox\" ><label for=\"sk-estimator-id-39\" class=\"sk-toggleable__label sk-toggleable__label-arrow\">proc_numeric</label><div class=\"sk-toggleable__content\"><pre>[&#x27;submissiontime&#x27;]</pre></div></div></div><div class=\"sk-serial\"><div class=\"sk-item\"><div class=\"sk-serial\"><div class=\"sk-item\"><div class=\"sk-estimator sk-toggleable\"><input class=\"sk-toggleable__control sk-hidden--visually\" id=\"sk-estimator-id-40\" type=\"checkbox\" ><label for=\"sk-estimator-id-40\" class=\"sk-toggleable__label sk-toggleable__label-arrow\">SimpleImputer</label><div class=\"sk-toggleable__content\"><pre>SimpleImputer(strategy=&#x27;median&#x27;)</pre></div></div></div><div class=\"sk-item\"><div class=\"sk-estimator sk-toggleable\"><input class=\"sk-toggleable__control sk-hidden--visually\" id=\"sk-estimator-id-41\" type=\"checkbox\" ><label for=\"sk-estimator-id-41\" class=\"sk-toggleable__label sk-toggleable__label-arrow\">StandardScaler</label><div class=\"sk-toggleable__content\"><pre>StandardScaler()</pre></div></div></div></div></div></div></div></div><div class=\"sk-parallel-item\"><div class=\"sk-item\"><div class=\"sk-label-container\"><div class=\"sk-label sk-toggleable\"><input class=\"sk-toggleable__control sk-hidden--visually\" id=\"sk-estimator-id-42\" type=\"checkbox\" ><label for=\"sk-estimator-id-42\" class=\"sk-toggleable__label sk-toggleable__label-arrow\">create_dummies</label><div class=\"sk-toggleable__content\"><pre>[&#x27;title&#x27;, &#x27;body&#x27;, &#x27;signature&#x27;]</pre></div></div></div><div class=\"sk-serial\"><div class=\"sk-item\"><div class=\"sk-serial\"><div class=\"sk-item\"><div class=\"sk-estimator sk-toggleable\"><input class=\"sk-toggleable__control sk-hidden--visually\" id=\"sk-estimator-id-43\" type=\"checkbox\" ><label for=\"sk-estimator-id-43\" class=\"sk-toggleable__label sk-toggleable__label-arrow\">SimpleImputer</label><div class=\"sk-toggleable__content\"><pre>SimpleImputer(strategy=&#x27;most_frequent&#x27;)</pre></div></div></div><div class=\"sk-item\"><div class=\"sk-estimator sk-toggleable\"><input class=\"sk-toggleable__control sk-hidden--visually\" id=\"sk-estimator-id-44\" type=\"checkbox\" ><label for=\"sk-estimator-id-44\" class=\"sk-toggleable__label sk-toggleable__label-arrow\">OneHotEncoder</label><div class=\"sk-toggleable__content\"><pre>OneHotEncoder(handle_unknown=&#x27;ignore&#x27;)</pre></div></div></div></div></div></div></div></div></div></div><div class=\"sk-item\"><div class=\"sk-estimator sk-toggleable\"><input class=\"sk-toggleable__control sk-hidden--visually\" id=\"sk-estimator-id-45\" type=\"checkbox\" ><label for=\"sk-estimator-id-45\" class=\"sk-toggleable__label sk-toggleable__label-arrow\">SVC</label><div class=\"sk-toggleable__content\"><pre>SVC()</pre></div></div></div></div></div></div></div>"
      ],
      "text/plain": [
       "Pipeline(steps=[('data_processing',\n",
       "                 ColumnTransformer(transformers=[('proc_numeric',\n",
       "                                                  Pipeline(steps=[('impute_missing',\n",
       "                                                                   SimpleImputer(strategy='median')),\n",
       "                                                                  ('standardize_num',\n",
       "                                                                   StandardScaler())]),\n",
       "                                                  ['submissiontime']),\n",
       "                                                 ('create_dummies',\n",
       "                                                  Pipeline(steps=[('impute_missing_cats',\n",
       "                                                                   SimpleImputer(strategy='most_frequent')),\n",
       "                                                                  ('create_dummies_cats',\n",
       "                                                                   OneHotEncoder(handle_unknown='ignore'))]),\n",
       "                                                  ['title', 'body',\n",
       "                                                   'signature'])])),\n",
       "                ('svm', SVC())])"
      ]
     },
     "execution_count": 55,
     "metadata": {},
     "output_type": "execute_result"
    }
   ],
   "source": [
    "from sklearn.svm import SVC\n",
    "\n",
    "svm_pipeline = Pipeline([\n",
    "('data_processing', processing_pipeline),\n",
    "('svm', SVC())\n",
    "])\n",
    "svm_pipeline.fit(X_train, y_train)"
   ]
  },
  {
   "cell_type": "code",
   "execution_count": 57,
   "id": "0b00932e",
   "metadata": {},
   "outputs": [],
   "source": [
    "y_predict_train = svm_pipeline.predict(X_train)\n",
    "y_predict_test = svm_pipeline.predict(X_test)"
   ]
  },
  {
   "cell_type": "code",
   "execution_count": 58,
   "id": "c1c6b3c1",
   "metadata": {},
   "outputs": [
    {
     "name": "stdout",
     "output_type": "stream",
     "text": [
      "Training accuracy is 0.9127829136117309\n",
      "Test accuracy is 0.7266700662927078\n"
     ]
    }
   ],
   "source": [
    "from sklearn.metrics import accuracy_score\n",
    "train_accuracy = accuracy_score(y_train, y_predict_train)\n",
    "test_accuracy = accuracy_score(y_test, y_predict_test)\n",
    "\n",
    "print(\"Training accuracy is\", train_accuracy)\n",
    "print(\"Test accuracy is\", test_accuracy)"
   ]
  },
  {
   "cell_type": "markdown",
   "id": "6e6b2f48",
   "metadata": {},
   "source": [
    "### Cross Validation"
   ]
  },
  {
   "cell_type": "code",
   "execution_count": 45,
   "id": "46466049",
   "metadata": {},
   "outputs": [
    {
     "name": "stdout",
     "output_type": "stream",
     "text": [
      "fit_time : [2.81036091 3.01614571 2.9737072  2.86956477 2.90416598]\n",
      "score_time : [0.0470047  0.03999949 0.0379982  0.04099965 0.04550719]\n",
      "test_accuracy : [0.73669111 0.72744661 0.7261715  0.70927638 0.72521517]\n",
      "test_recall : [nan nan nan nan nan]\n",
      "test_precision_macro : [0.58512301 0.58660448 0.56774699 0.66795542 0.67034117]\n",
      "test_roc_auc : [nan nan nan nan nan]\n",
      "\n",
      "fit_time : [2.81431603 2.90183544 3.613729   2.85487366 3.22712111]\n",
      "score_time : [0.03599977 0.03755736 0.03900671 0.03700376 0.03651857]\n",
      "test_accuracy : [0.71788333 0.71405802 0.716927   0.71087026 0.71118903]\n",
      "test_recall : [nan nan nan nan nan]\n",
      "test_precision_macro : [0.52102935 0.53433148 0.58472758 0.63756542 0.60468991]\n",
      "test_roc_auc : [nan nan nan nan nan]\n",
      "\n",
      "fit_time : [59.24230552 59.89069271 58.69634724 58.40817332 59.82496023]\n",
      "score_time : [0.39503551 0.38603139 0.3881588  0.39803219 0.39853168]\n",
      "test_accuracy : [0.72872171 0.72808416 0.72011476 0.72170864 0.72425885]\n",
      "test_recall : [nan nan nan nan nan]\n",
      "test_precision_macro : [0.60013355 0.6111639  0.49486753 0.71970579 0.68530086]\n",
      "test_roc_auc : [nan nan nan nan nan]\n",
      "\n"
     ]
    }
   ],
   "source": [
    "import warnings\n",
    "warnings.filterwarnings('ignore')\n",
    "\n",
    "from sklearn.model_selection import cross_validate\n",
    "pipelines = [log_modeling_pipeline, dt_modeling_pipeline, rf_pipeline]\n",
    "scoring = ['accuracy', 'recall', 'precision_macro','f1_macro', 'roc_auc']\n",
    "for clf in pipelines:\n",
    "    cv_results = cross_validate(clf, X_train, y_train, scoring=scoring, cv=5)\n",
    "#     print(cv_results)\n",
    "    [print(key,':',value) for key, value in cv_results.items()]\n",
    "    print()"
   ]
  },
  {
   "cell_type": "markdown",
   "id": "46ace909",
   "metadata": {},
   "source": [
    "### Hyper Parameter Tuning- GridSearch"
   ]
  },
  {
   "cell_type": "code",
   "execution_count": 60,
   "id": "6a3b0f97",
   "metadata": {},
   "outputs": [
    {
     "name": "stdout",
     "output_type": "stream",
     "text": [
      "Best hyperparameters:  {'logreg__C': 10, 'logreg__penalty': 'l2', 'logreg__solver': 'lbfgs'}\n",
      "Best cross-validation score:  0.7279566464775262\n"
     ]
    }
   ],
   "source": [
    "from sklearn.model_selection import GridSearchCV\n",
    "\n",
    "# Define hyperparameters to tune\n",
    "hyperparameters = {\n",
    "    'logreg__C': [0.1, 1, 10], # regularization strength\n",
    "    'logreg__penalty': ['l1', 'l2'], # regularization type\n",
    "    'logreg__solver': ['newton-cg', 'lbfgs','liblinear']\n",
    "}\n",
    "\n",
    "log_modeling_pipeline_tuned = Pipeline([\n",
    "    ('data_processing', processing_pipeline),\n",
    "    ('logreg', LogisticRegression())\n",
    "])\n",
    "\n",
    "\n",
    "grid_search = GridSearchCV(log_modeling_pipeline_tuned, hyperparameters, scoring='accuracy')\n",
    "grid_search.fit(X_train, y_train)\n",
    "\n",
    "\n",
    "print(\"Best hyperparameters: \", grid_search.best_params_)\n",
    "print(\"Best cross-validation score: \", grid_search.best_score_)\n"
   ]
  },
  {
   "cell_type": "markdown",
   "id": "7a2be97a",
   "metadata": {},
   "source": [
    "[Hyperparameters in Logistic Regression](https://medium.com/codex/do-i-need-to-tune-logistic-regression-hyperparameters-1cb2b81fca69)"
   ]
  },
  {
   "cell_type": "code",
   "execution_count": 62,
   "id": "1a4562db",
   "metadata": {},
   "outputs": [
    {
     "name": "stdout",
     "output_type": "stream",
     "text": [
      "Best hyperparameters:  {'dt__max_depth': 20, 'dt__min_samples_leaf': 1}\n",
      "Best cross-validation score:  0.594007013069812\n"
     ]
    }
   ],
   "source": [
    "from sklearn.tree import DecisionTreeClassifier\n",
    "from sklearn.model_selection import GridSearchCV\n",
    "\n",
    "hyperparameters = {\n",
    "    'dt__max_depth': [5, 10, 20], # maximum depth of decision tree\n",
    "    'dt__min_samples_leaf': [1, 5, 10] # minimum number of samples required to be at a leaf node\n",
    "}\n",
    "\n",
    "dt_modeling_pipeline_tuned = Pipeline([\n",
    "    ('data_processing', processing_pipeline),\n",
    "    ('dt', DecisionTreeClassifier())\n",
    "])\n",
    "\n",
    "\n",
    "grid_search = GridSearchCV(dt_modeling_pipeline_tuned, hyperparameters, scoring='accuracy')\n",
    "grid_search.fit(X_train, y_train)\n",
    "\n",
    "print(\"Best hyperparameters: \", grid_search.best_params_)\n",
    "print(\"Best cross-validation score: \", grid_search.best_score_)"
   ]
  },
  {
   "cell_type": "markdown",
   "id": "5c646bad",
   "metadata": {},
   "source": [
    "- the cross-validation score is relatively low, indicating that the model may not peredict well to new data."
   ]
  },
  {
   "cell_type": "markdown",
   "id": "c806d069",
   "metadata": {},
   "source": [
    "[Hyperparameters in Decision Tree Clasifier](https://towardsdatascience.com/hyperparameters-of-decision-trees-explained-with-visualizations-1a6ef2f67edf)"
   ]
  },
  {
   "cell_type": "code",
   "execution_count": 51,
   "id": "299e53e0",
   "metadata": {},
   "outputs": [
    {
     "name": "stdout",
     "output_type": "stream",
     "text": [
      "Best hyperparameters:  {'rf__max_depth': 8, 'rf__min_samples_leaf': 2, 'rf__min_samples_split': 5, 'rf__n_estimators': 15}\n",
      "Best cross-validation score:  0.5219636595473383\n"
     ]
    }
   ],
   "source": [
    "from sklearn.ensemble import RandomForestClassifier\n",
    "\n",
    "hyperparameters = {\n",
    "'rf__n_estimators': [15, 25, 50], # number of trees\n",
    "'rf__max_depth': [2, 5, 8], # maximum depth of tree\n",
    "'rf__min_samples_split': [2, 5, 10], # minimum number of samples required to split an internal node\n",
    "'rf__min_samples_leaf': [1, 2, 4] # minimum number of samples required to be at a leaf node\n",
    "}\n",
    "\n",
    "rf_modeling_pipeline_tuned = Pipeline([\n",
    "('data_processing', processing_pipeline),\n",
    "('rf', RandomForestClassifier())\n",
    "])\n",
    "\n",
    "grid_search = GridSearchCV(rf_modeling_pipeline_tuned, hyperparameters, scoring='accuracy')\n",
    "grid_search.fit(X_train, y_train)\n",
    "\n",
    "print(\"Best hyperparameters: \", grid_search.best_params_)\n",
    "print(\"Best cross-validation score: \", grid_search.best_score_)"
   ]
  },
  {
   "cell_type": "markdown",
   "id": "53744ca0",
   "metadata": {},
   "source": [
    "- the cross-validation score is relatively low, indicating that the model may not peredict well to new data."
   ]
  },
  {
   "cell_type": "markdown",
   "id": "a195cb66",
   "metadata": {},
   "source": [
    "[Hyperparameters in Random Forest Clasifier](https://towardsdatascience.com/hyperparameter-tuning-the-random-forest-in-python-using-scikit-learn-28d2aa77dd74)"
   ]
  },
  {
   "cell_type": "code",
   "execution_count": 59,
   "id": "a3c74c76",
   "metadata": {},
   "outputs": [
    {
     "name": "stdout",
     "output_type": "stream",
     "text": [
      "Best hyperparameters:  {'svm__C': 1, 'svm__kernel': 'linear'}\n",
      "Best cross-validation score:  0.7335033471469556\n"
     ]
    }
   ],
   "source": [
    "from sklearn.svm import SVC\n",
    "\n",
    "hyperparameters = {\n",
    "'svm__C': [0.1, 1, 10], # regularization strength\n",
    "'svm__kernel': ['linear', 'rbf', 'poly'] # kernel function for SVM  radial basis function,polynomial\n",
    "}\n",
    "\n",
    "svm_modeling_pipeline_tuned = Pipeline([\n",
    "('data_processing', processing_pipeline),\n",
    "('svm', SVC())\n",
    "])\n",
    "\n",
    "grid_search = GridSearchCV(svm_modeling_pipeline_tuned, hyperparameters, scoring='accuracy')\n",
    "grid_search.fit(X_train, y_train)\n",
    "\n",
    "print(\"Best hyperparameters: \", grid_search.best_params_)\n",
    "print(\"Best cross-validation score: \", grid_search.best_score_)"
   ]
  },
  {
   "cell_type": "markdown",
   "id": "5b60051e",
   "metadata": {},
   "source": [
    "- The best hyperparameters are a regularization parameter C of 1 and a linear kernel.\n",
    "- Among Logistic, Decision Tree, RandomForest. RandomForest has the best cross-validation score."
   ]
  },
  {
   "cell_type": "markdown",
   "id": "275a27e3",
   "metadata": {},
   "source": [
    "[Hyperparameters in Support Vector Classifier](https://www.geeksforgeeks.org/svm-hyperparameter-tuning-using-gridsearchcv-ml/)"
   ]
  },
  {
   "cell_type": "markdown",
   "id": "ee147e1d",
   "metadata": {},
   "source": [
    "## Summary"
   ]
  },
  {
   "cell_type": "code",
   "execution_count": null,
   "id": "de9e5944",
   "metadata": {},
   "outputs": [],
   "source": []
  }
 ],
 "metadata": {
  "kernelspec": {
   "display_name": "Python 3 (ipykernel)",
   "language": "python",
   "name": "python3"
  },
  "language_info": {
   "codemirror_mode": {
    "name": "ipython",
    "version": 3
   },
   "file_extension": ".py",
   "mimetype": "text/x-python",
   "name": "python",
   "nbconvert_exporter": "python",
   "pygments_lexer": "ipython3",
   "version": "3.8.16"
  }
 },
 "nbformat": 4,
 "nbformat_minor": 5
}
