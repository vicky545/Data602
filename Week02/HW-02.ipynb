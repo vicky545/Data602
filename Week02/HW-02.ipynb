{
 "cells": [
  {
   "cell_type": "markdown",
   "metadata": {},
   "source": [
    "# Assignment Week 2 \n",
    "\n",
    "* Answer each question completely. \n",
    "* Include your code and summarize what you see in a brief narrative.\n",
    "\n",
    "__Charting:__\n",
    "Remember to make your charts as self-sufficient as possible (i.e., labels, titles, lack of clutter)  "
   ]
  },
  {
   "cell_type": "code",
   "execution_count": 1,
   "metadata": {},
   "outputs": [
    {
     "name": "stdout",
     "output_type": "stream",
     "text": [
      "<class 'pandas.core.frame.DataFrame'>\n",
      "RangeIndex: 558837 entries, 0 to 558836\n",
      "Data columns (total 16 columns):\n",
      " #   Column        Non-Null Count   Dtype  \n",
      "---  ------        --------------   -----  \n",
      " 0   year          558837 non-null  int64  \n",
      " 1   make          548536 non-null  object \n",
      " 2   model         548438 non-null  object \n",
      " 3   trim          548186 non-null  object \n",
      " 4   body          545642 non-null  object \n",
      " 5   transmission  493484 non-null  object \n",
      " 6   vin           558833 non-null  object \n",
      " 7   state         558837 non-null  object \n",
      " 8   condition     547043 non-null  object \n",
      " 9   odometer      558743 non-null  float64\n",
      " 10  color         558088 non-null  object \n",
      " 11  interior      558088 non-null  object \n",
      " 12  seller        558837 non-null  object \n",
      " 13  mmr           558837 non-null  object \n",
      " 14  sellingprice  558837 non-null  int64  \n",
      " 15  saledate      558837 non-null  object \n",
      "dtypes: float64(1), int64(2), object(13)\n",
      "memory usage: 68.2+ MB\n"
     ]
    }
   ],
   "source": [
    "import pandas as pd\n",
    "import numpy as np\n",
    "import seaborn as sns\n",
    "import matplotlib.pyplot as plt\n",
    "%matplotlib inline\n",
    "\n",
    "df = pd.read_csv('https://raw.githubusercontent.com/msaricaumbc/DS_data/master/ds602/car_prices/car_prices.csv', low_memory=False)\n",
    "\n",
    "df.info()"
   ]
  },
  {
   "cell_type": "markdown",
   "metadata": {},
   "source": [
    "# Data Description:\n",
    "- year: year the car was built (e.g., the model year)  \n",
    "- make: the manufacturer. \n",
    "- model: specific model of the car  \n",
    "- trim: subtype of the car model. \n",
    "- body: body style of the car. \n",
    "- transmission: type of transmission  \n",
    "- state: state car is registered. \n",
    "- condition: numerical rating of the condition, higher is better.  \n",
    "- odometer: number of miles the car has been driven.   \n",
    "- color: color of the car.  \n",
    "- interior: type of interior (e.g., seats). \n",
    "- mmr: estimated wholesale price of the car if auctioned.  \n",
    "- sellingprice: actual sales price of the car."
   ]
  },
  {
   "cell_type": "code",
   "execution_count": 2,
   "metadata": {},
   "outputs": [
    {
     "data": {
      "text/html": [
       "<div>\n",
       "<style scoped>\n",
       "    .dataframe tbody tr th:only-of-type {\n",
       "        vertical-align: middle;\n",
       "    }\n",
       "\n",
       "    .dataframe tbody tr th {\n",
       "        vertical-align: top;\n",
       "    }\n",
       "\n",
       "    .dataframe thead th {\n",
       "        text-align: right;\n",
       "    }\n",
       "</style>\n",
       "<table border=\"1\" class=\"dataframe\">\n",
       "  <thead>\n",
       "    <tr style=\"text-align: right;\">\n",
       "      <th></th>\n",
       "      <th>year</th>\n",
       "      <th>make</th>\n",
       "      <th>model</th>\n",
       "      <th>trim</th>\n",
       "      <th>body</th>\n",
       "      <th>transmission</th>\n",
       "      <th>vin</th>\n",
       "      <th>state</th>\n",
       "      <th>condition</th>\n",
       "      <th>odometer</th>\n",
       "      <th>color</th>\n",
       "      <th>interior</th>\n",
       "      <th>seller</th>\n",
       "      <th>mmr</th>\n",
       "      <th>sellingprice</th>\n",
       "      <th>saledate</th>\n",
       "    </tr>\n",
       "  </thead>\n",
       "  <tbody>\n",
       "    <tr>\n",
       "      <th>0</th>\n",
       "      <td>2015</td>\n",
       "      <td>Kia</td>\n",
       "      <td>Sorento</td>\n",
       "      <td>LX</td>\n",
       "      <td>SUV</td>\n",
       "      <td>automatic</td>\n",
       "      <td>5xyktca69fg566472</td>\n",
       "      <td>ca</td>\n",
       "      <td>5</td>\n",
       "      <td>16639.0</td>\n",
       "      <td>white</td>\n",
       "      <td>black</td>\n",
       "      <td>kia motors america, inc</td>\n",
       "      <td>20500</td>\n",
       "      <td>21500</td>\n",
       "      <td>Tue Dec 16 2014 12:30:00 GMT-0800 (PST)</td>\n",
       "    </tr>\n",
       "    <tr>\n",
       "      <th>1</th>\n",
       "      <td>2015</td>\n",
       "      <td>Kia</td>\n",
       "      <td>Sorento</td>\n",
       "      <td>LX</td>\n",
       "      <td>SUV</td>\n",
       "      <td>automatic</td>\n",
       "      <td>5xyktca69fg561319</td>\n",
       "      <td>ca</td>\n",
       "      <td>5</td>\n",
       "      <td>9393.0</td>\n",
       "      <td>white</td>\n",
       "      <td>beige</td>\n",
       "      <td>kia motors america, inc</td>\n",
       "      <td>20800</td>\n",
       "      <td>21500</td>\n",
       "      <td>Tue Dec 16 2014 12:30:00 GMT-0800 (PST)</td>\n",
       "    </tr>\n",
       "    <tr>\n",
       "      <th>2</th>\n",
       "      <td>2014</td>\n",
       "      <td>BMW</td>\n",
       "      <td>3 Series</td>\n",
       "      <td>328i SULEV</td>\n",
       "      <td>Sedan</td>\n",
       "      <td>automatic</td>\n",
       "      <td>wba3c1c51ek116351</td>\n",
       "      <td>ca</td>\n",
       "      <td>4.5</td>\n",
       "      <td>1331.0</td>\n",
       "      <td>gray</td>\n",
       "      <td>black</td>\n",
       "      <td>financial services remarketing (lease)</td>\n",
       "      <td>31900</td>\n",
       "      <td>30000</td>\n",
       "      <td>Thu Jan 15 2015 04:30:00 GMT-0800 (PST)</td>\n",
       "    </tr>\n",
       "    <tr>\n",
       "      <th>3</th>\n",
       "      <td>2015</td>\n",
       "      <td>Volvo</td>\n",
       "      <td>S60</td>\n",
       "      <td>T5</td>\n",
       "      <td>Sedan</td>\n",
       "      <td>automatic</td>\n",
       "      <td>yv1612tb4f1310987</td>\n",
       "      <td>ca</td>\n",
       "      <td>4.1</td>\n",
       "      <td>14282.0</td>\n",
       "      <td>white</td>\n",
       "      <td>black</td>\n",
       "      <td>volvo na rep/world omni</td>\n",
       "      <td>27500</td>\n",
       "      <td>27750</td>\n",
       "      <td>Thu Jan 29 2015 04:30:00 GMT-0800 (PST)</td>\n",
       "    </tr>\n",
       "    <tr>\n",
       "      <th>4</th>\n",
       "      <td>2014</td>\n",
       "      <td>BMW</td>\n",
       "      <td>6 Series Gran Coupe</td>\n",
       "      <td>650i</td>\n",
       "      <td>Sedan</td>\n",
       "      <td>automatic</td>\n",
       "      <td>wba6b2c57ed129731</td>\n",
       "      <td>ca</td>\n",
       "      <td>4.3</td>\n",
       "      <td>2641.0</td>\n",
       "      <td>gray</td>\n",
       "      <td>black</td>\n",
       "      <td>financial services remarketing (lease)</td>\n",
       "      <td>66000</td>\n",
       "      <td>67000</td>\n",
       "      <td>Thu Dec 18 2014 12:30:00 GMT-0800 (PST)</td>\n",
       "    </tr>\n",
       "  </tbody>\n",
       "</table>\n",
       "</div>"
      ],
      "text/plain": [
       "   year   make                model        trim   body transmission  \\\n",
       "0  2015    Kia              Sorento          LX    SUV    automatic   \n",
       "1  2015    Kia              Sorento          LX    SUV    automatic   \n",
       "2  2014    BMW             3 Series  328i SULEV  Sedan    automatic   \n",
       "3  2015  Volvo                  S60          T5  Sedan    automatic   \n",
       "4  2014    BMW  6 Series Gran Coupe        650i  Sedan    automatic   \n",
       "\n",
       "                 vin state condition  odometer  color interior  \\\n",
       "0  5xyktca69fg566472    ca         5   16639.0  white    black   \n",
       "1  5xyktca69fg561319    ca         5    9393.0  white    beige   \n",
       "2  wba3c1c51ek116351    ca       4.5    1331.0   gray    black   \n",
       "3  yv1612tb4f1310987    ca       4.1   14282.0  white    black   \n",
       "4  wba6b2c57ed129731    ca       4.3    2641.0   gray    black   \n",
       "\n",
       "                                   seller    mmr  sellingprice  \\\n",
       "0                 kia motors america, inc  20500         21500   \n",
       "1                 kia motors america, inc  20800         21500   \n",
       "2  financial services remarketing (lease)  31900         30000   \n",
       "3                 volvo na rep/world omni  27500         27750   \n",
       "4  financial services remarketing (lease)  66000         67000   \n",
       "\n",
       "                                  saledate  \n",
       "0  Tue Dec 16 2014 12:30:00 GMT-0800 (PST)  \n",
       "1  Tue Dec 16 2014 12:30:00 GMT-0800 (PST)  \n",
       "2  Thu Jan 15 2015 04:30:00 GMT-0800 (PST)  \n",
       "3  Thu Jan 29 2015 04:30:00 GMT-0800 (PST)  \n",
       "4  Thu Dec 18 2014 12:30:00 GMT-0800 (PST)  "
      ]
     },
     "execution_count": 2,
     "metadata": {},
     "output_type": "execute_result"
    }
   ],
   "source": [
    "df.head()"
   ]
  },
  {
   "cell_type": "markdown",
   "metadata": {},
   "source": [
    "## Question 1. Determine the number of missing values in each column."
   ]
  },
  {
   "cell_type": "code",
   "execution_count": 3,
   "metadata": {},
   "outputs": [
    {
     "data": {
      "text/plain": [
       "year                0\n",
       "make            10301\n",
       "model           10399\n",
       "trim            10651\n",
       "body            13195\n",
       "transmission    65353\n",
       "vin                 4\n",
       "state               0\n",
       "condition       11794\n",
       "odometer           94\n",
       "color             749\n",
       "interior          749\n",
       "seller              0\n",
       "mmr                 0\n",
       "sellingprice        0\n",
       "saledate            0\n",
       "dtype: int64"
      ]
     },
     "execution_count": 3,
     "metadata": {},
     "output_type": "execute_result"
    }
   ],
   "source": [
    "missing_counts=df.isnull().sum()\n",
    "missing_counts"
   ]
  },
  {
   "cell_type": "markdown",
   "metadata": {},
   "source": [
    "isnull() gives a dataframe with True or False True if that corresponding value is missing False if value value is not missing <br>\n",
    "sum() count number of True"
   ]
  },
  {
   "cell_type": "markdown",
   "metadata": {},
   "source": [
    "## Question 2. Check the data types.\n",
    "- Which columns are coded to the incorrect type? If any, correct them."
   ]
  },
  {
   "cell_type": "code",
   "execution_count": 4,
   "metadata": {},
   "outputs": [
    {
     "data": {
      "text/plain": [
       "array(['5', '4.5', '4.1', '4.3', '1', '3.4', '2', '4.2', '3', '4.8', nan,\n",
       "       '4.9', '1.7', '1.9', '2.9', '3.8', '4.4', '4.7', '3.2', '4', '2.5',\n",
       "       '3.7', '3.9', '3.1', '2.8', '4.6', '3.6', '3.5', '2.6', '2.1',\n",
       "       '2.2', '2.7', '2.4', '3.3', '2.3', '1.5', '1.6', '1.8', '1.2',\n",
       "       '1.4', '1.1', '1.3', 'oh', 'ms', 'co', 'fl', 'sc', 'ca', 'pa',\n",
       "       'in', 'va', 'ga', 'wi', 'tx'], dtype=object)"
      ]
     },
     "execution_count": 4,
     "metadata": {},
     "output_type": "execute_result"
    }
   ],
   "source": [
    "df['condition'].unique()"
   ]
  },
  {
   "cell_type": "code",
   "execution_count": 5,
   "metadata": {},
   "outputs": [
    {
     "data": {
      "text/html": [
       "<div>\n",
       "<style scoped>\n",
       "    .dataframe tbody tr th:only-of-type {\n",
       "        vertical-align: middle;\n",
       "    }\n",
       "\n",
       "    .dataframe tbody tr th {\n",
       "        vertical-align: top;\n",
       "    }\n",
       "\n",
       "    .dataframe thead th {\n",
       "        text-align: right;\n",
       "    }\n",
       "</style>\n",
       "<table border=\"1\" class=\"dataframe\">\n",
       "  <thead>\n",
       "    <tr style=\"text-align: right;\">\n",
       "      <th></th>\n",
       "      <th>year</th>\n",
       "      <th>make</th>\n",
       "      <th>model</th>\n",
       "      <th>trim</th>\n",
       "      <th>body</th>\n",
       "      <th>transmission</th>\n",
       "      <th>vin</th>\n",
       "      <th>state</th>\n",
       "      <th>condition</th>\n",
       "      <th>odometer</th>\n",
       "      <th>color</th>\n",
       "      <th>interior</th>\n",
       "      <th>seller</th>\n",
       "      <th>mmr</th>\n",
       "      <th>sellingprice</th>\n",
       "      <th>saledate</th>\n",
       "    </tr>\n",
       "  </thead>\n",
       "  <tbody>\n",
       "    <tr>\n",
       "      <th>408161</th>\n",
       "      <td>2015</td>\n",
       "      <td>Volkswagen</td>\n",
       "      <td>Jetta</td>\n",
       "      <td>SE PZEV w/Connectivity</td>\n",
       "      <td>Navitgation</td>\n",
       "      <td>Sedan</td>\n",
       "      <td>automatic</td>\n",
       "      <td>3vwd17aj4fm201708</td>\n",
       "      <td>oh</td>\n",
       "      <td>4.6</td>\n",
       "      <td>4802</td>\n",
       "      <td>silver</td>\n",
       "      <td>gray</td>\n",
       "      <td>vw credit prequalified</td>\n",
       "      <td>13200</td>\n",
       "      <td>16500</td>\n",
       "    </tr>\n",
       "    <tr>\n",
       "      <th>417835</th>\n",
       "      <td>2015</td>\n",
       "      <td>Volkswagen</td>\n",
       "      <td>Jetta</td>\n",
       "      <td>SE PZEV w/Connectivity</td>\n",
       "      <td>Navitgation</td>\n",
       "      <td>Sedan</td>\n",
       "      <td>automatic</td>\n",
       "      <td>3vwd17aj2fm258506</td>\n",
       "      <td>ms</td>\n",
       "      <td>1.0</td>\n",
       "      <td>9410</td>\n",
       "      <td>white</td>\n",
       "      <td>gray</td>\n",
       "      <td>enterprise vehicle exchange / tra / birmingham</td>\n",
       "      <td>13300</td>\n",
       "      <td>10500</td>\n",
       "    </tr>\n",
       "    <tr>\n",
       "      <th>421289</th>\n",
       "      <td>2015</td>\n",
       "      <td>Volkswagen</td>\n",
       "      <td>Jetta</td>\n",
       "      <td>SE PZEV w/Connectivity</td>\n",
       "      <td>Navitgation</td>\n",
       "      <td>Sedan</td>\n",
       "      <td>automatic</td>\n",
       "      <td>3vwd17aj3fm276741</td>\n",
       "      <td>co</td>\n",
       "      <td>4.6</td>\n",
       "      <td>1167</td>\n",
       "      <td>blue</td>\n",
       "      <td>black</td>\n",
       "      <td>tdaf remarketing</td>\n",
       "      <td>13200</td>\n",
       "      <td>12700</td>\n",
       "    </tr>\n",
       "    <tr>\n",
       "      <th>424161</th>\n",
       "      <td>2015</td>\n",
       "      <td>Volkswagen</td>\n",
       "      <td>Jetta</td>\n",
       "      <td>SE PZEV w/Connectivity</td>\n",
       "      <td>Navitgation</td>\n",
       "      <td>Sedan</td>\n",
       "      <td>automatic</td>\n",
       "      <td>3vwd17aj2fm285365</td>\n",
       "      <td>ms</td>\n",
       "      <td>1.0</td>\n",
       "      <td>2172</td>\n",
       "      <td>gray</td>\n",
       "      <td>black</td>\n",
       "      <td>enterprise vehicle exchange / tra / birmingham</td>\n",
       "      <td>14050</td>\n",
       "      <td>8250</td>\n",
       "    </tr>\n",
       "    <tr>\n",
       "      <th>427040</th>\n",
       "      <td>2015</td>\n",
       "      <td>Volkswagen</td>\n",
       "      <td>Jetta</td>\n",
       "      <td>SE PZEV w/Connectivity</td>\n",
       "      <td>Navitgation</td>\n",
       "      <td>Sedan</td>\n",
       "      <td>automatic</td>\n",
       "      <td>3vwd17aj0fm227318</td>\n",
       "      <td>fl</td>\n",
       "      <td>4.1</td>\n",
       "      <td>14872</td>\n",
       "      <td>gray</td>\n",
       "      <td>black</td>\n",
       "      <td>enterprise veh exchange/rental</td>\n",
       "      <td>13700</td>\n",
       "      <td>14300</td>\n",
       "    </tr>\n",
       "    <tr>\n",
       "      <th>427043</th>\n",
       "      <td>2015</td>\n",
       "      <td>Volkswagen</td>\n",
       "      <td>Jetta</td>\n",
       "      <td>SE PZEV w/Connectivity</td>\n",
       "      <td>Navitgation</td>\n",
       "      <td>Sedan</td>\n",
       "      <td>automatic</td>\n",
       "      <td>3vwd17aj6fm218641</td>\n",
       "      <td>fl</td>\n",
       "      <td>4.9</td>\n",
       "      <td>12655</td>\n",
       "      <td>red</td>\n",
       "      <td>black</td>\n",
       "      <td>enterprise veh exchange/rental</td>\n",
       "      <td>13850</td>\n",
       "      <td>14500</td>\n",
       "    </tr>\n",
       "    <tr>\n",
       "      <th>434424</th>\n",
       "      <td>2015</td>\n",
       "      <td>Volkswagen</td>\n",
       "      <td>Jetta</td>\n",
       "      <td>SE PZEV w/Connectivity</td>\n",
       "      <td>Navitgation</td>\n",
       "      <td>Sedan</td>\n",
       "      <td>automatic</td>\n",
       "      <td>3vwd17aj7fm223475</td>\n",
       "      <td>fl</td>\n",
       "      <td>4.6</td>\n",
       "      <td>15719</td>\n",
       "      <td>blue</td>\n",
       "      <td>black</td>\n",
       "      <td>sixt rent a car llc</td>\n",
       "      <td>13650</td>\n",
       "      <td>13500</td>\n",
       "    </tr>\n",
       "    <tr>\n",
       "      <th>444501</th>\n",
       "      <td>2015</td>\n",
       "      <td>Volkswagen</td>\n",
       "      <td>Jetta</td>\n",
       "      <td>SE PZEV w/Connectivity</td>\n",
       "      <td>Navitgation</td>\n",
       "      <td>Sedan</td>\n",
       "      <td>automatic</td>\n",
       "      <td>3vwd17aj5fm297123</td>\n",
       "      <td>sc</td>\n",
       "      <td>2.0</td>\n",
       "      <td>6388</td>\n",
       "      <td>white</td>\n",
       "      <td>black</td>\n",
       "      <td>enterprise vehicle exchange / tra / rental / t...</td>\n",
       "      <td>13850</td>\n",
       "      <td>10700</td>\n",
       "    </tr>\n",
       "    <tr>\n",
       "      <th>453794</th>\n",
       "      <td>2015</td>\n",
       "      <td>Volkswagen</td>\n",
       "      <td>Jetta</td>\n",
       "      <td>SE PZEV w/Connectivity</td>\n",
       "      <td>Navitgation</td>\n",
       "      <td>Sedan</td>\n",
       "      <td>automatic</td>\n",
       "      <td>3vwd17aj5fm219943</td>\n",
       "      <td>fl</td>\n",
       "      <td>4.4</td>\n",
       "      <td>16633</td>\n",
       "      <td>silver</td>\n",
       "      <td>black</td>\n",
       "      <td>sixt rent a car llc</td>\n",
       "      <td>13600</td>\n",
       "      <td>13600</td>\n",
       "    </tr>\n",
       "    <tr>\n",
       "      <th>461597</th>\n",
       "      <td>2015</td>\n",
       "      <td>Volkswagen</td>\n",
       "      <td>Jetta</td>\n",
       "      <td>SE PZEV w/Connectivity</td>\n",
       "      <td>Navitgation</td>\n",
       "      <td>Sedan</td>\n",
       "      <td>automatic</td>\n",
       "      <td>3vwd17aj9fm219766</td>\n",
       "      <td>ca</td>\n",
       "      <td>4.4</td>\n",
       "      <td>11034</td>\n",
       "      <td>black</td>\n",
       "      <td>black</td>\n",
       "      <td>premium auto wholesale</td>\n",
       "      <td>13900</td>\n",
       "      <td>13000</td>\n",
       "    </tr>\n",
       "    <tr>\n",
       "      <th>461612</th>\n",
       "      <td>2015</td>\n",
       "      <td>Volkswagen</td>\n",
       "      <td>Jetta</td>\n",
       "      <td>SE PZEV w/Connectivity</td>\n",
       "      <td>Navitgation</td>\n",
       "      <td>Sedan</td>\n",
       "      <td>NaN</td>\n",
       "      <td>3vwd17aj3fm259017</td>\n",
       "      <td>pa</td>\n",
       "      <td>4.6</td>\n",
       "      <td>2711</td>\n",
       "      <td>white</td>\n",
       "      <td>black</td>\n",
       "      <td>affordable autos inc</td>\n",
       "      <td>14250</td>\n",
       "      <td>14000</td>\n",
       "    </tr>\n",
       "    <tr>\n",
       "      <th>492484</th>\n",
       "      <td>2015</td>\n",
       "      <td>Volkswagen</td>\n",
       "      <td>Jetta</td>\n",
       "      <td>SE PZEV w/Connectivity</td>\n",
       "      <td>Navitgation</td>\n",
       "      <td>sedan</td>\n",
       "      <td>automatic</td>\n",
       "      <td>3vwd17aj5fm206111</td>\n",
       "      <td>ca</td>\n",
       "      <td>2.0</td>\n",
       "      <td>6864</td>\n",
       "      <td>gray</td>\n",
       "      <td>black</td>\n",
       "      <td>enterprise vehicle exchange / tra / rental / t...</td>\n",
       "      <td>14000</td>\n",
       "      <td>9800</td>\n",
       "    </tr>\n",
       "    <tr>\n",
       "      <th>497008</th>\n",
       "      <td>2015</td>\n",
       "      <td>Volkswagen</td>\n",
       "      <td>Jetta</td>\n",
       "      <td>SE PZEV w/Connectivity</td>\n",
       "      <td>Navitgation</td>\n",
       "      <td>sedan</td>\n",
       "      <td>automatic</td>\n",
       "      <td>3vwd17aj5fm273601</td>\n",
       "      <td>fl</td>\n",
       "      <td>2.8</td>\n",
       "      <td>339</td>\n",
       "      <td>black</td>\n",
       "      <td>black</td>\n",
       "      <td>florida auto financial group</td>\n",
       "      <td>14300</td>\n",
       "      <td>12900</td>\n",
       "    </tr>\n",
       "    <tr>\n",
       "      <th>497011</th>\n",
       "      <td>2015</td>\n",
       "      <td>Volkswagen</td>\n",
       "      <td>Jetta</td>\n",
       "      <td>SE PZEV w/Connectivity</td>\n",
       "      <td>Navitgation</td>\n",
       "      <td>sedan</td>\n",
       "      <td>automatic</td>\n",
       "      <td>3vwd17aj5fm221322</td>\n",
       "      <td>fl</td>\n",
       "      <td>4.8</td>\n",
       "      <td>18384</td>\n",
       "      <td>silver</td>\n",
       "      <td>black</td>\n",
       "      <td>sixt rent a car llc</td>\n",
       "      <td>13550</td>\n",
       "      <td>13500</td>\n",
       "    </tr>\n",
       "    <tr>\n",
       "      <th>499083</th>\n",
       "      <td>2015</td>\n",
       "      <td>Volkswagen</td>\n",
       "      <td>Jetta</td>\n",
       "      <td>SE PZEV w/Connectivity</td>\n",
       "      <td>Navitgation</td>\n",
       "      <td>sedan</td>\n",
       "      <td>automatic</td>\n",
       "      <td>3vwd17aj5fm268964</td>\n",
       "      <td>in</td>\n",
       "      <td>2.0</td>\n",
       "      <td>9887</td>\n",
       "      <td>red</td>\n",
       "      <td>black</td>\n",
       "      <td>enterprise vehicle exchange / tra / rental / t...</td>\n",
       "      <td>13900</td>\n",
       "      <td>9900</td>\n",
       "    </tr>\n",
       "    <tr>\n",
       "      <th>501455</th>\n",
       "      <td>2015</td>\n",
       "      <td>Volkswagen</td>\n",
       "      <td>Jetta</td>\n",
       "      <td>SE PZEV w/Connectivity</td>\n",
       "      <td>Navitgation</td>\n",
       "      <td>sedan</td>\n",
       "      <td>automatic</td>\n",
       "      <td>3vwd17aj6fm231972</td>\n",
       "      <td>va</td>\n",
       "      <td>3.8</td>\n",
       "      <td>9837</td>\n",
       "      <td>red</td>\n",
       "      <td>black</td>\n",
       "      <td>enterprise veh exchange/rental</td>\n",
       "      <td>13500</td>\n",
       "      <td>12900</td>\n",
       "    </tr>\n",
       "    <tr>\n",
       "      <th>505299</th>\n",
       "      <td>2015</td>\n",
       "      <td>Volkswagen</td>\n",
       "      <td>Jetta</td>\n",
       "      <td>SE PZEV w/Connectivity</td>\n",
       "      <td>Navitgation</td>\n",
       "      <td>sedan</td>\n",
       "      <td>NaN</td>\n",
       "      <td>3vwd17aj7fm222388</td>\n",
       "      <td>ga</td>\n",
       "      <td>3.6</td>\n",
       "      <td>20379</td>\n",
       "      <td>silver</td>\n",
       "      <td>black</td>\n",
       "      <td>sixt rent a car llc</td>\n",
       "      <td>13600</td>\n",
       "      <td>13500</td>\n",
       "    </tr>\n",
       "    <tr>\n",
       "      <th>505306</th>\n",
       "      <td>2015</td>\n",
       "      <td>Volkswagen</td>\n",
       "      <td>Jetta</td>\n",
       "      <td>SE PZEV w/Connectivity</td>\n",
       "      <td>Navitgation</td>\n",
       "      <td>sedan</td>\n",
       "      <td>automatic</td>\n",
       "      <td>3vwd17aj7fm218440</td>\n",
       "      <td>ga</td>\n",
       "      <td>4.2</td>\n",
       "      <td>20627</td>\n",
       "      <td>white</td>\n",
       "      <td>black</td>\n",
       "      <td>sixt rent a car llc</td>\n",
       "      <td>13600</td>\n",
       "      <td>13500</td>\n",
       "    </tr>\n",
       "    <tr>\n",
       "      <th>520461</th>\n",
       "      <td>2015</td>\n",
       "      <td>Volkswagen</td>\n",
       "      <td>Jetta</td>\n",
       "      <td>SE PZEV w/Connectivity</td>\n",
       "      <td>Navitgation</td>\n",
       "      <td>sedan</td>\n",
       "      <td>automatic</td>\n",
       "      <td>3vwd17ajxfm315938</td>\n",
       "      <td>ca</td>\n",
       "      <td>1.0</td>\n",
       "      <td>721</td>\n",
       "      <td>blue</td>\n",
       "      <td>gray</td>\n",
       "      <td>hertz/tra</td>\n",
       "      <td>14100</td>\n",
       "      <td>8500</td>\n",
       "    </tr>\n",
       "    <tr>\n",
       "      <th>528996</th>\n",
       "      <td>2015</td>\n",
       "      <td>Volkswagen</td>\n",
       "      <td>Jetta</td>\n",
       "      <td>SE PZEV w/Connectivity</td>\n",
       "      <td>Navitgation</td>\n",
       "      <td>sedan</td>\n",
       "      <td>automatic</td>\n",
       "      <td>3vwd17aj7fm229552</td>\n",
       "      <td>va</td>\n",
       "      <td>3.8</td>\n",
       "      <td>6158</td>\n",
       "      <td>black</td>\n",
       "      <td>black</td>\n",
       "      <td>enterprise veh exchange/rental</td>\n",
       "      <td>13650</td>\n",
       "      <td>13400</td>\n",
       "    </tr>\n",
       "    <tr>\n",
       "      <th>529009</th>\n",
       "      <td>2015</td>\n",
       "      <td>Volkswagen</td>\n",
       "      <td>Jetta</td>\n",
       "      <td>SE PZEV w/Connectivity</td>\n",
       "      <td>Navitgation</td>\n",
       "      <td>sedan</td>\n",
       "      <td>NaN</td>\n",
       "      <td>3vwd17aj8fm298895</td>\n",
       "      <td>pa</td>\n",
       "      <td>2.0</td>\n",
       "      <td>2817</td>\n",
       "      <td>red</td>\n",
       "      <td>black</td>\n",
       "      <td>enterprise-tra</td>\n",
       "      <td>13750</td>\n",
       "      <td>12200</td>\n",
       "    </tr>\n",
       "    <tr>\n",
       "      <th>529013</th>\n",
       "      <td>2015</td>\n",
       "      <td>Volkswagen</td>\n",
       "      <td>Jetta</td>\n",
       "      <td>SE PZEV w/Connectivity</td>\n",
       "      <td>Navitgation</td>\n",
       "      <td>sedan</td>\n",
       "      <td>automatic</td>\n",
       "      <td>3vwd17aj4fm236636</td>\n",
       "      <td>ca</td>\n",
       "      <td>5.0</td>\n",
       "      <td>5705</td>\n",
       "      <td>—</td>\n",
       "      <td>black</td>\n",
       "      <td>vw credit prequalified</td>\n",
       "      <td>13400</td>\n",
       "      <td>15250</td>\n",
       "    </tr>\n",
       "    <tr>\n",
       "      <th>529622</th>\n",
       "      <td>2015</td>\n",
       "      <td>Volkswagen</td>\n",
       "      <td>Jetta</td>\n",
       "      <td>SE PZEV w/Connectivity</td>\n",
       "      <td>Navitgation</td>\n",
       "      <td>sedan</td>\n",
       "      <td>automatic</td>\n",
       "      <td>3vwd17aj5fm225953</td>\n",
       "      <td>ga</td>\n",
       "      <td>4.1</td>\n",
       "      <td>18561</td>\n",
       "      <td>black</td>\n",
       "      <td>black</td>\n",
       "      <td>sixt rent a car llc</td>\n",
       "      <td>13200</td>\n",
       "      <td>13100</td>\n",
       "    </tr>\n",
       "    <tr>\n",
       "      <th>548784</th>\n",
       "      <td>2015</td>\n",
       "      <td>Volkswagen</td>\n",
       "      <td>Jetta</td>\n",
       "      <td>SE PZEV w/Connectivity</td>\n",
       "      <td>Navitgation</td>\n",
       "      <td>sedan</td>\n",
       "      <td>automatic</td>\n",
       "      <td>3vwd17aj7fm326640</td>\n",
       "      <td>wi</td>\n",
       "      <td>2.0</td>\n",
       "      <td>2846</td>\n",
       "      <td>blue</td>\n",
       "      <td>black</td>\n",
       "      <td>enterprise veh exchange/rental</td>\n",
       "      <td>13600</td>\n",
       "      <td>7500</td>\n",
       "    </tr>\n",
       "    <tr>\n",
       "      <th>551222</th>\n",
       "      <td>2015</td>\n",
       "      <td>Volkswagen</td>\n",
       "      <td>Jetta</td>\n",
       "      <td>SE PZEV w/Connectivity</td>\n",
       "      <td>Navitgation</td>\n",
       "      <td>sedan</td>\n",
       "      <td>NaN</td>\n",
       "      <td>3vwd17aj8fm239622</td>\n",
       "      <td>fl</td>\n",
       "      <td>2.0</td>\n",
       "      <td>9562</td>\n",
       "      <td>silver</td>\n",
       "      <td>black</td>\n",
       "      <td>enterprise vehicle exchange / tra / rental / t...</td>\n",
       "      <td>13200</td>\n",
       "      <td>12100</td>\n",
       "    </tr>\n",
       "    <tr>\n",
       "      <th>554710</th>\n",
       "      <td>2015</td>\n",
       "      <td>Volkswagen</td>\n",
       "      <td>Jetta</td>\n",
       "      <td>SE PZEV w/Connectivity</td>\n",
       "      <td>Navitgation</td>\n",
       "      <td>sedan</td>\n",
       "      <td>automatic</td>\n",
       "      <td>3vwd17aj2fm261566</td>\n",
       "      <td>tx</td>\n",
       "      <td>4.8</td>\n",
       "      <td>5001</td>\n",
       "      <td>blue</td>\n",
       "      <td>gray</td>\n",
       "      <td>mid city mcandrew motors</td>\n",
       "      <td>13400</td>\n",
       "      <td>13600</td>\n",
       "    </tr>\n",
       "  </tbody>\n",
       "</table>\n",
       "</div>"
      ],
      "text/plain": [
       "        year        make  model                    trim          body  \\\n",
       "408161  2015  Volkswagen  Jetta  SE PZEV w/Connectivity   Navitgation   \n",
       "417835  2015  Volkswagen  Jetta  SE PZEV w/Connectivity   Navitgation   \n",
       "421289  2015  Volkswagen  Jetta  SE PZEV w/Connectivity   Navitgation   \n",
       "424161  2015  Volkswagen  Jetta  SE PZEV w/Connectivity   Navitgation   \n",
       "427040  2015  Volkswagen  Jetta  SE PZEV w/Connectivity   Navitgation   \n",
       "427043  2015  Volkswagen  Jetta  SE PZEV w/Connectivity   Navitgation   \n",
       "434424  2015  Volkswagen  Jetta  SE PZEV w/Connectivity   Navitgation   \n",
       "444501  2015  Volkswagen  Jetta  SE PZEV w/Connectivity   Navitgation   \n",
       "453794  2015  Volkswagen  Jetta  SE PZEV w/Connectivity   Navitgation   \n",
       "461597  2015  Volkswagen  Jetta  SE PZEV w/Connectivity   Navitgation   \n",
       "461612  2015  Volkswagen  Jetta  SE PZEV w/Connectivity   Navitgation   \n",
       "492484  2015  Volkswagen  Jetta  SE PZEV w/Connectivity   Navitgation   \n",
       "497008  2015  Volkswagen  Jetta  SE PZEV w/Connectivity   Navitgation   \n",
       "497011  2015  Volkswagen  Jetta  SE PZEV w/Connectivity   Navitgation   \n",
       "499083  2015  Volkswagen  Jetta  SE PZEV w/Connectivity   Navitgation   \n",
       "501455  2015  Volkswagen  Jetta  SE PZEV w/Connectivity   Navitgation   \n",
       "505299  2015  Volkswagen  Jetta  SE PZEV w/Connectivity   Navitgation   \n",
       "505306  2015  Volkswagen  Jetta  SE PZEV w/Connectivity   Navitgation   \n",
       "520461  2015  Volkswagen  Jetta  SE PZEV w/Connectivity   Navitgation   \n",
       "528996  2015  Volkswagen  Jetta  SE PZEV w/Connectivity   Navitgation   \n",
       "529009  2015  Volkswagen  Jetta  SE PZEV w/Connectivity   Navitgation   \n",
       "529013  2015  Volkswagen  Jetta  SE PZEV w/Connectivity   Navitgation   \n",
       "529622  2015  Volkswagen  Jetta  SE PZEV w/Connectivity   Navitgation   \n",
       "548784  2015  Volkswagen  Jetta  SE PZEV w/Connectivity   Navitgation   \n",
       "551222  2015  Volkswagen  Jetta  SE PZEV w/Connectivity   Navitgation   \n",
       "554710  2015  Volkswagen  Jetta  SE PZEV w/Connectivity   Navitgation   \n",
       "\n",
       "       transmission        vin              state condition  odometer  color  \\\n",
       "408161        Sedan  automatic  3vwd17aj4fm201708        oh       4.6   4802   \n",
       "417835        Sedan  automatic  3vwd17aj2fm258506        ms       1.0   9410   \n",
       "421289        Sedan  automatic  3vwd17aj3fm276741        co       4.6   1167   \n",
       "424161        Sedan  automatic  3vwd17aj2fm285365        ms       1.0   2172   \n",
       "427040        Sedan  automatic  3vwd17aj0fm227318        fl       4.1  14872   \n",
       "427043        Sedan  automatic  3vwd17aj6fm218641        fl       4.9  12655   \n",
       "434424        Sedan  automatic  3vwd17aj7fm223475        fl       4.6  15719   \n",
       "444501        Sedan  automatic  3vwd17aj5fm297123        sc       2.0   6388   \n",
       "453794        Sedan  automatic  3vwd17aj5fm219943        fl       4.4  16633   \n",
       "461597        Sedan  automatic  3vwd17aj9fm219766        ca       4.4  11034   \n",
       "461612        Sedan        NaN  3vwd17aj3fm259017        pa       4.6   2711   \n",
       "492484        sedan  automatic  3vwd17aj5fm206111        ca       2.0   6864   \n",
       "497008        sedan  automatic  3vwd17aj5fm273601        fl       2.8    339   \n",
       "497011        sedan  automatic  3vwd17aj5fm221322        fl       4.8  18384   \n",
       "499083        sedan  automatic  3vwd17aj5fm268964        in       2.0   9887   \n",
       "501455        sedan  automatic  3vwd17aj6fm231972        va       3.8   9837   \n",
       "505299        sedan        NaN  3vwd17aj7fm222388        ga       3.6  20379   \n",
       "505306        sedan  automatic  3vwd17aj7fm218440        ga       4.2  20627   \n",
       "520461        sedan  automatic  3vwd17ajxfm315938        ca       1.0    721   \n",
       "528996        sedan  automatic  3vwd17aj7fm229552        va       3.8   6158   \n",
       "529009        sedan        NaN  3vwd17aj8fm298895        pa       2.0   2817   \n",
       "529013        sedan  automatic  3vwd17aj4fm236636        ca       5.0   5705   \n",
       "529622        sedan  automatic  3vwd17aj5fm225953        ga       4.1  18561   \n",
       "548784        sedan  automatic  3vwd17aj7fm326640        wi       2.0   2846   \n",
       "551222        sedan        NaN  3vwd17aj8fm239622        fl       2.0   9562   \n",
       "554710        sedan  automatic  3vwd17aj2fm261566        tx       4.8   5001   \n",
       "\n",
       "       interior seller                                                mmr  \\\n",
       "408161   silver   gray                             vw credit prequalified   \n",
       "417835    white   gray     enterprise vehicle exchange / tra / birmingham   \n",
       "421289     blue  black                                   tdaf remarketing   \n",
       "424161     gray  black     enterprise vehicle exchange / tra / birmingham   \n",
       "427040     gray  black                     enterprise veh exchange/rental   \n",
       "427043      red  black                     enterprise veh exchange/rental   \n",
       "434424     blue  black                                sixt rent a car llc   \n",
       "444501    white  black  enterprise vehicle exchange / tra / rental / t...   \n",
       "453794   silver  black                                sixt rent a car llc   \n",
       "461597    black  black                             premium auto wholesale   \n",
       "461612    white  black                               affordable autos inc   \n",
       "492484     gray  black  enterprise vehicle exchange / tra / rental / t...   \n",
       "497008    black  black                       florida auto financial group   \n",
       "497011   silver  black                                sixt rent a car llc   \n",
       "499083      red  black  enterprise vehicle exchange / tra / rental / t...   \n",
       "501455      red  black                     enterprise veh exchange/rental   \n",
       "505299   silver  black                                sixt rent a car llc   \n",
       "505306    white  black                                sixt rent a car llc   \n",
       "520461     blue   gray                                          hertz/tra   \n",
       "528996    black  black                     enterprise veh exchange/rental   \n",
       "529009      red  black                                     enterprise-tra   \n",
       "529013        —  black                             vw credit prequalified   \n",
       "529622    black  black                                sixt rent a car llc   \n",
       "548784     blue  black                     enterprise veh exchange/rental   \n",
       "551222   silver  black  enterprise vehicle exchange / tra / rental / t...   \n",
       "554710     blue   gray                           mid city mcandrew motors   \n",
       "\n",
       "        sellingprice saledate  \n",
       "408161         13200    16500  \n",
       "417835         13300    10500  \n",
       "421289         13200    12700  \n",
       "424161         14050     8250  \n",
       "427040         13700    14300  \n",
       "427043         13850    14500  \n",
       "434424         13650    13500  \n",
       "444501         13850    10700  \n",
       "453794         13600    13600  \n",
       "461597         13900    13000  \n",
       "461612         14250    14000  \n",
       "492484         14000     9800  \n",
       "497008         14300    12900  \n",
       "497011         13550    13500  \n",
       "499083         13900     9900  \n",
       "501455         13500    12900  \n",
       "505299         13600    13500  \n",
       "505306         13600    13500  \n",
       "520461         14100     8500  \n",
       "528996         13650    13400  \n",
       "529009         13750    12200  \n",
       "529013         13400    15250  \n",
       "529622         13200    13100  \n",
       "548784         13600     7500  \n",
       "551222         13200    12100  \n",
       "554710         13400    13600  "
      ]
     },
     "execution_count": 5,
     "metadata": {},
     "output_type": "execute_result"
    }
   ],
   "source": [
    "df[df['condition'].isin(['oh', 'ms', 'co', 'fl', 'sc', 'ca', 'pa',\n",
    "       'in', 'va', 'ga', 'wi', 'tx'])]"
   ]
  },
  {
   "cell_type": "markdown",
   "metadata": {},
   "source": [
    "as some rows are filled wrongly dropping them"
   ]
  },
  {
   "cell_type": "code",
   "execution_count": 6,
   "metadata": {},
   "outputs": [
    {
     "data": {
      "text/plain": [
       "Int64Index([408161, 417835, 421289, 424161, 427040, 427043, 434424, 444501,\n",
       "            453794, 461597, 461612, 492484, 497008, 497011, 499083, 501455,\n",
       "            505299, 505306, 520461, 528996, 529009, 529013, 529622, 548784,\n",
       "            551222, 554710],\n",
       "           dtype='int64')"
      ]
     },
     "execution_count": 6,
     "metadata": {},
     "output_type": "execute_result"
    }
   ],
   "source": [
    "index_drop=df[df['condition'].isin(['oh', 'ms', 'co', 'fl', 'sc', 'ca', 'pa',\n",
    "       'in', 'va', 'ga', 'wi', 'tx'])].index\n",
    "index_drop"
   ]
  },
  {
   "cell_type": "code",
   "execution_count": 7,
   "metadata": {},
   "outputs": [],
   "source": [
    "df.drop(index_drop,inplace=True)"
   ]
  },
  {
   "cell_type": "code",
   "execution_count": 8,
   "metadata": {},
   "outputs": [
    {
     "data": {
      "text/plain": [
       "array(['5', '4.5', '4.1', '4.3', '1', '3.4', '2', '4.2', '3', '4.8', nan,\n",
       "       '4.9', '1.7', '1.9', '2.9', '3.8', '4.4', '4.7', '3.2', '4', '2.5',\n",
       "       '3.7', '3.9', '3.1', '2.8', '4.6', '3.6', '3.5', '2.6', '2.1',\n",
       "       '2.2', '2.7', '2.4', '3.3', '2.3', '1.5', '1.6', '1.8', '1.2',\n",
       "       '1.4', '1.1', '1.3'], dtype=object)"
      ]
     },
     "execution_count": 8,
     "metadata": {},
     "output_type": "execute_result"
    }
   ],
   "source": [
    "df['condition'].unique()"
   ]
  },
  {
   "cell_type": "markdown",
   "metadata": {},
   "source": [
    "As 'condition' now only contains numeric values it can be casted to numeric"
   ]
  },
  {
   "cell_type": "code",
   "execution_count": 9,
   "metadata": {},
   "outputs": [],
   "source": [
    "df['condition']=df['condition'].astype('float')"
   ]
  },
  {
   "cell_type": "code",
   "execution_count": 10,
   "metadata": {},
   "outputs": [
    {
     "data": {
      "text/plain": [
       "numpy.float64"
      ]
     },
     "execution_count": 10,
     "metadata": {},
     "output_type": "execute_result"
    }
   ],
   "source": [
    "type(df['condition'][0])"
   ]
  },
  {
   "cell_type": "markdown",
   "metadata": {},
   "source": [
    "mmr data type is object which can be changed to int so as to enable some checks on that column"
   ]
  },
  {
   "cell_type": "code",
   "execution_count": 11,
   "metadata": {},
   "outputs": [],
   "source": [
    "df['mmr']=df['mmr'].astype('int')"
   ]
  },
  {
   "cell_type": "code",
   "execution_count": 12,
   "metadata": {},
   "outputs": [
    {
     "name": "stdout",
     "output_type": "stream",
     "text": [
      "<class 'pandas.core.frame.DataFrame'>\n",
      "Int64Index: 558811 entries, 0 to 558836\n",
      "Data columns (total 16 columns):\n",
      " #   Column        Non-Null Count   Dtype  \n",
      "---  ------        --------------   -----  \n",
      " 0   year          558811 non-null  int64  \n",
      " 1   make          548510 non-null  object \n",
      " 2   model         548412 non-null  object \n",
      " 3   trim          548160 non-null  object \n",
      " 4   body          545616 non-null  object \n",
      " 5   transmission  493458 non-null  object \n",
      " 6   vin           558811 non-null  object \n",
      " 7   state         558811 non-null  object \n",
      " 8   condition     547017 non-null  float64\n",
      " 9   odometer      558717 non-null  float64\n",
      " 10  color         558062 non-null  object \n",
      " 11  interior      558062 non-null  object \n",
      " 12  seller        558811 non-null  object \n",
      " 13  mmr           558811 non-null  int32  \n",
      " 14  sellingprice  558811 non-null  int64  \n",
      " 15  saledate      558811 non-null  object \n",
      "dtypes: float64(2), int32(1), int64(2), object(11)\n",
      "memory usage: 86.5+ MB\n"
     ]
    }
   ],
   "source": [
    "df.info()"
   ]
  },
  {
   "cell_type": "markdown",
   "metadata": {},
   "source": [
    "condition and mmr datatypes are updated"
   ]
  },
  {
   "cell_type": "markdown",
   "metadata": {},
   "source": [
    "## Question 3. Analyze the `make` column.\n",
    "- Comment on what you observe.  \n",
    "- Clean the column to reduce the number of unique values to as few as reasonably possible (no hard coding). \n",
    "\n",
    "Hint: What do you notice if you run this:\n",
    "```python\n",
    "makes = df.make.unique().tolist()\n",
    "makes = [str(x).lower() for x in makes]\n",
    "sorted(makes)\n",
    "```"
   ]
  },
  {
   "cell_type": "code",
   "execution_count": 13,
   "metadata": {},
   "outputs": [
    {
     "name": "stdout",
     "output_type": "stream",
     "text": [
      "['Acura', 'Aston Martin', 'Audi', 'BMW', 'Bentley', 'Buick', 'Cadillac', 'Chevrolet', 'Chrysler', 'Daewoo', 'Dodge', 'FIAT', 'Ferrari', 'Fisker', 'Ford', 'GMC', 'Geo', 'HUMMER', 'Honda', 'Hyundai', 'Infiniti', 'Isuzu', 'Jaguar', 'Jeep', 'Kia', 'Lamborghini', 'Land Rover', 'Lexus', 'Lincoln', 'Lotus', 'MINI', 'Maserati', 'Mazda', 'Mercedes-Benz', 'Mercury', 'Mitsubishi', 'Nissan', 'Oldsmobile', 'Plymouth', 'Pontiac', 'Porsche', 'Ram', 'Rolls-Royce', 'Saab', 'Saturn', 'Scion', 'Subaru', 'Suzuki', 'Tesla', 'Toyota', 'Volkswagen', 'Volvo', 'acura', 'airstream', 'audi', 'bmw', 'buick', 'cadillac', 'chev truck', 'chevrolet', 'chrysler', 'dodge', 'dodge tk', 'dot', 'ford', 'ford tk', 'ford truck', 'gmc', 'gmc truck', 'honda', 'hyundai', 'hyundai tk', 'jeep', 'kia', 'land rover', 'landrover', 'lexus', 'lincoln', 'maserati', 'mazda', 'mazda tk', 'mercedes', 'mercedes-b', 'mercury', 'mitsubishi', 'nan', 'nissan', 'oldsmobile', 'plymouth', 'pontiac', 'porsche', 'smart', 'subaru', 'suzuki', 'toyota', 'volkswagen', 'vw']\n",
      "['acura', 'acura', 'airstream', 'aston martin', 'audi', 'audi', 'bentley', 'bmw', 'bmw', 'buick', 'buick', 'cadillac', 'cadillac', 'chev truck', 'chevrolet', 'chevrolet', 'chrysler', 'chrysler', 'daewoo', 'dodge', 'dodge', 'dodge tk', 'dot', 'ferrari', 'fiat', 'fisker', 'ford', 'ford', 'ford tk', 'ford truck', 'geo', 'gmc', 'gmc', 'gmc truck', 'honda', 'honda', 'hummer', 'hyundai', 'hyundai', 'hyundai tk', 'infiniti', 'isuzu', 'jaguar', 'jeep', 'jeep', 'kia', 'kia', 'lamborghini', 'land rover', 'land rover', 'landrover', 'lexus', 'lexus', 'lincoln', 'lincoln', 'lotus', 'maserati', 'maserati', 'mazda', 'mazda', 'mazda tk', 'mercedes', 'mercedes-b', 'mercedes-benz', 'mercury', 'mercury', 'mini', 'mitsubishi', 'mitsubishi', 'nan', 'nissan', 'nissan', 'oldsmobile', 'oldsmobile', 'plymouth', 'plymouth', 'pontiac', 'pontiac', 'porsche', 'porsche', 'ram', 'rolls-royce', 'saab', 'saturn', 'scion', 'smart', 'subaru', 'subaru', 'suzuki', 'suzuki', 'tesla', 'toyota', 'toyota', 'volkswagen', 'volkswagen', 'volvo', 'vw']\n",
      "97\n"
     ]
    }
   ],
   "source": [
    "makes = df.make.unique().tolist()\n",
    "makes1 = [str(x) for x in makes]\n",
    "print(sorted(makes1))\n",
    "makes = [str(x).lower() for x in makes]\n",
    "print(sorted(makes))\n",
    "print(len(makes))"
   ]
  },
  {
   "cell_type": "markdown",
   "metadata": {},
   "source": [
    "Same makes have multiple entries because of change in Letter case hence making the column to lower to reduce number of unique values"
   ]
  },
  {
   "cell_type": "code",
   "execution_count": 14,
   "metadata": {},
   "outputs": [],
   "source": [
    "df['make']=df['make'].str.lower()"
   ]
  },
  {
   "cell_type": "code",
   "execution_count": 15,
   "metadata": {},
   "outputs": [
    {
     "name": "stdout",
     "output_type": "stream",
     "text": [
      "['acura', 'airstream', 'aston martin', 'audi', 'bentley', 'bmw', 'buick', 'cadillac', 'chev truck', 'chevrolet', 'chrysler', 'daewoo', 'dodge', 'dodge tk', 'dot', 'ferrari', 'fiat', 'fisker', 'ford', 'ford tk', 'ford truck', 'geo', 'gmc', 'gmc truck', 'honda', 'hummer', 'hyundai', 'hyundai tk', 'infiniti', 'isuzu', 'jaguar', 'jeep', 'kia', 'lamborghini', 'land rover', 'landrover', 'lexus', 'lincoln', 'lotus', 'maserati', 'mazda', 'mazda tk', 'mercedes', 'mercedes-b', 'mercedes-benz', 'mercury', 'mini', 'mitsubishi', 'nan', 'nissan', 'oldsmobile', 'plymouth', 'pontiac', 'porsche', 'ram', 'rolls-royce', 'saab', 'saturn', 'scion', 'smart', 'subaru', 'suzuki', 'tesla', 'toyota', 'volkswagen', 'volvo', 'vw']\n",
      "67\n"
     ]
    }
   ],
   "source": [
    "makes = df.make.unique().tolist()\n",
    "makes = [str(x).lower() for x in makes]\n",
    "print(sorted(makes))\n",
    "print(len(makes))"
   ]
  },
  {
   "cell_type": "markdown",
   "metadata": {},
   "source": [
    "Around 30 are reduced <br>\n",
    "But in some makes for some makes there are multiple rows like ford, ford tk, ford truck\n",
    "<br>hence replacing tk with truck and\n",
    "<br>removing truck from string"
   ]
  },
  {
   "cell_type": "code",
   "execution_count": 16,
   "metadata": {},
   "outputs": [],
   "source": [
    "df['make']=df['make'].replace(' tk',' truck',regex=True) #replacing string ending with ' tk' to 'truck'"
   ]
  },
  {
   "cell_type": "code",
   "execution_count": 17,
   "metadata": {},
   "outputs": [],
   "source": [
    "df['make']=df['make'].replace(' truck','',regex=True)"
   ]
  },
  {
   "cell_type": "code",
   "execution_count": 18,
   "metadata": {},
   "outputs": [
    {
     "name": "stdout",
     "output_type": "stream",
     "text": [
      "['acura', 'airstream', 'aston martin', 'audi', 'bentley', 'bmw', 'buick', 'cadillac', 'chev', 'chevrolet', 'chrysler', 'daewoo', 'dodge', 'dot', 'ferrari', 'fiat', 'fisker', 'ford', 'geo', 'gmc', 'honda', 'hummer', 'hyundai', 'infiniti', 'isuzu', 'jaguar', 'jeep', 'kia', 'lamborghini', 'land rover', 'landrover', 'lexus', 'lincoln', 'lotus', 'maserati', 'mazda', 'mercedes', 'mercedes-b', 'mercedes-benz', 'mercury', 'mini', 'mitsubishi', 'nan', 'nissan', 'oldsmobile', 'plymouth', 'pontiac', 'porsche', 'ram', 'rolls-royce', 'saab', 'saturn', 'scion', 'smart', 'subaru', 'suzuki', 'tesla', 'toyota', 'volkswagen', 'volvo', 'vw']\n",
      "61\n"
     ]
    }
   ],
   "source": [
    "makes = df.make.unique().tolist()\n",
    "makes = [str(x).lower() for x in makes]\n",
    "print(sorted(makes))\n",
    "print(len(makes))"
   ]
  },
  {
   "cell_type": "markdown",
   "metadata": {},
   "source": [
    "replacing 'landrover' to 'land rover', 'mercedes-b', 'mercedes-benz' to 'mercedes' and 'vw' to 'volkswagen'"
   ]
  },
  {
   "cell_type": "code",
   "execution_count": 19,
   "metadata": {},
   "outputs": [],
   "source": [
    "df['make']=df['make'].replace({'landrover':'land rover','mercedes-b':'mercedes','mercedes-benz':'mercedes','vw':'volkswagen'})"
   ]
  },
  {
   "cell_type": "code",
   "execution_count": 20,
   "metadata": {},
   "outputs": [
    {
     "name": "stdout",
     "output_type": "stream",
     "text": [
      "['acura', 'airstream', 'aston martin', 'audi', 'bentley', 'bmw', 'buick', 'cadillac', 'chev', 'chevrolet', 'chrysler', 'daewoo', 'dodge', 'dot', 'ferrari', 'fiat', 'fisker', 'ford', 'geo', 'gmc', 'honda', 'hummer', 'hyundai', 'infiniti', 'isuzu', 'jaguar', 'jeep', 'kia', 'lamborghini', 'land rover', 'lexus', 'lincoln', 'lotus', 'maserati', 'mazda', 'mercedes', 'mercury', 'mini', 'mitsubishi', 'nan', 'nissan', 'oldsmobile', 'plymouth', 'pontiac', 'porsche', 'ram', 'rolls-royce', 'saab', 'saturn', 'scion', 'smart', 'subaru', 'suzuki', 'tesla', 'toyota', 'volkswagen', 'volvo']\n",
      "57\n"
     ]
    }
   ],
   "source": [
    "makes = df.make.unique().tolist()\n",
    "makes = [str(x).lower() for x in makes]\n",
    "print(sorted(makes))\n",
    "print(len(makes))"
   ]
  },
  {
   "cell_type": "markdown",
   "metadata": {},
   "source": [
    "Total unique makes are reduced from 97 to 57"
   ]
  },
  {
   "cell_type": "markdown",
   "metadata": {},
   "source": [
    "## Question 4. Analyze the relationship between the wholeprice `mmr` and the `salesprice`.\n",
    "- What is the overall correlation?  \n",
    "- What happens to the correlation as you increase the maximum selling price window (e.g., 0-10000, 0-20000,...)?\n",
    "- Create a scatter plot with the relationship.  \n",
    "- Create a graph that shows how the correlation changes."
   ]
  },
  {
   "cell_type": "code",
   "execution_count": 21,
   "metadata": {},
   "outputs": [
    {
     "data": {
      "text/html": [
       "<div>\n",
       "<style scoped>\n",
       "    .dataframe tbody tr th:only-of-type {\n",
       "        vertical-align: middle;\n",
       "    }\n",
       "\n",
       "    .dataframe tbody tr th {\n",
       "        vertical-align: top;\n",
       "    }\n",
       "\n",
       "    .dataframe thead th {\n",
       "        text-align: right;\n",
       "    }\n",
       "</style>\n",
       "<table border=\"1\" class=\"dataframe\">\n",
       "  <thead>\n",
       "    <tr style=\"text-align: right;\">\n",
       "      <th></th>\n",
       "      <th>year</th>\n",
       "      <th>condition</th>\n",
       "      <th>odometer</th>\n",
       "      <th>mmr</th>\n",
       "      <th>sellingprice</th>\n",
       "    </tr>\n",
       "  </thead>\n",
       "  <tbody>\n",
       "    <tr>\n",
       "      <th>year</th>\n",
       "      <td>1.000000</td>\n",
       "      <td>0.551282</td>\n",
       "      <td>-0.772720</td>\n",
       "      <td>0.596623</td>\n",
       "      <td>0.586488</td>\n",
       "    </tr>\n",
       "    <tr>\n",
       "      <th>condition</th>\n",
       "      <td>0.551282</td>\n",
       "      <td>1.000000</td>\n",
       "      <td>-0.538874</td>\n",
       "      <td>0.485050</td>\n",
       "      <td>0.538788</td>\n",
       "    </tr>\n",
       "    <tr>\n",
       "      <th>odometer</th>\n",
       "      <td>-0.772720</td>\n",
       "      <td>-0.538874</td>\n",
       "      <td>1.000000</td>\n",
       "      <td>-0.588107</td>\n",
       "      <td>-0.582405</td>\n",
       "    </tr>\n",
       "    <tr>\n",
       "      <th>mmr</th>\n",
       "      <td>0.596623</td>\n",
       "      <td>0.485050</td>\n",
       "      <td>-0.588107</td>\n",
       "      <td>1.000000</td>\n",
       "      <td>0.983634</td>\n",
       "    </tr>\n",
       "    <tr>\n",
       "      <th>sellingprice</th>\n",
       "      <td>0.586488</td>\n",
       "      <td>0.538788</td>\n",
       "      <td>-0.582405</td>\n",
       "      <td>0.983634</td>\n",
       "      <td>1.000000</td>\n",
       "    </tr>\n",
       "  </tbody>\n",
       "</table>\n",
       "</div>"
      ],
      "text/plain": [
       "                  year  condition  odometer       mmr  sellingprice\n",
       "year          1.000000   0.551282 -0.772720  0.596623      0.586488\n",
       "condition     0.551282   1.000000 -0.538874  0.485050      0.538788\n",
       "odometer     -0.772720  -0.538874  1.000000 -0.588107     -0.582405\n",
       "mmr           0.596623   0.485050 -0.588107  1.000000      0.983634\n",
       "sellingprice  0.586488   0.538788 -0.582405  0.983634      1.000000"
      ]
     },
     "execution_count": 21,
     "metadata": {},
     "output_type": "execute_result"
    }
   ],
   "source": [
    "correlation=df.corr()\n",
    "correlation"
   ]
  },
  {
   "cell_type": "code",
   "execution_count": 22,
   "metadata": {},
   "outputs": [
    {
     "data": {
      "text/plain": [
       "0.9836337168977258"
      ]
     },
     "execution_count": 22,
     "metadata": {},
     "output_type": "execute_result"
    }
   ],
   "source": [
    "overall_correlation = df['mmr'].corr(df['sellingprice'])\n",
    "overall_correlation"
   ]
  },
  {
   "cell_type": "markdown",
   "metadata": {},
   "source": [
    "- Wholeprice mmr and the salesprice are positively correlated with a correlation value of 0.983634"
   ]
  },
  {
   "cell_type": "code",
   "execution_count": 23,
   "metadata": {},
   "outputs": [
    {
     "data": {
      "text/plain": [
       "230000"
      ]
     },
     "execution_count": 23,
     "metadata": {},
     "output_type": "execute_result"
    }
   ],
   "source": [
    "df['sellingprice'].max()"
   ]
  },
  {
   "cell_type": "code",
   "execution_count": 24,
   "metadata": {},
   "outputs": [
    {
     "name": "stdout",
     "output_type": "stream",
     "text": [
      "Correlation for Selling price 0 to 10000 is  0.8743542721249603\n",
      "Correlation for Selling price 0 to 20000 is  0.9584428323123241\n",
      "Correlation for Selling price 0 to 30000 is  0.9744203460442995\n",
      "Correlation for Selling price 0 to 40000 is  0.9791682459086504\n",
      "Correlation for Selling price 0 to 50000 is  0.9812713466602414\n",
      "Correlation for Selling price 0 to 60000 is  0.982240196031103\n",
      "Correlation for Selling price 0 to 70000 is  0.9827082643538262\n",
      "Correlation for Selling price 0 to 80000 is  0.9831862576819879\n",
      "Correlation for Selling price 0 to 90000 is  0.9834269274590401\n",
      "Correlation for Selling price 0 to 100000 is  0.9835761128330057\n",
      "Correlation for Selling price 0 to 110000 is  0.9835897120182335\n",
      "Correlation for Selling price 0 to 120000 is  0.9836722973053684\n",
      "Correlation for Selling price 0 to 130000 is  0.9837452115182949\n",
      "Correlation for Selling price 0 to 140000 is  0.9838139061890876\n",
      "Correlation for Selling price 0 to 150000 is  0.9838873814578444\n",
      "Correlation for Selling price 0 to 160000 is  0.9839572313793207\n",
      "Correlation for Selling price 0 to 170000 is  0.984007731178787\n",
      "Correlation for Selling price 0 to 180000 is  0.9840226043763766\n",
      "Correlation for Selling price 0 to 190000 is  0.984031241436351\n",
      "Correlation for Selling price 0 to 200000 is  0.984031241436351\n",
      "Correlation for Selling price 0 to 210000 is  0.984031241436351\n",
      "Correlation for Selling price 0 to 220000 is  0.984031241436351\n",
      "Correlation for Selling price 0 to 230000 is  0.9836337168977258\n"
     ]
    }
   ],
   "source": [
    "windows= [i for i in range(10000,240000,10000) ]\n",
    "correlations=[df[df['sellingprice'] <= window]['mmr'].corr(df[df['sellingprice'] <= window]['sellingprice']) for window in windows]\n",
    "#filtering data frame for each window and calucating correspoding correlation between mmr and selling price\n",
    "for i in range(len(windows)):\n",
    "    print('Correlation for Selling price 0 to',windows[i],'is ',correlations[i])"
   ]
  },
  {
   "cell_type": "code",
   "execution_count": 25,
   "metadata": {},
   "outputs": [
    {
     "name": "stdout",
     "output_type": "stream",
     "text": [
      "[0.8743542721249795, 0.9584428323123199, 0.974420346044272, 0.9791682459086682, 0.981271346660262, 0.9822401960310664, 0.9827082643538099, 0.9831862576820071, 0.9834269274590759, 0.9835761128330239, 0.9835897120182545, 0.9836722973053607, 0.9837452115183194, 0.9838139061891062, 0.983887381457838, 0.9839572313793269, 0.9840077311787709, 0.9840226043763788, 0.9840312414363478, 0.9840312414363478, 0.9840312414363478, 0.9840312414363478, 0.9836337168977242]\n"
     ]
    }
   ],
   "source": [
    "#another way to calculate correlation\n",
    "correlations1 = [df.loc[df['sellingprice'] <= window, ['mmr', 'sellingprice']].corr().iloc[0,1] for window in windows]\n",
    "print(correlations1)"
   ]
  },
  {
   "cell_type": "code",
   "execution_count": 26,
   "metadata": {},
   "outputs": [
    {
     "data": {
      "image/png": "[encoded data removed]",
      "text/plain": [
       "<Figure size 432x288 with 1 Axes>"
      ]
     },
     "metadata": {
      "needs_background": "light"
     },
     "output_type": "display_data"
    }
   ],
   "source": [
    "plt.scatter(df['mmr'], df['sellingprice'])\n",
    "plt.xlabel('MMR')\n",
    "plt.ylabel('Selling price Price')\n",
    "plt.title('Scatter plot showing relation ship between mmr and selling price')\n",
    "plt.show()"
   ]
  },
  {
   "cell_type": "code",
   "execution_count": 27,
   "metadata": {},
   "outputs": [
    {
     "data": {
      "image/png": "[encoded data removed]",
      "text/plain": [
       "<Figure size 432x288 with 1 Axes>"
      ]
     },
     "metadata": {
      "needs_background": "light"
     },
     "output_type": "display_data"
    }
   ],
   "source": [
    "plt.plot(windows, correlations)\n",
    "plt.xlabel('Max Selling Price Window')\n",
    "plt.ylabel('Correlation')\n",
    "plt.title('Correlation vs Max Selling Price Window')\n",
    "plt.show()\n"
   ]
  },
  {
   "cell_type": "markdown",
   "metadata": {},
   "source": [
    "- As the maximum selling price is increasing there is a strong correlation between mmr and selling price"
   ]
  },
  {
   "cell_type": "markdown",
   "metadata": {},
   "source": [
    "## Question 5. How does the distribution of `salesprice` vary by make for cars made between 2010-2015?\n",
    "- Use the 10 most common makes (your cleaned version of this column).  \n",
    "- Create a graph that answers this question."
   ]
  },
  {
   "cell_type": "code",
   "execution_count": 28,
   "metadata": {},
   "outputs": [
    {
     "name": "stdout",
     "output_type": "stream",
     "text": [
      "<class 'pandas.core.frame.DataFrame'>\n",
      "Int64Index: 365997 entries, 0 to 558836\n",
      "Data columns (total 16 columns):\n",
      " #   Column        Non-Null Count   Dtype  \n",
      "---  ------        --------------   -----  \n",
      " 0   year          365997 non-null  int64  \n",
      " 1   make          363467 non-null  object \n",
      " 2   model         363369 non-null  object \n",
      " 3   trim          363433 non-null  object \n",
      " 4   body          362970 non-null  object \n",
      " 5   transmission  321028 non-null  object \n",
      " 6   vin           365997 non-null  object \n",
      " 7   state         365997 non-null  object \n",
      " 8   condition     363813 non-null  float64\n",
      " 9   odometer      365985 non-null  float64\n",
      " 10  color         365403 non-null  object \n",
      " 11  interior      365403 non-null  object \n",
      " 12  seller        365997 non-null  object \n",
      " 13  mmr           365997 non-null  int32  \n",
      " 14  sellingprice  365997 non-null  int64  \n",
      " 15  saledate      365997 non-null  object \n",
      "dtypes: float64(2), int32(1), int64(2), object(11)\n",
      "memory usage: 46.1+ MB\n"
     ]
    }
   ],
   "source": [
    "make_df=df[(df['year']>=2010) & (df['year']<=2015)]\n",
    "make_df.info()"
   ]
  },
  {
   "cell_type": "code",
   "execution_count": 29,
   "metadata": {},
   "outputs": [
    {
     "data": {
      "text/html": [
       "<div>\n",
       "<style scoped>\n",
       "    .dataframe tbody tr th:only-of-type {\n",
       "        vertical-align: middle;\n",
       "    }\n",
       "\n",
       "    .dataframe tbody tr th {\n",
       "        vertical-align: top;\n",
       "    }\n",
       "\n",
       "    .dataframe thead th {\n",
       "        text-align: right;\n",
       "    }\n",
       "</style>\n",
       "<table border=\"1\" class=\"dataframe\">\n",
       "  <thead>\n",
       "    <tr style=\"text-align: right;\">\n",
       "      <th></th>\n",
       "      <th>make</th>\n",
       "      <th>Count</th>\n",
       "    </tr>\n",
       "  </thead>\n",
       "  <tbody>\n",
       "    <tr>\n",
       "      <th>0</th>\n",
       "      <td>ford</td>\n",
       "      <td>70565</td>\n",
       "    </tr>\n",
       "    <tr>\n",
       "      <th>1</th>\n",
       "      <td>nissan</td>\n",
       "      <td>42374</td>\n",
       "    </tr>\n",
       "    <tr>\n",
       "      <th>2</th>\n",
       "      <td>chevrolet</td>\n",
       "      <td>38161</td>\n",
       "    </tr>\n",
       "    <tr>\n",
       "      <th>3</th>\n",
       "      <td>toyota</td>\n",
       "      <td>26263</td>\n",
       "    </tr>\n",
       "    <tr>\n",
       "      <th>4</th>\n",
       "      <td>dodge</td>\n",
       "      <td>20169</td>\n",
       "    </tr>\n",
       "    <tr>\n",
       "      <th>5</th>\n",
       "      <td>hyundai</td>\n",
       "      <td>17899</td>\n",
       "    </tr>\n",
       "    <tr>\n",
       "      <th>6</th>\n",
       "      <td>honda</td>\n",
       "      <td>15644</td>\n",
       "    </tr>\n",
       "    <tr>\n",
       "      <th>7</th>\n",
       "      <td>kia</td>\n",
       "      <td>15347</td>\n",
       "    </tr>\n",
       "    <tr>\n",
       "      <th>8</th>\n",
       "      <td>infiniti</td>\n",
       "      <td>12720</td>\n",
       "    </tr>\n",
       "    <tr>\n",
       "      <th>9</th>\n",
       "      <td>bmw</td>\n",
       "      <td>11905</td>\n",
       "    </tr>\n",
       "  </tbody>\n",
       "</table>\n",
       "</div>"
      ],
      "text/plain": [
       "        make  Count\n",
       "0       ford  70565\n",
       "1     nissan  42374\n",
       "2  chevrolet  38161\n",
       "3     toyota  26263\n",
       "4      dodge  20169\n",
       "5    hyundai  17899\n",
       "6      honda  15644\n",
       "7        kia  15347\n",
       "8   infiniti  12720\n",
       "9        bmw  11905"
      ]
     },
     "execution_count": 29,
     "metadata": {},
     "output_type": "execute_result"
    }
   ],
   "source": [
    "sorted_df=make_df['make'].value_counts(sort=True)[:10].to_frame().reset_index().rename(columns={'index':'make','make':'Count'})\n",
    "sorted_df"
   ]
  },
  {
   "cell_type": "code",
   "execution_count": 30,
   "metadata": {},
   "outputs": [
    {
     "data": {
      "text/html": [
       "<div>\n",
       "<style scoped>\n",
       "    .dataframe tbody tr th:only-of-type {\n",
       "        vertical-align: middle;\n",
       "    }\n",
       "\n",
       "    .dataframe tbody tr th {\n",
       "        vertical-align: top;\n",
       "    }\n",
       "\n",
       "    .dataframe thead th {\n",
       "        text-align: right;\n",
       "    }\n",
       "</style>\n",
       "<table border=\"1\" class=\"dataframe\">\n",
       "  <thead>\n",
       "    <tr style=\"text-align: right;\">\n",
       "      <th></th>\n",
       "      <th>year</th>\n",
       "      <th>make</th>\n",
       "      <th>model</th>\n",
       "      <th>trim</th>\n",
       "      <th>body</th>\n",
       "      <th>transmission</th>\n",
       "      <th>vin</th>\n",
       "      <th>state</th>\n",
       "      <th>condition</th>\n",
       "      <th>odometer</th>\n",
       "      <th>color</th>\n",
       "      <th>interior</th>\n",
       "      <th>seller</th>\n",
       "      <th>mmr</th>\n",
       "      <th>sellingprice</th>\n",
       "      <th>saledate</th>\n",
       "    </tr>\n",
       "  </thead>\n",
       "  <tbody>\n",
       "    <tr>\n",
       "      <th>0</th>\n",
       "      <td>2015</td>\n",
       "      <td>kia</td>\n",
       "      <td>Sorento</td>\n",
       "      <td>LX</td>\n",
       "      <td>SUV</td>\n",
       "      <td>automatic</td>\n",
       "      <td>5xyktca69fg566472</td>\n",
       "      <td>ca</td>\n",
       "      <td>5.0</td>\n",
       "      <td>16639.0</td>\n",
       "      <td>white</td>\n",
       "      <td>black</td>\n",
       "      <td>kia motors america, inc</td>\n",
       "      <td>20500</td>\n",
       "      <td>21500</td>\n",
       "      <td>Tue Dec 16 2014 12:30:00 GMT-0800 (PST)</td>\n",
       "    </tr>\n",
       "    <tr>\n",
       "      <th>1</th>\n",
       "      <td>2015</td>\n",
       "      <td>kia</td>\n",
       "      <td>Sorento</td>\n",
       "      <td>LX</td>\n",
       "      <td>SUV</td>\n",
       "      <td>automatic</td>\n",
       "      <td>5xyktca69fg561319</td>\n",
       "      <td>ca</td>\n",
       "      <td>5.0</td>\n",
       "      <td>9393.0</td>\n",
       "      <td>white</td>\n",
       "      <td>beige</td>\n",
       "      <td>kia motors america, inc</td>\n",
       "      <td>20800</td>\n",
       "      <td>21500</td>\n",
       "      <td>Tue Dec 16 2014 12:30:00 GMT-0800 (PST)</td>\n",
       "    </tr>\n",
       "    <tr>\n",
       "      <th>2</th>\n",
       "      <td>2014</td>\n",
       "      <td>bmw</td>\n",
       "      <td>3 Series</td>\n",
       "      <td>328i SULEV</td>\n",
       "      <td>Sedan</td>\n",
       "      <td>automatic</td>\n",
       "      <td>wba3c1c51ek116351</td>\n",
       "      <td>ca</td>\n",
       "      <td>4.5</td>\n",
       "      <td>1331.0</td>\n",
       "      <td>gray</td>\n",
       "      <td>black</td>\n",
       "      <td>financial services remarketing (lease)</td>\n",
       "      <td>31900</td>\n",
       "      <td>30000</td>\n",
       "      <td>Thu Jan 15 2015 04:30:00 GMT-0800 (PST)</td>\n",
       "    </tr>\n",
       "    <tr>\n",
       "      <th>4</th>\n",
       "      <td>2014</td>\n",
       "      <td>bmw</td>\n",
       "      <td>6 Series Gran Coupe</td>\n",
       "      <td>650i</td>\n",
       "      <td>Sedan</td>\n",
       "      <td>automatic</td>\n",
       "      <td>wba6b2c57ed129731</td>\n",
       "      <td>ca</td>\n",
       "      <td>4.3</td>\n",
       "      <td>2641.0</td>\n",
       "      <td>gray</td>\n",
       "      <td>black</td>\n",
       "      <td>financial services remarketing (lease)</td>\n",
       "      <td>66000</td>\n",
       "      <td>67000</td>\n",
       "      <td>Thu Dec 18 2014 12:30:00 GMT-0800 (PST)</td>\n",
       "    </tr>\n",
       "    <tr>\n",
       "      <th>5</th>\n",
       "      <td>2015</td>\n",
       "      <td>nissan</td>\n",
       "      <td>Altima</td>\n",
       "      <td>2.5 S</td>\n",
       "      <td>Sedan</td>\n",
       "      <td>automatic</td>\n",
       "      <td>1n4al3ap1fn326013</td>\n",
       "      <td>ca</td>\n",
       "      <td>1.0</td>\n",
       "      <td>5554.0</td>\n",
       "      <td>gray</td>\n",
       "      <td>black</td>\n",
       "      <td>enterprise vehicle exchange / tra / rental / t...</td>\n",
       "      <td>15350</td>\n",
       "      <td>10900</td>\n",
       "      <td>Tue Dec 30 2014 12:00:00 GMT-0800 (PST)</td>\n",
       "    </tr>\n",
       "  </tbody>\n",
       "</table>\n",
       "</div>"
      ],
      "text/plain": [
       "   year    make                model        trim   body transmission  \\\n",
       "0  2015     kia              Sorento          LX    SUV    automatic   \n",
       "1  2015     kia              Sorento          LX    SUV    automatic   \n",
       "2  2014     bmw             3 Series  328i SULEV  Sedan    automatic   \n",
       "4  2014     bmw  6 Series Gran Coupe        650i  Sedan    automatic   \n",
       "5  2015  nissan               Altima       2.5 S  Sedan    automatic   \n",
       "\n",
       "                 vin state  condition  odometer  color interior  \\\n",
       "0  5xyktca69fg566472    ca        5.0   16639.0  white    black   \n",
       "1  5xyktca69fg561319    ca        5.0    9393.0  white    beige   \n",
       "2  wba3c1c51ek116351    ca        4.5    1331.0   gray    black   \n",
       "4  wba6b2c57ed129731    ca        4.3    2641.0   gray    black   \n",
       "5  1n4al3ap1fn326013    ca        1.0    5554.0   gray    black   \n",
       "\n",
       "                                              seller    mmr  sellingprice  \\\n",
       "0                            kia motors america, inc  20500         21500   \n",
       "1                            kia motors america, inc  20800         21500   \n",
       "2             financial services remarketing (lease)  31900         30000   \n",
       "4             financial services remarketing (lease)  66000         67000   \n",
       "5  enterprise vehicle exchange / tra / rental / t...  15350         10900   \n",
       "\n",
       "                                  saledate  \n",
       "0  Tue Dec 16 2014 12:30:00 GMT-0800 (PST)  \n",
       "1  Tue Dec 16 2014 12:30:00 GMT-0800 (PST)  \n",
       "2  Thu Jan 15 2015 04:30:00 GMT-0800 (PST)  \n",
       "4  Thu Dec 18 2014 12:30:00 GMT-0800 (PST)  \n",
       "5  Tue Dec 30 2014 12:00:00 GMT-0800 (PST)  "
      ]
     },
     "execution_count": 30,
     "metadata": {},
     "output_type": "execute_result"
    }
   ],
   "source": [
    "final_df=make_df[make_df['make'].isin(list(sorted_df['make']))]\n",
    "final_df.head()"
   ]
  },
  {
   "cell_type": "code",
   "execution_count": 31,
   "metadata": {},
   "outputs": [
    {
     "data": {
      "text/plain": [
       "array(['kia', 'bmw', 'nissan', 'chevrolet', 'ford', 'hyundai', 'infiniti',\n",
       "       'toyota', 'dodge', 'honda'], dtype=object)"
      ]
     },
     "execution_count": 31,
     "metadata": {},
     "output_type": "execute_result"
    }
   ],
   "source": [
    "final_df['make'].unique()"
   ]
  },
  {
   "cell_type": "code",
   "execution_count": 32,
   "metadata": {},
   "outputs": [
    {
     "data": {
      "image/png": "[encoded data removed]",
      "text/plain": [
       "<Figure size 1440x1080 with 1 Axes>"
      ]
     },
     "metadata": {
      "needs_background": "light"
     },
     "output_type": "display_data"
    }
   ],
   "source": [
    "plt.figure(figsize=(20,15))\n",
    "ax=sns.boxplot(x='make',y='sellingprice',data=final_df)\n",
    "plt.title(\"Distribution of Selling Price between 2010 and 2015\")\n",
    "plt.xticks(fontsize=20)\n",
    "ax.set_ylim([-3000, 70000])  \n",
    "plt.show()"
   ]
  },
  {
   "cell_type": "markdown",
   "metadata": {},
   "source": [
    "- The above graph shows the distribution of salesprice varying by make for cars made between 2010-2015\n",
    "- The sales price of most of the makes lies in range of 10000 and 40000.\n",
    "- All other makes except BMW show a range of around 7000 diiference in thier various models\n",
    "- BMW has a range of around 10000 "
   ]
  }
 ],
 "metadata": {
  "kernelspec": {
   "display_name": "Python 3",
   "language": "python",
   "name": "python3"
  },
  "language_info": {
   "codemirror_mode": {
    "name": "ipython",
    "version": 3
   },
   "file_extension": ".py",
   "mimetype": "text/x-python",
   "name": "python",
   "nbconvert_exporter": "python",
   "pygments_lexer": "ipython3",
   "version": "3.8.8"
  },
  "toc": {
   "base_numbering": 1,
   "nav_menu": {},
   "number_sections": false,
   "sideBar": true,
   "skip_h1_title": false,
   "title_cell": "Table of Contents",
   "title_sidebar": "Contents",
   "toc_cell": false,
   "toc_position": {},
   "toc_section_display": true,
   "toc_window_display": false
  }
 },
 "nbformat": 4,
 "nbformat_minor": 4
}
