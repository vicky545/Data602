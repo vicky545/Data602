{
  "cells": [
    {
      "attachments": {},
      "cell_type": "markdown",
      "metadata": {
        "id": "5pSWY2k7aLdu"
      },
      "source": [
        "# 602 Final\n",
        "- Deva Kishore ( QA30332 )\n",
        "- Wihar Paladugula ( AN75453 )"
      ]
    },
    {
      "cell_type": "code",
      "execution_count": 1,
      "metadata": {
        "colab": {
          "base_uri": "https://localhost:8080/"
        },
        "id": "BhWmMGhQywAi",
        "outputId": "097587cd-eea8-4bb2-ec3b-95b273478408"
      },
      "outputs": [
        {
          "name": "stderr",
          "output_type": "stream",
          "text": [
            "[nltk_data] Downloading package wordnet to /root/nltk_data...\n",
            "[nltk_data]   Package wordnet is already up-to-date!\n"
          ]
        }
      ],
      "source": [
        "#importing the required packages\n",
        "import pandas as pd\n",
        "import numpy as np\n",
        "import re\n",
        "from nltk.corpus import stopwords\n",
        "import nltk\n",
        "from nltk.stem import WordNetLemmatizer\n",
        "nltk.download('wordnet')\n",
        "from collections import Counter\n",
        "from sklearn.feature_extraction.text import TfidfVectorizer\n",
        "from sklearn.model_selection import train_test_split\n",
        "from sklearn.metrics import silhouette_score,precision_score, recall_score, f1_score\n",
        "import matplotlib.pyplot as plt\n",
        "import plotly.express as px\n",
        "from sklearn.cluster import KMeans\n",
        "from sklearn.pipeline import Pipeline\n",
        "from scipy.stats import uniform, randint\n",
        "from sklearn.decomposition import TruncatedSVD\n",
        "from sklearn.model_selection import RandomizedSearchCV\n",
        "from sklearn.linear_model import LogisticRegression\n",
        "from sklearn.tree import DecisionTreeClassifier\n",
        "from sklearn.ensemble import RandomForestClassifier\n",
        "from sklearn.naive_bayes import MultinomialNB"
      ]
    },
    {
      "cell_type": "code",
      "execution_count": 2,
      "metadata": {
        "id": "pG8hRKXMy1zK"
      },
      "outputs": [],
      "source": [
        "#reading the data\n",
        "df=pd.read_csv(\"https://raw.githubusercontent.com/msaricaumbc/DS_data/master/ds602/final/X_train.csv\")\n",
        "\n",
        "X_final=pd.read_csv(\"https://raw.githubusercontent.com/msaricaumbc/DS_data/master/ds602/final/X_final.csv\")"
      ]
    },
    {
      "cell_type": "code",
      "execution_count": 3,
      "metadata": {
        "colab": {
          "base_uri": "https://localhost:8080/",
          "height": 206
        },
        "id": "GV1I1hUKy60x",
        "outputId": "067e86f4-836c-4074-b5d9-c976afc07b0b"
      },
      "outputs": [
        {
          "data": {
            "text/html": [
              "\n",
              "  <div id=\"df-c1c672ec-6ae3-45ae-9d5a-5cdc638e6ce6\">\n",
              "    <div class=\"colab-df-container\">\n",
              "      <div>\n",
              "<style scoped>\n",
              "    .dataframe tbody tr th:only-of-type {\n",
              "        vertical-align: middle;\n",
              "    }\n",
              "\n",
              "    .dataframe tbody tr th {\n",
              "        vertical-align: top;\n",
              "    }\n",
              "\n",
              "    .dataframe thead th {\n",
              "        text-align: right;\n",
              "    }\n",
              "</style>\n",
              "<table border=\"1\" class=\"dataframe\">\n",
              "  <thead>\n",
              "    <tr style=\"text-align: right;\">\n",
              "      <th></th>\n",
              "      <th>review</th>\n",
              "    </tr>\n",
              "  </thead>\n",
              "  <tbody>\n",
              "    <tr>\n",
              "      <th>0</th>\n",
              "      <td>Shame, is a Swedish film in Swedish with Engli...</td>\n",
              "    </tr>\n",
              "    <tr>\n",
              "      <th>1</th>\n",
              "      <td>I know it's rather unfair to comment on a movi...</td>\n",
              "    </tr>\n",
              "    <tr>\n",
              "      <th>2</th>\n",
              "      <td>\"Bread\" very sharply skewers the conventions o...</td>\n",
              "    </tr>\n",
              "    <tr>\n",
              "      <th>3</th>\n",
              "      <td>After reading tons of good reviews about this ...</td>\n",
              "    </tr>\n",
              "    <tr>\n",
              "      <th>4</th>\n",
              "      <td>During the Civil war a wounded union soldier h...</td>\n",
              "    </tr>\n",
              "  </tbody>\n",
              "</table>\n",
              "</div>\n",
              "      <button class=\"colab-df-convert\" onclick=\"convertToInteractive('df-c1c672ec-6ae3-45ae-9d5a-5cdc638e6ce6')\"\n",
              "              title=\"Convert this dataframe to an interactive table.\"\n",
              "              style=\"display:none;\">\n",
              "        \n",
              "  <svg xmlns=\"http://www.w3.org/2000/svg\" height=\"24px\"viewBox=\"0 0 24 24\"\n",
              "       width=\"24px\">\n",
              "    <path d=\"M0 0h24v24H0V0z\" fill=\"none\"/>\n",
              "    <path d=\"M18.56 5.44l.94 2.06.94-2.06 2.06-.94-2.06-.94-.94-2.06-.94 2.06-2.06.94zm-11 1L8.5 8.5l.94-2.06 2.06-.94-2.06-.94L8.5 2.5l-.94 2.06-2.06.94zm10 10l.94 2.06.94-2.06 2.06-.94-2.06-.94-.94-2.06-.94 2.06-2.06.94z\"/><path d=\"M17.41 7.96l-1.37-1.37c-.4-.4-.92-.59-1.43-.59-.52 0-1.04.2-1.43.59L10.3 9.45l-7.72 7.72c-.78.78-.78 2.05 0 2.83L4 21.41c.39.39.9.59 1.41.59.51 0 1.02-.2 1.41-.59l7.78-7.78 2.81-2.81c.8-.78.8-2.07 0-2.86zM5.41 20L4 18.59l7.72-7.72 1.47 1.35L5.41 20z\"/>\n",
              "  </svg>\n",
              "      </button>\n",
              "      \n",
              "  <style>\n",
              "    .colab-df-container {\n",
              "      display:flex;\n",
              "      flex-wrap:wrap;\n",
              "      gap: 12px;\n",
              "    }\n",
              "\n",
              "    .colab-df-convert {\n",
              "      background-color: #E8F0FE;\n",
              "      border: none;\n",
              "      border-radius: 50%;\n",
              "      cursor: pointer;\n",
              "      display: none;\n",
              "      fill: #1967D2;\n",
              "      height: 32px;\n",
              "      padding: 0 0 0 0;\n",
              "      width: 32px;\n",
              "    }\n",
              "\n",
              "    .colab-df-convert:hover {\n",
              "      background-color: #E2EBFA;\n",
              "      box-shadow: 0px 1px 2px rgba(60, 64, 67, 0.3), 0px 1px 3px 1px rgba(60, 64, 67, 0.15);\n",
              "      fill: #174EA6;\n",
              "    }\n",
              "\n",
              "    [theme=dark] .colab-df-convert {\n",
              "      background-color: #3B4455;\n",
              "      fill: #D2E3FC;\n",
              "    }\n",
              "\n",
              "    [theme=dark] .colab-df-convert:hover {\n",
              "      background-color: #434B5C;\n",
              "      box-shadow: 0px 1px 3px 1px rgba(0, 0, 0, 0.15);\n",
              "      filter: drop-shadow(0px 1px 2px rgba(0, 0, 0, 0.3));\n",
              "      fill: #FFFFFF;\n",
              "    }\n",
              "  </style>\n",
              "\n",
              "      <script>\n",
              "        const buttonEl =\n",
              "          document.querySelector('#df-c1c672ec-6ae3-45ae-9d5a-5cdc638e6ce6 button.colab-df-convert');\n",
              "        buttonEl.style.display =\n",
              "          google.colab.kernel.accessAllowed ? 'block' : 'none';\n",
              "\n",
              "        async function convertToInteractive(key) {\n",
              "          const element = document.querySelector('#df-c1c672ec-6ae3-45ae-9d5a-5cdc638e6ce6');\n",
              "          const dataTable =\n",
              "            await google.colab.kernel.invokeFunction('convertToInteractive',\n",
              "                                                     [key], {});\n",
              "          if (!dataTable) return;\n",
              "\n",
              "          const docLinkHtml = 'Like what you see? Visit the ' +\n",
              "            '<a target=\"_blank\" href=https://colab.research.google.com/notebooks/data_table.ipynb>data table notebook</a>'\n",
              "            + ' to learn more about interactive tables.';\n",
              "          element.innerHTML = '';\n",
              "          dataTable['output_type'] = 'display_data';\n",
              "          await google.colab.output.renderOutput(dataTable, element);\n",
              "          const docLink = document.createElement('div');\n",
              "          docLink.innerHTML = docLinkHtml;\n",
              "          element.appendChild(docLink);\n",
              "        }\n",
              "      </script>\n",
              "    </div>\n",
              "  </div>\n",
              "  "
            ],
            "text/plain": [
              "                                              review\n",
              "0  Shame, is a Swedish film in Swedish with Engli...\n",
              "1  I know it's rather unfair to comment on a movi...\n",
              "2  \"Bread\" very sharply skewers the conventions o...\n",
              "3  After reading tons of good reviews about this ...\n",
              "4  During the Civil war a wounded union soldier h..."
            ]
          },
          "execution_count": 3,
          "metadata": {},
          "output_type": "execute_result"
        }
      ],
      "source": [
        "df.head()"
      ]
    },
    {
      "cell_type": "code",
      "execution_count": 4,
      "metadata": {
        "colab": {
          "base_uri": "https://localhost:8080/"
        },
        "id": "KYQAcPfJTIcP",
        "outputId": "97f61644-e73e-4c0c-95c4-bd0ebf6731ab"
      },
      "outputs": [
        {
          "name": "stdout",
          "output_type": "stream",
          "text": [
            "<class 'pandas.core.frame.DataFrame'>\n",
            "RangeIndex: 40000 entries, 0 to 39999\n",
            "Data columns (total 1 columns):\n",
            " #   Column  Non-Null Count  Dtype \n",
            "---  ------  --------------  ----- \n",
            " 0   review  40000 non-null  object\n",
            "dtypes: object(1)\n",
            "memory usage: 312.6+ KB\n"
          ]
        }
      ],
      "source": [
        "df.info()"
      ]
    },
    {
      "cell_type": "code",
      "execution_count": 5,
      "metadata": {
        "colab": {
          "base_uri": "https://localhost:8080/",
          "height": 206
        },
        "id": "XrDgrsa81APW",
        "outputId": "45a31237-5b24-467d-d4ec-3b70cb14ff61"
      },
      "outputs": [
        {
          "data": {
            "text/html": [
              "\n",
              "  <div id=\"df-0a1842fb-ff12-4a47-9d51-26aad698dc2d\">\n",
              "    <div class=\"colab-df-container\">\n",
              "      <div>\n",
              "<style scoped>\n",
              "    .dataframe tbody tr th:only-of-type {\n",
              "        vertical-align: middle;\n",
              "    }\n",
              "\n",
              "    .dataframe tbody tr th {\n",
              "        vertical-align: top;\n",
              "    }\n",
              "\n",
              "    .dataframe thead th {\n",
              "        text-align: right;\n",
              "    }\n",
              "</style>\n",
              "<table border=\"1\" class=\"dataframe\">\n",
              "  <thead>\n",
              "    <tr style=\"text-align: right;\">\n",
              "      <th></th>\n",
              "      <th>review</th>\n",
              "    </tr>\n",
              "  </thead>\n",
              "  <tbody>\n",
              "    <tr>\n",
              "      <th>0</th>\n",
              "      <td>I first saw Heimat 2 on BBC2 in the 90's when ...</td>\n",
              "    </tr>\n",
              "    <tr>\n",
              "      <th>1</th>\n",
              "      <td>I sat down to watch \"Midnight Cowboy\" thinking...</td>\n",
              "    </tr>\n",
              "    <tr>\n",
              "      <th>2</th>\n",
              "      <td>I can never fathom why people take time to rev...</td>\n",
              "    </tr>\n",
              "    <tr>\n",
              "      <th>3</th>\n",
              "      <td>With that line starts one silly, boring Britis...</td>\n",
              "    </tr>\n",
              "    <tr>\n",
              "      <th>4</th>\n",
              "      <td>Here's the spoiler: At the end of the movie, a...</td>\n",
              "    </tr>\n",
              "  </tbody>\n",
              "</table>\n",
              "</div>\n",
              "      <button class=\"colab-df-convert\" onclick=\"convertToInteractive('df-0a1842fb-ff12-4a47-9d51-26aad698dc2d')\"\n",
              "              title=\"Convert this dataframe to an interactive table.\"\n",
              "              style=\"display:none;\">\n",
              "        \n",
              "  <svg xmlns=\"http://www.w3.org/2000/svg\" height=\"24px\"viewBox=\"0 0 24 24\"\n",
              "       width=\"24px\">\n",
              "    <path d=\"M0 0h24v24H0V0z\" fill=\"none\"/>\n",
              "    <path d=\"M18.56 5.44l.94 2.06.94-2.06 2.06-.94-2.06-.94-.94-2.06-.94 2.06-2.06.94zm-11 1L8.5 8.5l.94-2.06 2.06-.94-2.06-.94L8.5 2.5l-.94 2.06-2.06.94zm10 10l.94 2.06.94-2.06 2.06-.94-2.06-.94-.94-2.06-.94 2.06-2.06.94z\"/><path d=\"M17.41 7.96l-1.37-1.37c-.4-.4-.92-.59-1.43-.59-.52 0-1.04.2-1.43.59L10.3 9.45l-7.72 7.72c-.78.78-.78 2.05 0 2.83L4 21.41c.39.39.9.59 1.41.59.51 0 1.02-.2 1.41-.59l7.78-7.78 2.81-2.81c.8-.78.8-2.07 0-2.86zM5.41 20L4 18.59l7.72-7.72 1.47 1.35L5.41 20z\"/>\n",
              "  </svg>\n",
              "      </button>\n",
              "      \n",
              "  <style>\n",
              "    .colab-df-container {\n",
              "      display:flex;\n",
              "      flex-wrap:wrap;\n",
              "      gap: 12px;\n",
              "    }\n",
              "\n",
              "    .colab-df-convert {\n",
              "      background-color: #E8F0FE;\n",
              "      border: none;\n",
              "      border-radius: 50%;\n",
              "      cursor: pointer;\n",
              "      display: none;\n",
              "      fill: #1967D2;\n",
              "      height: 32px;\n",
              "      padding: 0 0 0 0;\n",
              "      width: 32px;\n",
              "    }\n",
              "\n",
              "    .colab-df-convert:hover {\n",
              "      background-color: #E2EBFA;\n",
              "      box-shadow: 0px 1px 2px rgba(60, 64, 67, 0.3), 0px 1px 3px 1px rgba(60, 64, 67, 0.15);\n",
              "      fill: #174EA6;\n",
              "    }\n",
              "\n",
              "    [theme=dark] .colab-df-convert {\n",
              "      background-color: #3B4455;\n",
              "      fill: #D2E3FC;\n",
              "    }\n",
              "\n",
              "    [theme=dark] .colab-df-convert:hover {\n",
              "      background-color: #434B5C;\n",
              "      box-shadow: 0px 1px 3px 1px rgba(0, 0, 0, 0.15);\n",
              "      filter: drop-shadow(0px 1px 2px rgba(0, 0, 0, 0.3));\n",
              "      fill: #FFFFFF;\n",
              "    }\n",
              "  </style>\n",
              "\n",
              "      <script>\n",
              "        const buttonEl =\n",
              "          document.querySelector('#df-0a1842fb-ff12-4a47-9d51-26aad698dc2d button.colab-df-convert');\n",
              "        buttonEl.style.display =\n",
              "          google.colab.kernel.accessAllowed ? 'block' : 'none';\n",
              "\n",
              "        async function convertToInteractive(key) {\n",
              "          const element = document.querySelector('#df-0a1842fb-ff12-4a47-9d51-26aad698dc2d');\n",
              "          const dataTable =\n",
              "            await google.colab.kernel.invokeFunction('convertToInteractive',\n",
              "                                                     [key], {});\n",
              "          if (!dataTable) return;\n",
              "\n",
              "          const docLinkHtml = 'Like what you see? Visit the ' +\n",
              "            '<a target=\"_blank\" href=https://colab.research.google.com/notebooks/data_table.ipynb>data table notebook</a>'\n",
              "            + ' to learn more about interactive tables.';\n",
              "          element.innerHTML = '';\n",
              "          dataTable['output_type'] = 'display_data';\n",
              "          await google.colab.output.renderOutput(dataTable, element);\n",
              "          const docLink = document.createElement('div');\n",
              "          docLink.innerHTML = docLinkHtml;\n",
              "          element.appendChild(docLink);\n",
              "        }\n",
              "      </script>\n",
              "    </div>\n",
              "  </div>\n",
              "  "
            ],
            "text/plain": [
              "                                              review\n",
              "0  I first saw Heimat 2 on BBC2 in the 90's when ...\n",
              "1  I sat down to watch \"Midnight Cowboy\" thinking...\n",
              "2  I can never fathom why people take time to rev...\n",
              "3  With that line starts one silly, boring Britis...\n",
              "4  Here's the spoiler: At the end of the movie, a..."
            ]
          },
          "execution_count": 5,
          "metadata": {},
          "output_type": "execute_result"
        }
      ],
      "source": [
        "X_final.head()"
      ]
    },
    {
      "cell_type": "code",
      "execution_count": 6,
      "metadata": {
        "colab": {
          "base_uri": "https://localhost:8080/"
        },
        "id": "3qZDOwWHTS-f",
        "outputId": "199a770c-335f-412b-802a-9b7a11a75d48"
      },
      "outputs": [
        {
          "name": "stdout",
          "output_type": "stream",
          "text": [
            "<class 'pandas.core.frame.DataFrame'>\n",
            "RangeIndex: 10000 entries, 0 to 9999\n",
            "Data columns (total 1 columns):\n",
            " #   Column  Non-Null Count  Dtype \n",
            "---  ------  --------------  ----- \n",
            " 0   review  10000 non-null  object\n",
            "dtypes: object(1)\n",
            "memory usage: 78.2+ KB\n"
          ]
        }
      ],
      "source": [
        "X_final.info()"
      ]
    },
    {
      "attachments": {},
      "cell_type": "markdown",
      "metadata": {
        "id": "4jTx_NIa02hT"
      },
      "source": [
        "- No Nulls in the data"
      ]
    },
    {
      "cell_type": "code",
      "execution_count": 7,
      "metadata": {
        "id": "3p5uIAbK_bTk"
      },
      "outputs": [],
      "source": [
        "sentiment=pd.read_csv(\"https://raw.githubusercontent.com/msaricaumbc/DS_data/master/ds602/final/y_train.csv\")"
      ]
    },
    {
      "attachments": {},
      "cell_type": "markdown",
      "metadata": {
        "id": "FwKOtbCCZEt1"
      },
      "source": [
        "## Cleaning"
      ]
    },
    {
      "cell_type": "code",
      "execution_count": 8,
      "metadata": {
        "colab": {
          "base_uri": "https://localhost:8080/"
        },
        "id": "ciFMduxK1p9h",
        "outputId": "1d2ad88a-18ff-465b-ad0d-7bdffcb64c4a"
      },
      "outputs": [
        {
          "name": "stdout",
          "output_type": "stream",
          "text": [
            "{'br /', '-----Minor Spoilers!-----'}\n"
          ]
        }
      ],
      "source": [
        "pattern = r'<(.*?)>'\n",
        "\n",
        "# extracting words between <>\n",
        "words = re.findall(pattern, df['review'].to_string())\n",
        "\n",
        "unique_words = set(words)\n",
        "\n",
        "print(unique_words)"
      ]
    },
    {
      "cell_type": "code",
      "execution_count": 9,
      "metadata": {
        "id": "fSS9I9u2ZGqS"
      },
      "outputs": [],
      "source": [
        "# removing any HTML tags from the 'review' column\n",
        "df['review'] = df['review'].apply(lambda x: re.sub('<.*?>', '', x))\n",
        "\n",
        "# removing any non-alphabetic characters from the 'review' column\n",
        "df['review'] = df['review'].apply(lambda x: re.sub('[^a-zA-Z0-9]', ' ', x))\n",
        "\n",
        "# converting all text to lowercase\n",
        "df['review'] = df['review'].apply(lambda x: x.lower())\n",
        "\n",
        "# removing any extra whitespace\n",
        "df['review'] = df['review'].apply(lambda x: re.sub('\\s+', ' ', x.strip()))\n"
      ]
    },
    {
      "cell_type": "code",
      "execution_count": 10,
      "metadata": {
        "colab": {
          "base_uri": "https://localhost:8080/"
        },
        "id": "kKAQVkLXdDFa",
        "outputId": "23e8e312-2333-4978-e133-4b02ab41c835"
      },
      "outputs": [
        {
          "name": "stdout",
          "output_type": "stream",
          "text": [
            "set()\n"
          ]
        }
      ],
      "source": [
        "pattern = r'<(.*?)>'\n",
        "\n",
        "# extracting words between <>\n",
        "words = re.findall(pattern, df['review'].to_string())\n",
        "\n",
        "unique_words = set(words)\n",
        "\n",
        "print(unique_words)"
      ]
    },
    {
      "attachments": {},
      "cell_type": "markdown",
      "metadata": {
        "id": "mVgT4JJU1KYI"
      },
      "source": [
        "- Tags are removed\n",
        "- Cleanig is Successful"
      ]
    },
    {
      "cell_type": "code",
      "execution_count": 11,
      "metadata": {
        "colab": {
          "base_uri": "https://localhost:8080/",
          "height": 206
        },
        "id": "eu0kHTS6ZVqU",
        "outputId": "f6206190-dac7-404b-bc03-2f8977b4039a"
      },
      "outputs": [
        {
          "data": {
            "text/html": [
              "\n",
              "  <div id=\"df-f6253ae0-c209-4177-a741-379186e531fb\">\n",
              "    <div class=\"colab-df-container\">\n",
              "      <div>\n",
              "<style scoped>\n",
              "    .dataframe tbody tr th:only-of-type {\n",
              "        vertical-align: middle;\n",
              "    }\n",
              "\n",
              "    .dataframe tbody tr th {\n",
              "        vertical-align: top;\n",
              "    }\n",
              "\n",
              "    .dataframe thead th {\n",
              "        text-align: right;\n",
              "    }\n",
              "</style>\n",
              "<table border=\"1\" class=\"dataframe\">\n",
              "  <thead>\n",
              "    <tr style=\"text-align: right;\">\n",
              "      <th></th>\n",
              "      <th>review</th>\n",
              "    </tr>\n",
              "  </thead>\n",
              "  <tbody>\n",
              "    <tr>\n",
              "      <th>0</th>\n",
              "      <td>shame is a swedish film in swedish with englis...</td>\n",
              "    </tr>\n",
              "    <tr>\n",
              "      <th>1</th>\n",
              "      <td>i know it s rather unfair to comment on a movi...</td>\n",
              "    </tr>\n",
              "    <tr>\n",
              "      <th>2</th>\n",
              "      <td>bread very sharply skewers the conventions of ...</td>\n",
              "    </tr>\n",
              "    <tr>\n",
              "      <th>3</th>\n",
              "      <td>after reading tons of good reviews about this ...</td>\n",
              "    </tr>\n",
              "    <tr>\n",
              "      <th>4</th>\n",
              "      <td>during the civil war a wounded union soldier h...</td>\n",
              "    </tr>\n",
              "  </tbody>\n",
              "</table>\n",
              "</div>\n",
              "      <button class=\"colab-df-convert\" onclick=\"convertToInteractive('df-f6253ae0-c209-4177-a741-379186e531fb')\"\n",
              "              title=\"Convert this dataframe to an interactive table.\"\n",
              "              style=\"display:none;\">\n",
              "        \n",
              "  <svg xmlns=\"http://www.w3.org/2000/svg\" height=\"24px\"viewBox=\"0 0 24 24\"\n",
              "       width=\"24px\">\n",
              "    <path d=\"M0 0h24v24H0V0z\" fill=\"none\"/>\n",
              "    <path d=\"M18.56 5.44l.94 2.06.94-2.06 2.06-.94-2.06-.94-.94-2.06-.94 2.06-2.06.94zm-11 1L8.5 8.5l.94-2.06 2.06-.94-2.06-.94L8.5 2.5l-.94 2.06-2.06.94zm10 10l.94 2.06.94-2.06 2.06-.94-2.06-.94-.94-2.06-.94 2.06-2.06.94z\"/><path d=\"M17.41 7.96l-1.37-1.37c-.4-.4-.92-.59-1.43-.59-.52 0-1.04.2-1.43.59L10.3 9.45l-7.72 7.72c-.78.78-.78 2.05 0 2.83L4 21.41c.39.39.9.59 1.41.59.51 0 1.02-.2 1.41-.59l7.78-7.78 2.81-2.81c.8-.78.8-2.07 0-2.86zM5.41 20L4 18.59l7.72-7.72 1.47 1.35L5.41 20z\"/>\n",
              "  </svg>\n",
              "      </button>\n",
              "      \n",
              "  <style>\n",
              "    .colab-df-container {\n",
              "      display:flex;\n",
              "      flex-wrap:wrap;\n",
              "      gap: 12px;\n",
              "    }\n",
              "\n",
              "    .colab-df-convert {\n",
              "      background-color: #E8F0FE;\n",
              "      border: none;\n",
              "      border-radius: 50%;\n",
              "      cursor: pointer;\n",
              "      display: none;\n",
              "      fill: #1967D2;\n",
              "      height: 32px;\n",
              "      padding: 0 0 0 0;\n",
              "      width: 32px;\n",
              "    }\n",
              "\n",
              "    .colab-df-convert:hover {\n",
              "      background-color: #E2EBFA;\n",
              "      box-shadow: 0px 1px 2px rgba(60, 64, 67, 0.3), 0px 1px 3px 1px rgba(60, 64, 67, 0.15);\n",
              "      fill: #174EA6;\n",
              "    }\n",
              "\n",
              "    [theme=dark] .colab-df-convert {\n",
              "      background-color: #3B4455;\n",
              "      fill: #D2E3FC;\n",
              "    }\n",
              "\n",
              "    [theme=dark] .colab-df-convert:hover {\n",
              "      background-color: #434B5C;\n",
              "      box-shadow: 0px 1px 3px 1px rgba(0, 0, 0, 0.15);\n",
              "      filter: drop-shadow(0px 1px 2px rgba(0, 0, 0, 0.3));\n",
              "      fill: #FFFFFF;\n",
              "    }\n",
              "  </style>\n",
              "\n",
              "      <script>\n",
              "        const buttonEl =\n",
              "          document.querySelector('#df-f6253ae0-c209-4177-a741-379186e531fb button.colab-df-convert');\n",
              "        buttonEl.style.display =\n",
              "          google.colab.kernel.accessAllowed ? 'block' : 'none';\n",
              "\n",
              "        async function convertToInteractive(key) {\n",
              "          const element = document.querySelector('#df-f6253ae0-c209-4177-a741-379186e531fb');\n",
              "          const dataTable =\n",
              "            await google.colab.kernel.invokeFunction('convertToInteractive',\n",
              "                                                     [key], {});\n",
              "          if (!dataTable) return;\n",
              "\n",
              "          const docLinkHtml = 'Like what you see? Visit the ' +\n",
              "            '<a target=\"_blank\" href=https://colab.research.google.com/notebooks/data_table.ipynb>data table notebook</a>'\n",
              "            + ' to learn more about interactive tables.';\n",
              "          element.innerHTML = '';\n",
              "          dataTable['output_type'] = 'display_data';\n",
              "          await google.colab.output.renderOutput(dataTable, element);\n",
              "          const docLink = document.createElement('div');\n",
              "          docLink.innerHTML = docLinkHtml;\n",
              "          element.appendChild(docLink);\n",
              "        }\n",
              "      </script>\n",
              "    </div>\n",
              "  </div>\n",
              "  "
            ],
            "text/plain": [
              "                                              review\n",
              "0  shame is a swedish film in swedish with englis...\n",
              "1  i know it s rather unfair to comment on a movi...\n",
              "2  bread very sharply skewers the conventions of ...\n",
              "3  after reading tons of good reviews about this ...\n",
              "4  during the civil war a wounded union soldier h..."
            ]
          },
          "execution_count": 11,
          "metadata": {},
          "output_type": "execute_result"
        }
      ],
      "source": [
        "df.head()"
      ]
    },
    {
      "cell_type": "code",
      "execution_count": 12,
      "metadata": {
        "id": "tuUrRBI3aUmn"
      },
      "outputs": [],
      "source": [
        "# removing any HTML tags from the 'review' column for final data\n",
        "X_final['review'] = X_final['review'].apply(lambda x: re.sub('<.*?>', '', x))\n",
        "\n",
        "# removing any non-alphabetic characters from the 'review' column\n",
        "X_final['review'] = X_final['review'].apply(lambda x: re.sub('[^a-zA-Z0-9]', ' ', x))\n",
        "\n",
        "# converting all text to lowercase\n",
        "X_final['review'] = X_final['review'].apply(lambda x: x.lower())\n",
        "\n",
        "# removing any extra whitespace\n",
        "X_final['review'] = X_final['review'].apply(lambda x: re.sub('\\s+', ' ', x.strip()))\n"
      ]
    },
    {
      "cell_type": "code",
      "execution_count": 13,
      "metadata": {
        "colab": {
          "base_uri": "https://localhost:8080/",
          "height": 206
        },
        "id": "3z1eDTpZafWZ",
        "outputId": "5a3725b5-1f07-4ff8-d081-eb7c914f5a73"
      },
      "outputs": [
        {
          "data": {
            "text/html": [
              "\n",
              "  <div id=\"df-ddf5be7c-c6ea-477d-87ca-192f440adf0d\">\n",
              "    <div class=\"colab-df-container\">\n",
              "      <div>\n",
              "<style scoped>\n",
              "    .dataframe tbody tr th:only-of-type {\n",
              "        vertical-align: middle;\n",
              "    }\n",
              "\n",
              "    .dataframe tbody tr th {\n",
              "        vertical-align: top;\n",
              "    }\n",
              "\n",
              "    .dataframe thead th {\n",
              "        text-align: right;\n",
              "    }\n",
              "</style>\n",
              "<table border=\"1\" class=\"dataframe\">\n",
              "  <thead>\n",
              "    <tr style=\"text-align: right;\">\n",
              "      <th></th>\n",
              "      <th>review</th>\n",
              "    </tr>\n",
              "  </thead>\n",
              "  <tbody>\n",
              "    <tr>\n",
              "      <th>0</th>\n",
              "      <td>i first saw heimat 2 on bbc2 in the 90 s when ...</td>\n",
              "    </tr>\n",
              "    <tr>\n",
              "      <th>1</th>\n",
              "      <td>i sat down to watch midnight cowboy thinking i...</td>\n",
              "    </tr>\n",
              "    <tr>\n",
              "      <th>2</th>\n",
              "      <td>i can never fathom why people take time to rev...</td>\n",
              "    </tr>\n",
              "    <tr>\n",
              "      <th>3</th>\n",
              "      <td>with that line starts one silly boring british...</td>\n",
              "    </tr>\n",
              "    <tr>\n",
              "      <th>4</th>\n",
              "      <td>here s the spoiler at the end of the movie a l...</td>\n",
              "    </tr>\n",
              "  </tbody>\n",
              "</table>\n",
              "</div>\n",
              "      <button class=\"colab-df-convert\" onclick=\"convertToInteractive('df-ddf5be7c-c6ea-477d-87ca-192f440adf0d')\"\n",
              "              title=\"Convert this dataframe to an interactive table.\"\n",
              "              style=\"display:none;\">\n",
              "        \n",
              "  <svg xmlns=\"http://www.w3.org/2000/svg\" height=\"24px\"viewBox=\"0 0 24 24\"\n",
              "       width=\"24px\">\n",
              "    <path d=\"M0 0h24v24H0V0z\" fill=\"none\"/>\n",
              "    <path d=\"M18.56 5.44l.94 2.06.94-2.06 2.06-.94-2.06-.94-.94-2.06-.94 2.06-2.06.94zm-11 1L8.5 8.5l.94-2.06 2.06-.94-2.06-.94L8.5 2.5l-.94 2.06-2.06.94zm10 10l.94 2.06.94-2.06 2.06-.94-2.06-.94-.94-2.06-.94 2.06-2.06.94z\"/><path d=\"M17.41 7.96l-1.37-1.37c-.4-.4-.92-.59-1.43-.59-.52 0-1.04.2-1.43.59L10.3 9.45l-7.72 7.72c-.78.78-.78 2.05 0 2.83L4 21.41c.39.39.9.59 1.41.59.51 0 1.02-.2 1.41-.59l7.78-7.78 2.81-2.81c.8-.78.8-2.07 0-2.86zM5.41 20L4 18.59l7.72-7.72 1.47 1.35L5.41 20z\"/>\n",
              "  </svg>\n",
              "      </button>\n",
              "      \n",
              "  <style>\n",
              "    .colab-df-container {\n",
              "      display:flex;\n",
              "      flex-wrap:wrap;\n",
              "      gap: 12px;\n",
              "    }\n",
              "\n",
              "    .colab-df-convert {\n",
              "      background-color: #E8F0FE;\n",
              "      border: none;\n",
              "      border-radius: 50%;\n",
              "      cursor: pointer;\n",
              "      display: none;\n",
              "      fill: #1967D2;\n",
              "      height: 32px;\n",
              "      padding: 0 0 0 0;\n",
              "      width: 32px;\n",
              "    }\n",
              "\n",
              "    .colab-df-convert:hover {\n",
              "      background-color: #E2EBFA;\n",
              "      box-shadow: 0px 1px 2px rgba(60, 64, 67, 0.3), 0px 1px 3px 1px rgba(60, 64, 67, 0.15);\n",
              "      fill: #174EA6;\n",
              "    }\n",
              "\n",
              "    [theme=dark] .colab-df-convert {\n",
              "      background-color: #3B4455;\n",
              "      fill: #D2E3FC;\n",
              "    }\n",
              "\n",
              "    [theme=dark] .colab-df-convert:hover {\n",
              "      background-color: #434B5C;\n",
              "      box-shadow: 0px 1px 3px 1px rgba(0, 0, 0, 0.15);\n",
              "      filter: drop-shadow(0px 1px 2px rgba(0, 0, 0, 0.3));\n",
              "      fill: #FFFFFF;\n",
              "    }\n",
              "  </style>\n",
              "\n",
              "      <script>\n",
              "        const buttonEl =\n",
              "          document.querySelector('#df-ddf5be7c-c6ea-477d-87ca-192f440adf0d button.colab-df-convert');\n",
              "        buttonEl.style.display =\n",
              "          google.colab.kernel.accessAllowed ? 'block' : 'none';\n",
              "\n",
              "        async function convertToInteractive(key) {\n",
              "          const element = document.querySelector('#df-ddf5be7c-c6ea-477d-87ca-192f440adf0d');\n",
              "          const dataTable =\n",
              "            await google.colab.kernel.invokeFunction('convertToInteractive',\n",
              "                                                     [key], {});\n",
              "          if (!dataTable) return;\n",
              "\n",
              "          const docLinkHtml = 'Like what you see? Visit the ' +\n",
              "            '<a target=\"_blank\" href=https://colab.research.google.com/notebooks/data_table.ipynb>data table notebook</a>'\n",
              "            + ' to learn more about interactive tables.';\n",
              "          element.innerHTML = '';\n",
              "          dataTable['output_type'] = 'display_data';\n",
              "          await google.colab.output.renderOutput(dataTable, element);\n",
              "          const docLink = document.createElement('div');\n",
              "          docLink.innerHTML = docLinkHtml;\n",
              "          element.appendChild(docLink);\n",
              "        }\n",
              "      </script>\n",
              "    </div>\n",
              "  </div>\n",
              "  "
            ],
            "text/plain": [
              "                                              review\n",
              "0  i first saw heimat 2 on bbc2 in the 90 s when ...\n",
              "1  i sat down to watch midnight cowboy thinking i...\n",
              "2  i can never fathom why people take time to rev...\n",
              "3  with that line starts one silly boring british...\n",
              "4  here s the spoiler at the end of the movie a l..."
            ]
          },
          "execution_count": 13,
          "metadata": {},
          "output_type": "execute_result"
        }
      ],
      "source": [
        "X_final.head()"
      ]
    },
    {
      "cell_type": "code",
      "execution_count": 14,
      "metadata": {
        "colab": {
          "base_uri": "https://localhost:8080/"
        },
        "id": "6VKAa8T3aigi",
        "outputId": "a0c8dfc7-3530-4fcf-85e5-f36fc28ea37f"
      },
      "outputs": [
        {
          "name": "stdout",
          "output_type": "stream",
          "text": [
            "set()\n"
          ]
        }
      ],
      "source": [
        "pattern = r'<(.*?)>'\n",
        "\n",
        "# extracting words between <>\n",
        "words = re.findall(pattern, X_final['review'].to_string())\n",
        "\n",
        "unique_words = set(words)\n",
        "\n",
        "print(unique_words)"
      ]
    },
    {
      "attachments": {},
      "cell_type": "markdown",
      "metadata": {
        "id": "DfU2KUOQdytu"
      },
      "source": [
        "- First saw what all html tags were there\n",
        "- Removed html tags, non alphabetical letter, any extra white spaces.\n",
        "- Made all reviews lower "
      ]
    },
    {
      "attachments": {},
      "cell_type": "markdown",
      "metadata": {
        "id": "6jZRx3eAfvuW"
      },
      "source": [
        "## Removing Stop Words"
      ]
    },
    {
      "cell_type": "code",
      "execution_count": 15,
      "metadata": {
        "colab": {
          "base_uri": "https://localhost:8080/",
          "height": 241
        },
        "id": "YtTo_h1te0zM",
        "outputId": "ba25bfbd-ccde-44b0-f016-b944f719a2dc"
      },
      "outputs": [
        {
          "name": "stderr",
          "output_type": "stream",
          "text": [
            "[nltk_data] Downloading package stopwords to /root/nltk_data...\n",
            "[nltk_data]   Package stopwords is already up-to-date!\n"
          ]
        },
        {
          "data": {
            "text/html": [
              "\n",
              "  <div id=\"df-b9d8e74c-0668-44e2-a9b0-3e43524ff0b0\">\n",
              "    <div class=\"colab-df-container\">\n",
              "      <div>\n",
              "<style scoped>\n",
              "    .dataframe tbody tr th:only-of-type {\n",
              "        vertical-align: middle;\n",
              "    }\n",
              "\n",
              "    .dataframe tbody tr th {\n",
              "        vertical-align: top;\n",
              "    }\n",
              "\n",
              "    .dataframe thead th {\n",
              "        text-align: right;\n",
              "    }\n",
              "</style>\n",
              "<table border=\"1\" class=\"dataframe\">\n",
              "  <thead>\n",
              "    <tr style=\"text-align: right;\">\n",
              "      <th></th>\n",
              "      <th>review</th>\n",
              "    </tr>\n",
              "  </thead>\n",
              "  <tbody>\n",
              "    <tr>\n",
              "      <th>0</th>\n",
              "      <td>shame swedish film swedish english subtitles f...</td>\n",
              "    </tr>\n",
              "    <tr>\n",
              "      <th>1</th>\n",
              "      <td>know rather unfair comment movie without seein...</td>\n",
              "    </tr>\n",
              "    <tr>\n",
              "      <th>2</th>\n",
              "      <td>bread sharply skewers conventions horror movie...</td>\n",
              "    </tr>\n",
              "    <tr>\n",
              "      <th>3</th>\n",
              "      <td>reading tons good reviews movie decided take s...</td>\n",
              "    </tr>\n",
              "    <tr>\n",
              "      <th>4</th>\n",
              "      <td>civil war wounded union soldier hides isolated...</td>\n",
              "    </tr>\n",
              "  </tbody>\n",
              "</table>\n",
              "</div>\n",
              "      <button class=\"colab-df-convert\" onclick=\"convertToInteractive('df-b9d8e74c-0668-44e2-a9b0-3e43524ff0b0')\"\n",
              "              title=\"Convert this dataframe to an interactive table.\"\n",
              "              style=\"display:none;\">\n",
              "        \n",
              "  <svg xmlns=\"http://www.w3.org/2000/svg\" height=\"24px\"viewBox=\"0 0 24 24\"\n",
              "       width=\"24px\">\n",
              "    <path d=\"M0 0h24v24H0V0z\" fill=\"none\"/>\n",
              "    <path d=\"M18.56 5.44l.94 2.06.94-2.06 2.06-.94-2.06-.94-.94-2.06-.94 2.06-2.06.94zm-11 1L8.5 8.5l.94-2.06 2.06-.94-2.06-.94L8.5 2.5l-.94 2.06-2.06.94zm10 10l.94 2.06.94-2.06 2.06-.94-2.06-.94-.94-2.06-.94 2.06-2.06.94z\"/><path d=\"M17.41 7.96l-1.37-1.37c-.4-.4-.92-.59-1.43-.59-.52 0-1.04.2-1.43.59L10.3 9.45l-7.72 7.72c-.78.78-.78 2.05 0 2.83L4 21.41c.39.39.9.59 1.41.59.51 0 1.02-.2 1.41-.59l7.78-7.78 2.81-2.81c.8-.78.8-2.07 0-2.86zM5.41 20L4 18.59l7.72-7.72 1.47 1.35L5.41 20z\"/>\n",
              "  </svg>\n",
              "      </button>\n",
              "      \n",
              "  <style>\n",
              "    .colab-df-container {\n",
              "      display:flex;\n",
              "      flex-wrap:wrap;\n",
              "      gap: 12px;\n",
              "    }\n",
              "\n",
              "    .colab-df-convert {\n",
              "      background-color: #E8F0FE;\n",
              "      border: none;\n",
              "      border-radius: 50%;\n",
              "      cursor: pointer;\n",
              "      display: none;\n",
              "      fill: #1967D2;\n",
              "      height: 32px;\n",
              "      padding: 0 0 0 0;\n",
              "      width: 32px;\n",
              "    }\n",
              "\n",
              "    .colab-df-convert:hover {\n",
              "      background-color: #E2EBFA;\n",
              "      box-shadow: 0px 1px 2px rgba(60, 64, 67, 0.3), 0px 1px 3px 1px rgba(60, 64, 67, 0.15);\n",
              "      fill: #174EA6;\n",
              "    }\n",
              "\n",
              "    [theme=dark] .colab-df-convert {\n",
              "      background-color: #3B4455;\n",
              "      fill: #D2E3FC;\n",
              "    }\n",
              "\n",
              "    [theme=dark] .colab-df-convert:hover {\n",
              "      background-color: #434B5C;\n",
              "      box-shadow: 0px 1px 3px 1px rgba(0, 0, 0, 0.15);\n",
              "      filter: drop-shadow(0px 1px 2px rgba(0, 0, 0, 0.3));\n",
              "      fill: #FFFFFF;\n",
              "    }\n",
              "  </style>\n",
              "\n",
              "      <script>\n",
              "        const buttonEl =\n",
              "          document.querySelector('#df-b9d8e74c-0668-44e2-a9b0-3e43524ff0b0 button.colab-df-convert');\n",
              "        buttonEl.style.display =\n",
              "          google.colab.kernel.accessAllowed ? 'block' : 'none';\n",
              "\n",
              "        async function convertToInteractive(key) {\n",
              "          const element = document.querySelector('#df-b9d8e74c-0668-44e2-a9b0-3e43524ff0b0');\n",
              "          const dataTable =\n",
              "            await google.colab.kernel.invokeFunction('convertToInteractive',\n",
              "                                                     [key], {});\n",
              "          if (!dataTable) return;\n",
              "\n",
              "          const docLinkHtml = 'Like what you see? Visit the ' +\n",
              "            '<a target=\"_blank\" href=https://colab.research.google.com/notebooks/data_table.ipynb>data table notebook</a>'\n",
              "            + ' to learn more about interactive tables.';\n",
              "          element.innerHTML = '';\n",
              "          dataTable['output_type'] = 'display_data';\n",
              "          await google.colab.output.renderOutput(dataTable, element);\n",
              "          const docLink = document.createElement('div');\n",
              "          docLink.innerHTML = docLinkHtml;\n",
              "          element.appendChild(docLink);\n",
              "        }\n",
              "      </script>\n",
              "    </div>\n",
              "  </div>\n",
              "  "
            ],
            "text/plain": [
              "                                              review\n",
              "0  shame swedish film swedish english subtitles f...\n",
              "1  know rather unfair comment movie without seein...\n",
              "2  bread sharply skewers conventions horror movie...\n",
              "3  reading tons good reviews movie decided take s...\n",
              "4  civil war wounded union soldier hides isolated..."
            ]
          },
          "execution_count": 15,
          "metadata": {},
          "output_type": "execute_result"
        }
      ],
      "source": [
        "nltk.download('stopwords') #download if stopwords is not present\n",
        "\n",
        "# function to remove stop words\n",
        "def remove_stop_words(text):\n",
        "    stop_words = set(stopwords.words('english'))\n",
        "    words = text.split()\n",
        "    filtered_words = [word for word in words if word.lower() not in stop_words]\n",
        "    return ' '.join(filtered_words)\n",
        "\n",
        "# applying function to remove stop words\n",
        "df['review'] = df['review'].apply(remove_stop_words)\n",
        "\n",
        "df.head()"
      ]
    },
    {
      "cell_type": "code",
      "execution_count": 16,
      "metadata": {
        "colab": {
          "base_uri": "https://localhost:8080/",
          "height": 206
        },
        "id": "Pw-9C_KYgNax",
        "outputId": "e680561b-eb41-4be1-f29c-0bfe3703cbb5"
      },
      "outputs": [
        {
          "data": {
            "text/html": [
              "\n",
              "  <div id=\"df-72344987-ec2e-4610-ad91-25e9a2db8a02\">\n",
              "    <div class=\"colab-df-container\">\n",
              "      <div>\n",
              "<style scoped>\n",
              "    .dataframe tbody tr th:only-of-type {\n",
              "        vertical-align: middle;\n",
              "    }\n",
              "\n",
              "    .dataframe tbody tr th {\n",
              "        vertical-align: top;\n",
              "    }\n",
              "\n",
              "    .dataframe thead th {\n",
              "        text-align: right;\n",
              "    }\n",
              "</style>\n",
              "<table border=\"1\" class=\"dataframe\">\n",
              "  <thead>\n",
              "    <tr style=\"text-align: right;\">\n",
              "      <th></th>\n",
              "      <th>review</th>\n",
              "    </tr>\n",
              "  </thead>\n",
              "  <tbody>\n",
              "    <tr>\n",
              "      <th>0</th>\n",
              "      <td>first saw heimat 2 bbc2 90 art college living ...</td>\n",
              "    </tr>\n",
              "    <tr>\n",
              "      <th>1</th>\n",
              "      <td>sat watch midnight cowboy thinking would anoth...</td>\n",
              "    </tr>\n",
              "    <tr>\n",
              "      <th>2</th>\n",
              "      <td>never fathom people take time review movies un...</td>\n",
              "    </tr>\n",
              "    <tr>\n",
              "      <th>3</th>\n",
              "      <td>line starts one silly boring british sci fi fi...</td>\n",
              "    </tr>\n",
              "    <tr>\n",
              "      <th>4</th>\n",
              "      <td>spoiler end movie little piece dies spend rest...</td>\n",
              "    </tr>\n",
              "  </tbody>\n",
              "</table>\n",
              "</div>\n",
              "      <button class=\"colab-df-convert\" onclick=\"convertToInteractive('df-72344987-ec2e-4610-ad91-25e9a2db8a02')\"\n",
              "              title=\"Convert this dataframe to an interactive table.\"\n",
              "              style=\"display:none;\">\n",
              "        \n",
              "  <svg xmlns=\"http://www.w3.org/2000/svg\" height=\"24px\"viewBox=\"0 0 24 24\"\n",
              "       width=\"24px\">\n",
              "    <path d=\"M0 0h24v24H0V0z\" fill=\"none\"/>\n",
              "    <path d=\"M18.56 5.44l.94 2.06.94-2.06 2.06-.94-2.06-.94-.94-2.06-.94 2.06-2.06.94zm-11 1L8.5 8.5l.94-2.06 2.06-.94-2.06-.94L8.5 2.5l-.94 2.06-2.06.94zm10 10l.94 2.06.94-2.06 2.06-.94-2.06-.94-.94-2.06-.94 2.06-2.06.94z\"/><path d=\"M17.41 7.96l-1.37-1.37c-.4-.4-.92-.59-1.43-.59-.52 0-1.04.2-1.43.59L10.3 9.45l-7.72 7.72c-.78.78-.78 2.05 0 2.83L4 21.41c.39.39.9.59 1.41.59.51 0 1.02-.2 1.41-.59l7.78-7.78 2.81-2.81c.8-.78.8-2.07 0-2.86zM5.41 20L4 18.59l7.72-7.72 1.47 1.35L5.41 20z\"/>\n",
              "  </svg>\n",
              "      </button>\n",
              "      \n",
              "  <style>\n",
              "    .colab-df-container {\n",
              "      display:flex;\n",
              "      flex-wrap:wrap;\n",
              "      gap: 12px;\n",
              "    }\n",
              "\n",
              "    .colab-df-convert {\n",
              "      background-color: #E8F0FE;\n",
              "      border: none;\n",
              "      border-radius: 50%;\n",
              "      cursor: pointer;\n",
              "      display: none;\n",
              "      fill: #1967D2;\n",
              "      height: 32px;\n",
              "      padding: 0 0 0 0;\n",
              "      width: 32px;\n",
              "    }\n",
              "\n",
              "    .colab-df-convert:hover {\n",
              "      background-color: #E2EBFA;\n",
              "      box-shadow: 0px 1px 2px rgba(60, 64, 67, 0.3), 0px 1px 3px 1px rgba(60, 64, 67, 0.15);\n",
              "      fill: #174EA6;\n",
              "    }\n",
              "\n",
              "    [theme=dark] .colab-df-convert {\n",
              "      background-color: #3B4455;\n",
              "      fill: #D2E3FC;\n",
              "    }\n",
              "\n",
              "    [theme=dark] .colab-df-convert:hover {\n",
              "      background-color: #434B5C;\n",
              "      box-shadow: 0px 1px 3px 1px rgba(0, 0, 0, 0.15);\n",
              "      filter: drop-shadow(0px 1px 2px rgba(0, 0, 0, 0.3));\n",
              "      fill: #FFFFFF;\n",
              "    }\n",
              "  </style>\n",
              "\n",
              "      <script>\n",
              "        const buttonEl =\n",
              "          document.querySelector('#df-72344987-ec2e-4610-ad91-25e9a2db8a02 button.colab-df-convert');\n",
              "        buttonEl.style.display =\n",
              "          google.colab.kernel.accessAllowed ? 'block' : 'none';\n",
              "\n",
              "        async function convertToInteractive(key) {\n",
              "          const element = document.querySelector('#df-72344987-ec2e-4610-ad91-25e9a2db8a02');\n",
              "          const dataTable =\n",
              "            await google.colab.kernel.invokeFunction('convertToInteractive',\n",
              "                                                     [key], {});\n",
              "          if (!dataTable) return;\n",
              "\n",
              "          const docLinkHtml = 'Like what you see? Visit the ' +\n",
              "            '<a target=\"_blank\" href=https://colab.research.google.com/notebooks/data_table.ipynb>data table notebook</a>'\n",
              "            + ' to learn more about interactive tables.';\n",
              "          element.innerHTML = '';\n",
              "          dataTable['output_type'] = 'display_data';\n",
              "          await google.colab.output.renderOutput(dataTable, element);\n",
              "          const docLink = document.createElement('div');\n",
              "          docLink.innerHTML = docLinkHtml;\n",
              "          element.appendChild(docLink);\n",
              "        }\n",
              "      </script>\n",
              "    </div>\n",
              "  </div>\n",
              "  "
            ],
            "text/plain": [
              "                                              review\n",
              "0  first saw heimat 2 bbc2 90 art college living ...\n",
              "1  sat watch midnight cowboy thinking would anoth...\n",
              "2  never fathom people take time review movies un...\n",
              "3  line starts one silly boring british sci fi fi...\n",
              "4  spoiler end movie little piece dies spend rest..."
            ]
          },
          "execution_count": 16,
          "metadata": {},
          "output_type": "execute_result"
        }
      ],
      "source": [
        "X_final['review'] = X_final['review'].apply(remove_stop_words)\n",
        "\n",
        "X_final.head()"
      ]
    },
    {
      "attachments": {},
      "cell_type": "markdown",
      "metadata": {
        "id": "dl7oZg901xAM"
      },
      "source": [
        "- Removed stop words like the,is,etc which may effect model performance"
      ]
    },
    {
      "attachments": {},
      "cell_type": "markdown",
      "metadata": {
        "id": "2ddVYuvZdrjn"
      },
      "source": [
        "## Text stemming"
      ]
    },
    {
      "attachments": {},
      "cell_type": "markdown",
      "metadata": {
        "id": "mBThuTATduqF"
      },
      "source": [
        "- Words like \"jumping\" can be stemmed to \"jump\" by removing the suffix \"-ing.\" Similarly, the word \"runner\" can be stemmed to \"run\" by removing the suffix \"-er.\" \n",
        "- By performing stemming on a text , different variations of a word can be reduced to a single word, which can help with tasks such as text classification, information retrieval, and text analysis."
      ]
    },
    {
      "cell_type": "code",
      "execution_count": 17,
      "metadata": {
        "id": "InMjL6YndtVT"
      },
      "outputs": [],
      "source": [
        "# from nltk.stem import PorterStemmer\n",
        "\n",
        "# # initializing the Porter stemmer\n",
        "# ps = PorterStemmer()\n",
        "\n",
        "# # function to apply stemmer on each word of text\n",
        "# def stem_words(text):\n",
        "#     stemmed_words = [ps.stem(word) for word in text.split()]\n",
        "#     return ' '.join(stemmed_words)\n",
        "\n",
        "# df['review'] = df['review'].apply(stem_words)\n"
      ]
    },
    {
      "attachments": {},
      "cell_type": "markdown",
      "metadata": {
        "id": "BxvplNNRlnXO"
      },
      "source": [
        "- Initially used stemming but words lost meaning hence used Lemmitizer"
      ]
    },
    {
      "attachments": {},
      "cell_type": "markdown",
      "metadata": {
        "id": "BqekNFt2l5E9"
      },
      "source": [
        "## Text Lemmatizing"
      ]
    },
    {
      "cell_type": "code",
      "execution_count": 18,
      "metadata": {
        "id": "WlOWKJM8k6a6"
      },
      "outputs": [],
      "source": [
        "# initializing the WordNetLemmatizer\n",
        "lemmatizer = WordNetLemmatizer()\n",
        "\n",
        "# function to apply lemmatizer on each word of text\n",
        "def lemmatize_words(text):\n",
        "    lem_words = [lemmatizer.lemmatize(word) for word in text.split()]\n",
        "    return ' '.join(lem_words)\n",
        "\n",
        "# appling the lemmatizer to the 'review' column\n",
        "df['review'] = df['review'].apply(lemmatize_words)\n"
      ]
    },
    {
      "cell_type": "code",
      "execution_count": 19,
      "metadata": {
        "id": "J4ZlicKShQn2"
      },
      "outputs": [],
      "source": [
        "# appling the lemmatizer to the 'review' column for prod data\n",
        "X_final['review'] = X_final['review'].apply(lemmatize_words)"
      ]
    },
    {
      "attachments": {},
      "cell_type": "markdown",
      "metadata": {
        "id": "bndDfvOjpBRh"
      },
      "source": [
        "- Applied Text stemming, removed stop words "
      ]
    },
    {
      "attachments": {},
      "cell_type": "markdown",
      "metadata": {
        "id": "YUlx7GV4hN5V"
      },
      "source": [
        "## Word Plot"
      ]
    },
    {
      "cell_type": "code",
      "execution_count": 20,
      "metadata": {
        "colab": {
          "base_uri": "https://localhost:8080/",
          "height": 817
        },
        "id": "yGKd6vcCgbyR",
        "outputId": "36535d91-6f6c-493f-ac83-d07743ee34fb"
      },
      "outputs": [
        {
          "data": {
            "text/html": [
              "<html>\n",
              "<head><meta charset=\"utf-8\" /></head>\n",
              "<body>\n",
              "    <div>            <script src=\"https://cdnjs.cloudflare.com/ajax/libs/mathjax/2.7.5/MathJax.js?config=TeX-AMS-MML_SVG\"></script><script type=\"text/javascript\">if (window.MathJax && window.MathJax.Hub && window.MathJax.Hub.Config) {window.MathJax.Hub.Config({SVG: {font: \"STIX-Web\"}});}</script>                <script type=\"text/javascript\">window.PlotlyConfig = {MathJaxConfig: 'local'};</script>\n",
              "        <script src=\"https://cdn.plot.ly/plotly-2.18.2.min.js\"></script>                <div id=\"4c5c477a-0b13-4f93-ad19-1eddf0e85433\" class=\"plotly-graph-div\" style=\"height:800px; width:800px;\"></div>            <script type=\"text/javascript\">                                    window.PLOTLYENV=window.PLOTLYENV || {};                                    if (document.getElementById(\"4c5c477a-0b13-4f93-ad19-1eddf0e85433\")) {                    Plotly.newPlot(                        \"4c5c477a-0b13-4f93-ad19-1eddf0e85433\",                        [{\"hovertemplate\":\"index=%{theta}<br>frequency=%{r}<extra></extra>\",\"legendgroup\":\"movie\",\"marker\":{\"color\":\"rgb(102, 197, 204)\",\"pattern\":{\"shape\":\"\"}},\"name\":\"movie\",\"r\":[82594],\"showlegend\":true,\"subplot\":\"polar\",\"theta\":[\"movie\"],\"type\":\"barpolar\"},{\"hovertemplate\":\"index=%{theta}<br>frequency=%{r}<extra></extra>\",\"legendgroup\":\"film\",\"marker\":{\"color\":\"rgb(246, 207, 113)\",\"pattern\":{\"shape\":\"\"}},\"name\":\"film\",\"r\":[74584],\"showlegend\":true,\"subplot\":\"polar\",\"theta\":[\"film\"],\"type\":\"barpolar\"},{\"hovertemplate\":\"index=%{theta}<br>frequency=%{r}<extra></extra>\",\"legendgroup\":\"one\",\"marker\":{\"color\":\"rgb(248, 156, 116)\",\"pattern\":{\"shape\":\"\"}},\"name\":\"one\",\"r\":[44014],\"showlegend\":true,\"subplot\":\"polar\",\"theta\":[\"one\"],\"type\":\"barpolar\"},{\"hovertemplate\":\"index=%{theta}<br>frequency=%{r}<extra></extra>\",\"legendgroup\":\"like\",\"marker\":{\"color\":\"rgb(220, 176, 242)\",\"pattern\":{\"shape\":\"\"}},\"name\":\"like\",\"r\":[32915],\"showlegend\":true,\"subplot\":\"polar\",\"theta\":[\"like\"],\"type\":\"barpolar\"},{\"hovertemplate\":\"index=%{theta}<br>frequency=%{r}<extra></extra>\",\"legendgroup\":\"time\",\"marker\":{\"color\":\"rgb(135, 197, 95)\",\"pattern\":{\"shape\":\"\"}},\"name\":\"time\",\"r\":[25109],\"showlegend\":true,\"subplot\":\"polar\",\"theta\":[\"time\"],\"type\":\"barpolar\"},{\"hovertemplate\":\"index=%{theta}<br>frequency=%{r}<extra></extra>\",\"legendgroup\":\"good\",\"marker\":{\"color\":\"rgb(158, 185, 243)\",\"pattern\":{\"shape\":\"\"}},\"name\":\"good\",\"r\":[23797],\"showlegend\":true,\"subplot\":\"polar\",\"theta\":[\"good\"],\"type\":\"barpolar\"},{\"hovertemplate\":\"index=%{theta}<br>frequency=%{r}<extra></extra>\",\"legendgroup\":\"character\",\"marker\":{\"color\":\"rgb(254, 136, 177)\",\"pattern\":{\"shape\":\"\"}},\"name\":\"character\",\"r\":[22579],\"showlegend\":true,\"subplot\":\"polar\",\"theta\":[\"character\"],\"type\":\"barpolar\"},{\"hovertemplate\":\"index=%{theta}<br>frequency=%{r}<extra></extra>\",\"legendgroup\":\"story\",\"marker\":{\"color\":\"rgb(201, 219, 116)\",\"pattern\":{\"shape\":\"\"}},\"name\":\"story\",\"r\":[20057],\"showlegend\":true,\"subplot\":\"polar\",\"theta\":[\"story\"],\"type\":\"barpolar\"},{\"hovertemplate\":\"index=%{theta}<br>frequency=%{r}<extra></extra>\",\"legendgroup\":\"even\",\"marker\":{\"color\":\"rgb(139, 224, 164)\",\"pattern\":{\"shape\":\"\"}},\"name\":\"even\",\"r\":[19880],\"showlegend\":true,\"subplot\":\"polar\",\"theta\":[\"even\"],\"type\":\"barpolar\"},{\"hovertemplate\":\"index=%{theta}<br>frequency=%{r}<extra></extra>\",\"legendgroup\":\"get\",\"marker\":{\"color\":\"rgb(180, 151, 231)\",\"pattern\":{\"shape\":\"\"}},\"name\":\"get\",\"r\":[19726],\"showlegend\":true,\"subplot\":\"polar\",\"theta\":[\"get\"],\"type\":\"barpolar\"},{\"hovertemplate\":\"index=%{theta}<br>frequency=%{r}<extra></extra>\",\"legendgroup\":\"would\",\"marker\":{\"color\":\"rgb(179, 179, 179)\",\"pattern\":{\"shape\":\"\"}},\"name\":\"would\",\"r\":[19601],\"showlegend\":true,\"subplot\":\"polar\",\"theta\":[\"would\"],\"type\":\"barpolar\"},{\"hovertemplate\":\"index=%{theta}<br>frequency=%{r}<extra></extra>\",\"legendgroup\":\"make\",\"marker\":{\"color\":\"rgb(102, 197, 204)\",\"pattern\":{\"shape\":\"\"}},\"name\":\"make\",\"r\":[19430],\"showlegend\":true,\"subplot\":\"polar\",\"theta\":[\"make\"],\"type\":\"barpolar\"},{\"hovertemplate\":\"index=%{theta}<br>frequency=%{r}<extra></extra>\",\"legendgroup\":\"see\",\"marker\":{\"color\":\"rgb(246, 207, 113)\",\"pattern\":{\"shape\":\"\"}},\"name\":\"see\",\"r\":[19243],\"showlegend\":true,\"subplot\":\"polar\",\"theta\":[\"see\"],\"type\":\"barpolar\"},{\"hovertemplate\":\"index=%{theta}<br>frequency=%{r}<extra></extra>\",\"legendgroup\":\"really\",\"marker\":{\"color\":\"rgb(248, 156, 116)\",\"pattern\":{\"shape\":\"\"}},\"name\":\"really\",\"r\":[18339],\"showlegend\":true,\"subplot\":\"polar\",\"theta\":[\"really\"],\"type\":\"barpolar\"},{\"hovertemplate\":\"index=%{theta}<br>frequency=%{r}<extra></extra>\",\"legendgroup\":\"scene\",\"marker\":{\"color\":\"rgb(220, 176, 242)\",\"pattern\":{\"shape\":\"\"}},\"name\":\"scene\",\"r\":[17110],\"showlegend\":true,\"subplot\":\"polar\",\"theta\":[\"scene\"],\"type\":\"barpolar\"},{\"hovertemplate\":\"index=%{theta}<br>frequency=%{r}<extra></extra>\",\"legendgroup\":\"well\",\"marker\":{\"color\":\"rgb(135, 197, 95)\",\"pattern\":{\"shape\":\"\"}},\"name\":\"well\",\"r\":[17106],\"showlegend\":true,\"subplot\":\"polar\",\"theta\":[\"well\"],\"type\":\"barpolar\"},{\"hovertemplate\":\"index=%{theta}<br>frequency=%{r}<extra></extra>\",\"legendgroup\":\"much\",\"marker\":{\"color\":\"rgb(158, 185, 243)\",\"pattern\":{\"shape\":\"\"}},\"name\":\"much\",\"r\":[15388],\"showlegend\":true,\"subplot\":\"polar\",\"theta\":[\"much\"],\"type\":\"barpolar\"},{\"hovertemplate\":\"index=%{theta}<br>frequency=%{r}<extra></extra>\",\"legendgroup\":\"bad\",\"marker\":{\"color\":\"rgb(254, 136, 177)\",\"pattern\":{\"shape\":\"\"}},\"name\":\"bad\",\"r\":[14844],\"showlegend\":true,\"subplot\":\"polar\",\"theta\":[\"bad\"],\"type\":\"barpolar\"},{\"hovertemplate\":\"index=%{theta}<br>frequency=%{r}<extra></extra>\",\"legendgroup\":\"people\",\"marker\":{\"color\":\"rgb(201, 219, 116)\",\"pattern\":{\"shape\":\"\"}},\"name\":\"people\",\"r\":[14647],\"showlegend\":true,\"subplot\":\"polar\",\"theta\":[\"people\"],\"type\":\"barpolar\"},{\"hovertemplate\":\"index=%{theta}<br>frequency=%{r}<extra></extra>\",\"legendgroup\":\"great\",\"marker\":{\"color\":\"rgb(139, 224, 164)\",\"pattern\":{\"shape\":\"\"}},\"name\":\"great\",\"r\":[14486],\"showlegend\":true,\"subplot\":\"polar\",\"theta\":[\"great\"],\"type\":\"barpolar\"}],                        {\"template\":{\"data\":{\"barpolar\":[{\"marker\":{\"line\":{\"color\":\"rgb(17,17,17)\",\"width\":0.5},\"pattern\":{\"fillmode\":\"overlay\",\"size\":10,\"solidity\":0.2}},\"type\":\"barpolar\"}],\"bar\":[{\"error_x\":{\"color\":\"#f2f5fa\"},\"error_y\":{\"color\":\"#f2f5fa\"},\"marker\":{\"line\":{\"color\":\"rgb(17,17,17)\",\"width\":0.5},\"pattern\":{\"fillmode\":\"overlay\",\"size\":10,\"solidity\":0.2}},\"type\":\"bar\"}],\"carpet\":[{\"aaxis\":{\"endlinecolor\":\"#A2B1C6\",\"gridcolor\":\"#506784\",\"linecolor\":\"#506784\",\"minorgridcolor\":\"#506784\",\"startlinecolor\":\"#A2B1C6\"},\"baxis\":{\"endlinecolor\":\"#A2B1C6\",\"gridcolor\":\"#506784\",\"linecolor\":\"#506784\",\"minorgridcolor\":\"#506784\",\"startlinecolor\":\"#A2B1C6\"},\"type\":\"carpet\"}],\"choropleth\":[{\"colorbar\":{\"outlinewidth\":0,\"ticks\":\"\"},\"type\":\"choropleth\"}],\"contourcarpet\":[{\"colorbar\":{\"outlinewidth\":0,\"ticks\":\"\"},\"type\":\"contourcarpet\"}],\"contour\":[{\"colorbar\":{\"outlinewidth\":0,\"ticks\":\"\"},\"colorscale\":[[0.0,\"#0d0887\"],[0.1111111111111111,\"#46039f\"],[0.2222222222222222,\"#7201a8\"],[0.3333333333333333,\"#9c179e\"],[0.4444444444444444,\"#bd3786\"],[0.5555555555555556,\"#d8576b\"],[0.6666666666666666,\"#ed7953\"],[0.7777777777777778,\"#fb9f3a\"],[0.8888888888888888,\"#fdca26\"],[1.0,\"#f0f921\"]],\"type\":\"contour\"}],\"heatmapgl\":[{\"colorbar\":{\"outlinewidth\":0,\"ticks\":\"\"},\"colorscale\":[[0.0,\"#0d0887\"],[0.1111111111111111,\"#46039f\"],[0.2222222222222222,\"#7201a8\"],[0.3333333333333333,\"#9c179e\"],[0.4444444444444444,\"#bd3786\"],[0.5555555555555556,\"#d8576b\"],[0.6666666666666666,\"#ed7953\"],[0.7777777777777778,\"#fb9f3a\"],[0.8888888888888888,\"#fdca26\"],[1.0,\"#f0f921\"]],\"type\":\"heatmapgl\"}],\"heatmap\":[{\"colorbar\":{\"outlinewidth\":0,\"ticks\":\"\"},\"colorscale\":[[0.0,\"#0d0887\"],[0.1111111111111111,\"#46039f\"],[0.2222222222222222,\"#7201a8\"],[0.3333333333333333,\"#9c179e\"],[0.4444444444444444,\"#bd3786\"],[0.5555555555555556,\"#d8576b\"],[0.6666666666666666,\"#ed7953\"],[0.7777777777777778,\"#fb9f3a\"],[0.8888888888888888,\"#fdca26\"],[1.0,\"#f0f921\"]],\"type\":\"heatmap\"}],\"histogram2dcontour\":[{\"colorbar\":{\"outlinewidth\":0,\"ticks\":\"\"},\"colorscale\":[[0.0,\"#0d0887\"],[0.1111111111111111,\"#46039f\"],[0.2222222222222222,\"#7201a8\"],[0.3333333333333333,\"#9c179e\"],[0.4444444444444444,\"#bd3786\"],[0.5555555555555556,\"#d8576b\"],[0.6666666666666666,\"#ed7953\"],[0.7777777777777778,\"#fb9f3a\"],[0.8888888888888888,\"#fdca26\"],[1.0,\"#f0f921\"]],\"type\":\"histogram2dcontour\"}],\"histogram2d\":[{\"colorbar\":{\"outlinewidth\":0,\"ticks\":\"\"},\"colorscale\":[[0.0,\"#0d0887\"],[0.1111111111111111,\"#46039f\"],[0.2222222222222222,\"#7201a8\"],[0.3333333333333333,\"#9c179e\"],[0.4444444444444444,\"#bd3786\"],[0.5555555555555556,\"#d8576b\"],[0.6666666666666666,\"#ed7953\"],[0.7777777777777778,\"#fb9f3a\"],[0.8888888888888888,\"#fdca26\"],[1.0,\"#f0f921\"]],\"type\":\"histogram2d\"}],\"histogram\":[{\"marker\":{\"pattern\":{\"fillmode\":\"overlay\",\"size\":10,\"solidity\":0.2}},\"type\":\"histogram\"}],\"mesh3d\":[{\"colorbar\":{\"outlinewidth\":0,\"ticks\":\"\"},\"type\":\"mesh3d\"}],\"parcoords\":[{\"line\":{\"colorbar\":{\"outlinewidth\":0,\"ticks\":\"\"}},\"type\":\"parcoords\"}],\"pie\":[{\"automargin\":true,\"type\":\"pie\"}],\"scatter3d\":[{\"line\":{\"colorbar\":{\"outlinewidth\":0,\"ticks\":\"\"}},\"marker\":{\"colorbar\":{\"outlinewidth\":0,\"ticks\":\"\"}},\"type\":\"scatter3d\"}],\"scattercarpet\":[{\"marker\":{\"colorbar\":{\"outlinewidth\":0,\"ticks\":\"\"}},\"type\":\"scattercarpet\"}],\"scattergeo\":[{\"marker\":{\"colorbar\":{\"outlinewidth\":0,\"ticks\":\"\"}},\"type\":\"scattergeo\"}],\"scattergl\":[{\"marker\":{\"line\":{\"color\":\"#283442\"}},\"type\":\"scattergl\"}],\"scattermapbox\":[{\"marker\":{\"colorbar\":{\"outlinewidth\":0,\"ticks\":\"\"}},\"type\":\"scattermapbox\"}],\"scatterpolargl\":[{\"marker\":{\"colorbar\":{\"outlinewidth\":0,\"ticks\":\"\"}},\"type\":\"scatterpolargl\"}],\"scatterpolar\":[{\"marker\":{\"colorbar\":{\"outlinewidth\":0,\"ticks\":\"\"}},\"type\":\"scatterpolar\"}],\"scatter\":[{\"marker\":{\"line\":{\"color\":\"#283442\"}},\"type\":\"scatter\"}],\"scatterternary\":[{\"marker\":{\"colorbar\":{\"outlinewidth\":0,\"ticks\":\"\"}},\"type\":\"scatterternary\"}],\"surface\":[{\"colorbar\":{\"outlinewidth\":0,\"ticks\":\"\"},\"colorscale\":[[0.0,\"#0d0887\"],[0.1111111111111111,\"#46039f\"],[0.2222222222222222,\"#7201a8\"],[0.3333333333333333,\"#9c179e\"],[0.4444444444444444,\"#bd3786\"],[0.5555555555555556,\"#d8576b\"],[0.6666666666666666,\"#ed7953\"],[0.7777777777777778,\"#fb9f3a\"],[0.8888888888888888,\"#fdca26\"],[1.0,\"#f0f921\"]],\"type\":\"surface\"}],\"table\":[{\"cells\":{\"fill\":{\"color\":\"#506784\"},\"line\":{\"color\":\"rgb(17,17,17)\"}},\"header\":{\"fill\":{\"color\":\"#2a3f5f\"},\"line\":{\"color\":\"rgb(17,17,17)\"}},\"type\":\"table\"}]},\"layout\":{\"annotationdefaults\":{\"arrowcolor\":\"#f2f5fa\",\"arrowhead\":0,\"arrowwidth\":1},\"autotypenumbers\":\"strict\",\"coloraxis\":{\"colorbar\":{\"outlinewidth\":0,\"ticks\":\"\"}},\"colorscale\":{\"diverging\":[[0,\"#8e0152\"],[0.1,\"#c51b7d\"],[0.2,\"#de77ae\"],[0.3,\"#f1b6da\"],[0.4,\"#fde0ef\"],[0.5,\"#f7f7f7\"],[0.6,\"#e6f5d0\"],[0.7,\"#b8e186\"],[0.8,\"#7fbc41\"],[0.9,\"#4d9221\"],[1,\"#276419\"]],\"sequential\":[[0.0,\"#0d0887\"],[0.1111111111111111,\"#46039f\"],[0.2222222222222222,\"#7201a8\"],[0.3333333333333333,\"#9c179e\"],[0.4444444444444444,\"#bd3786\"],[0.5555555555555556,\"#d8576b\"],[0.6666666666666666,\"#ed7953\"],[0.7777777777777778,\"#fb9f3a\"],[0.8888888888888888,\"#fdca26\"],[1.0,\"#f0f921\"]],\"sequentialminus\":[[0.0,\"#0d0887\"],[0.1111111111111111,\"#46039f\"],[0.2222222222222222,\"#7201a8\"],[0.3333333333333333,\"#9c179e\"],[0.4444444444444444,\"#bd3786\"],[0.5555555555555556,\"#d8576b\"],[0.6666666666666666,\"#ed7953\"],[0.7777777777777778,\"#fb9f3a\"],[0.8888888888888888,\"#fdca26\"],[1.0,\"#f0f921\"]]},\"colorway\":[\"#636efa\",\"#EF553B\",\"#00cc96\",\"#ab63fa\",\"#FFA15A\",\"#19d3f3\",\"#FF6692\",\"#B6E880\",\"#FF97FF\",\"#FECB52\"],\"font\":{\"color\":\"#f2f5fa\"},\"geo\":{\"bgcolor\":\"rgb(17,17,17)\",\"lakecolor\":\"rgb(17,17,17)\",\"landcolor\":\"rgb(17,17,17)\",\"showlakes\":true,\"showland\":true,\"subunitcolor\":\"#506784\"},\"hoverlabel\":{\"align\":\"left\"},\"hovermode\":\"closest\",\"mapbox\":{\"style\":\"dark\"},\"paper_bgcolor\":\"rgb(17,17,17)\",\"plot_bgcolor\":\"rgb(17,17,17)\",\"polar\":{\"angularaxis\":{\"gridcolor\":\"#506784\",\"linecolor\":\"#506784\",\"ticks\":\"\"},\"bgcolor\":\"rgb(17,17,17)\",\"radialaxis\":{\"gridcolor\":\"#506784\",\"linecolor\":\"#506784\",\"ticks\":\"\"}},\"scene\":{\"xaxis\":{\"backgroundcolor\":\"rgb(17,17,17)\",\"gridcolor\":\"#506784\",\"gridwidth\":2,\"linecolor\":\"#506784\",\"showbackground\":true,\"ticks\":\"\",\"zerolinecolor\":\"#C8D4E3\"},\"yaxis\":{\"backgroundcolor\":\"rgb(17,17,17)\",\"gridcolor\":\"#506784\",\"gridwidth\":2,\"linecolor\":\"#506784\",\"showbackground\":true,\"ticks\":\"\",\"zerolinecolor\":\"#C8D4E3\"},\"zaxis\":{\"backgroundcolor\":\"rgb(17,17,17)\",\"gridcolor\":\"#506784\",\"gridwidth\":2,\"linecolor\":\"#506784\",\"showbackground\":true,\"ticks\":\"\",\"zerolinecolor\":\"#C8D4E3\"}},\"shapedefaults\":{\"line\":{\"color\":\"#f2f5fa\"}},\"sliderdefaults\":{\"bgcolor\":\"#C8D4E3\",\"bordercolor\":\"rgb(17,17,17)\",\"borderwidth\":1,\"tickwidth\":0},\"ternary\":{\"aaxis\":{\"gridcolor\":\"#506784\",\"linecolor\":\"#506784\",\"ticks\":\"\"},\"baxis\":{\"gridcolor\":\"#506784\",\"linecolor\":\"#506784\",\"ticks\":\"\"},\"bgcolor\":\"rgb(17,17,17)\",\"caxis\":{\"gridcolor\":\"#506784\",\"linecolor\":\"#506784\",\"ticks\":\"\"}},\"title\":{\"x\":0.05},\"updatemenudefaults\":{\"bgcolor\":\"#506784\",\"borderwidth\":0},\"xaxis\":{\"automargin\":true,\"gridcolor\":\"#283442\",\"linecolor\":\"#506784\",\"ticks\":\"\",\"title\":{\"standoff\":15},\"zerolinecolor\":\"#283442\",\"zerolinewidth\":2},\"yaxis\":{\"automargin\":true,\"gridcolor\":\"#283442\",\"linecolor\":\"#506784\",\"ticks\":\"\",\"title\":{\"standoff\":15},\"zerolinecolor\":\"#283442\",\"zerolinewidth\":2}}},\"polar\":{\"domain\":{\"x\":[0.0,1.0],\"y\":[0.0,1.0]},\"angularaxis\":{\"direction\":\"clockwise\",\"rotation\":90,\"categoryorder\":\"array\",\"categoryarray\":[\"movie\",\"film\",\"one\",\"like\",\"time\",\"good\",\"character\",\"story\",\"even\",\"get\",\"would\",\"make\",\"see\",\"really\",\"scene\",\"well\",\"much\",\"bad\",\"people\",\"great\"]},\"radialaxis\":{\"visible\":true,\"range\":[0,82644]}},\"legend\":{\"title\":{\"text\":\"index\"},\"tracegroupgap\":0},\"margin\":{\"t\":60},\"barmode\":\"relative\",\"title\":{\"text\":\"Top 20 Words in Reviews\"},\"width\":800,\"height\":800,\"showlegend\":false},                        {\"responsive\": true}                    ).then(function(){\n",
              "                            \n",
              "var gd = document.getElementById('4c5c477a-0b13-4f93-ad19-1eddf0e85433');\n",
              "var x = new MutationObserver(function (mutations, observer) {{\n",
              "        var display = window.getComputedStyle(gd).display;\n",
              "        if (!display || display === 'none') {{\n",
              "            console.log([gd, 'removed!']);\n",
              "            Plotly.purge(gd);\n",
              "            observer.disconnect();\n",
              "        }}\n",
              "}});\n",
              "\n",
              "// Listen for the removal of the full notebook cells\n",
              "var notebookContainer = gd.closest('#notebook-container');\n",
              "if (notebookContainer) {{\n",
              "    x.observe(notebookContainer, {childList: true});\n",
              "}}\n",
              "\n",
              "// Listen for the clearing of the current output cell\n",
              "var outputEl = gd.closest('.output');\n",
              "if (outputEl) {{\n",
              "    x.observe(outputEl, {childList: true});\n",
              "}}\n",
              "\n",
              "                        })                };                            </script>        </div>\n",
              "</body>\n",
              "</html>"
            ]
          },
          "metadata": {},
          "output_type": "display_data"
        }
      ],
      "source": [
        "word_freq = Counter(' '.join(df['review']).split())\n",
        "\n",
        "# creating a Pandas DataFrame from the Counter object and sort it in descending order\n",
        "df_word_freq = pd.DataFrame.from_dict(word_freq, orient='index', columns=['frequency'])\n",
        "df_word_freq.sort_values(by=['frequency'], ascending=False, inplace=True)\n",
        "\n",
        "# selecting the top 20 words\n",
        "top20_words = df_word_freq.head(20)\n",
        "\n",
        "fig = px.bar_polar(top20_words, r='frequency', theta=top20_words.index, color=top20_words.index,\n",
        "                   color_discrete_sequence=px.colors.qualitative.Pastel, template='plotly_dark')\n",
        "\n",
        "fig.update_layout(\n",
        "    title='Top 20 Words in Reviews',\n",
        "    width=800,\n",
        "    height=800,\n",
        "    polar=dict(\n",
        "        radialaxis=dict(\n",
        "            visible=True,\n",
        "            range=[0, top20_words['frequency'].max() + 50]\n",
        "        )\n",
        "    ),\n",
        "    showlegend=False\n",
        ")\n",
        "\n",
        "fig.show()\n"
      ]
    },
    {
      "cell_type": "code",
      "execution_count": null,
      "metadata": {},
      "outputs": [],
      "source": [
        "![image](Final/word_plot.png)"
      ]
    },
    {
      "attachments": {},
      "cell_type": "markdown",
      "metadata": {
        "id": "yZJ_oTIreuYS"
      },
      "source": [
        "## TF-IDF - Term Frequency-Inverse Document Frequency"
      ]
    },
    {
      "attachments": {},
      "cell_type": "markdown",
      "metadata": {
        "id": "driHwaPs2r5S"
      },
      "source": [
        "- Term Frequency (TF) - represents how often a term appears in a document\n",
        "- Inverse Document Frequency (IDF): IDF measures the rarity or uniqueness of a term across the entire document collection. Terms that appear frequently in many documents will have a lower IDF value, while terms that appear in a small number of documents higher IDF value"
      ]
    },
    {
      "cell_type": "code",
      "execution_count": 21,
      "metadata": {
        "id": "HONTIUo8iCce"
      },
      "outputs": [],
      "source": [
        "# Initializing a TfidfVectorizer\n",
        "tfidf_vectorizer = TfidfVectorizer(use_idf=True)\n",
        "\n",
        "# Fit and transform df\n",
        "df_tfidf = tfidf_vectorizer.fit_transform(df['review'])\n",
        "\n",
        "# Transform X_final\n",
        "X_final_tfidf = tfidf_vectorizer.transform(X_final['review'])\n"
      ]
    },
    {
      "cell_type": "code",
      "execution_count": 22,
      "metadata": {
        "id": "TD0Sia1_plY2"
      },
      "outputs": [],
      "source": [
        "# from sklearn.feature_extraction.text import TfidfVectorizer\n",
        "\n",
        "# # Initializing a TfidfVectorizer\n",
        "# tfidf_vectorizer = TfidfVectorizer(min_df=0,max_df=3,use_idf=True,ngram_range=(1,3))\n",
        "\n",
        "# # Fit and transform X_train\n",
        "# X_train_tfidf = tfidf_vectorizer.fit_transform(X_train['review'])\n",
        "\n",
        "# # Transform X_final\n",
        "# X_final_tfidf = tfidf_vectorizer.transform(X_final['review'])\n"
      ]
    },
    {
      "cell_type": "code",
      "execution_count": 23,
      "metadata": {
        "colab": {
          "base_uri": "https://localhost:8080/"
        },
        "id": "VeIfZQPCpGhD",
        "outputId": "0c9fa8c0-98ff-467d-f5d1-be02c0dca4c6"
      },
      "outputs": [
        {
          "name": "stdout",
          "output_type": "stream",
          "text": [
            "Tfidf: (40000, 84661)\n",
            "Tfidf_prod: (10000, 84661)\n"
          ]
        }
      ],
      "source": [
        "print('Tfidf:',df_tfidf.shape)\n",
        "print('Tfidf_prod:',X_final_tfidf.shape)"
      ]
    },
    {
      "attachments": {},
      "cell_type": "markdown",
      "metadata": {
        "id": "OFVWE081n2KH"
      },
      "source": [
        "# Train/Test Split"
      ]
    },
    {
      "cell_type": "code",
      "execution_count": 24,
      "metadata": {
        "id": "Sbhi6rINneQx"
      },
      "outputs": [],
      "source": [
        "# Spliting the data into training and test sets\n",
        "X_train_tfidf, X_test = train_test_split(df_tfidf, test_size=0.2, random_state=45)"
      ]
    },
    {
      "cell_type": "code",
      "execution_count": 25,
      "metadata": {
        "id": "BLUV5RXDvBA4"
      },
      "outputs": [],
      "source": [
        "import warnings\n",
        "warnings.filterwarnings('ignore')"
      ]
    },
    {
      "attachments": {},
      "cell_type": "markdown",
      "metadata": {
        "id": "cRhGpuYphlzS"
      },
      "source": [
        "## K-Means"
      ]
    },
    {
      "attachments": {},
      "cell_type": "markdown",
      "metadata": {
        "id": "tMH-KBFJ3yuL"
      },
      "source": [
        "- The silhouette score is a metric used to evaluate the quality of clustering results. It measures how well each sample in a cluster is separated from samples in other clusters, based on the distance between samples and the distances to the neighboring clusters.\n",
        "\n",
        "- The silhouette score ranges from -1 to 1, where:\n",
        "\n",
        "  - A score close to +1 indicates that samples are well-clustered and appropriately separated from neighboring clusters.\n",
        "  - A score close to 0 indicates that samples are close to the decision boundary between neighboring clusters.\n",
        "  - A score close to -1 indicates that samples may have been assigned to the wrong cluster, as they are more similar to samples in neighboring clusters."
      ]
    },
    {
      "cell_type": "code",
      "execution_count": 26,
      "metadata": {
        "colab": {
          "base_uri": "https://localhost:8080/",
          "height": 449
        },
        "id": "JIk0zLcr0Ewk",
        "outputId": "8aecdc8f-c514-41e8-9141-2989dd17319b"
      },
      "outputs": [
        {
          "data": {
            "image/png": "[encoded data removed]",
            "text/plain": [
              "<Figure size 640x480 with 1 Axes>"
            ]
          },
          "metadata": {},
          "output_type": "display_data"
        }
      ],
      "source": [
        "# Calculating silhouette score for different numbers of clusters\n",
        "silhouette_scores = []\n",
        "for k in range(2, 11):\n",
        "    kmeans = KMeans(n_clusters=k, random_state=45, init='k-means++')\n",
        "    kmeans.fit(X_train_tfidf)\n",
        "    y_pred = kmeans.predict(X_train_tfidf)\n",
        "    score = silhouette_score(X_train_tfidf, y_pred)\n",
        "    silhouette_scores.append(score)\n",
        "\n",
        "# Ploting the silhouette scores\n",
        "plt.plot(range(2, 11), silhouette_scores, marker='o')\n",
        "plt.xlabel('Number of clusters')\n",
        "plt.ylabel('Silhouette score')\n",
        "plt.show()"
      ]
    },
    {
      "attachments": {},
      "cell_type": "markdown",
      "metadata": {
        "id": "qXJX9Dd-_4_H"
      },
      "source": [
        "- Begins to decline after 4 So it would be better to use it for k"
      ]
    },
    {
      "cell_type": "code",
      "execution_count": 27,
      "metadata": {
        "id": "iWYuPiCehp_O"
      },
      "outputs": [],
      "source": [
        "# # Define a k-means pipeline\n",
        "# pipeline = Pipeline([\n",
        "#     ('kmeans', KMeans(n_clusters=4, random_state=45))\n",
        "# ])\n",
        "\n",
        "# # Fitting the pipeline on the training data tfidf\n",
        "# pipeline.fit(X_train_tfidf)\n",
        "\n",
        "# # Get the labels assigned to each data point\n",
        "# labels = pipeline.named_steps['kmeans'].labels_\n",
        "\n",
        "# # Get the centroids\n",
        "# centroids = pipeline.named_steps['kmeans'].cluster_centers_\n",
        "\n",
        "# # Find the indices of data points corresponding to each centroid\n",
        "# centroid_indices = [np.where(labels == i)[0] for i in range(len(centroids))]\n",
        "\n",
        "# # Modify centroid labels and map to a consistent label set\n",
        "# modified_labels = np.copy(labels)\n",
        "# for i in range(len(centroid_indices)):\n",
        "#     for j in range(len(centroid_indices[i])):\n",
        "#         centroid_index = centroid_indices[i][j]\n",
        "#         modified_labels[centroid_index] = sentiment.iloc[j]\n",
        "\n",
        "# unique_labels = np.unique(modified_labels)\n",
        "# consistent_labels = np.arange(len(unique_labels))\n",
        "# label_mapping = dict(zip(unique_labels, consistent_labels))\n",
        "# modified_labels = np.vectorize(label_mapping.get)(modified_labels)\n",
        "\n",
        "# # Update the labels for y_train\n",
        "# y_train = modified_labels[pipeline.named_steps['kmeans'].labels_ == labels]\n",
        "\n",
        "# # Update the labels for y_test\n",
        "# y_test = pipeline.predict(X_test)\n",
        "# y_test = np.vectorize(label_mapping.get)(y_test)\n",
        "\n",
        "# # Update the labels for y_final\n",
        "# y_final = pipeline.predict(X_final_tfidf)\n",
        "# y_final = np.vectorize(label_mapping.get)(y_final)"
      ]
    },
    {
      "attachments": {},
      "cell_type": "markdown",
      "metadata": {
        "id": "WqAWkSVR4A91"
      },
      "source": [
        "- Initially used concept of centroid to assign lables to the cluster. But this resulted in 40% data with no labels\n",
        "- Hence used below to get labels for the data"
      ]
    },
    {
      "cell_type": "code",
      "execution_count": 28,
      "metadata": {
        "id": "0uYbg-K7LINp"
      },
      "outputs": [],
      "source": [
        "# Defining a kmeans pipeline\n",
        "pipeline = Pipeline([\n",
        "    ('kmeans', KMeans(n_clusters=4, random_state=45))\n",
        "])\n",
        "# Fiting the pipeline on the training data tfidf\n",
        "pipeline.fit(X_train_tfidf)\n",
        "\n",
        "# Predicting the clusters for the training data\n",
        "y_train=pipeline.predict(X_train_tfidf)\n",
        "# Predicting the clusters for the training data\n",
        "y_test=pipeline.predict(X_test)\n",
        "# Predicting the clusters for the prod data\n",
        "y_final=pipeline.predict(X_final_tfidf)"
      ]
    },
    {
      "cell_type": "code",
      "execution_count": 29,
      "metadata": {
        "colab": {
          "base_uri": "https://localhost:8080/"
        },
        "id": "dobAhiDZynJ3",
        "outputId": "7a2d7b68-88e3-4e56-e86b-f35aebff23d4"
      },
      "outputs": [
        {
          "data": {
            "text/plain": [
              "((32000,), {0, 1, 2, 3}, (32000, 84661))"
            ]
          },
          "execution_count": 29,
          "metadata": {},
          "output_type": "execute_result"
        }
      ],
      "source": [
        "y_train.shape,set(y_train),X_train_tfidf.shape"
      ]
    },
    {
      "cell_type": "code",
      "execution_count": 30,
      "metadata": {
        "colab": {
          "base_uri": "https://localhost:8080/"
        },
        "id": "lRFvywpLpCrE",
        "outputId": "4837347a-9b67-4029-ce1c-5f25b9093443"
      },
      "outputs": [
        {
          "data": {
            "text/plain": [
              "((8000,), {0, 1, 2, 3})"
            ]
          },
          "execution_count": 30,
          "metadata": {},
          "output_type": "execute_result"
        }
      ],
      "source": [
        "y_test.shape,set(y_test)"
      ]
    },
    {
      "cell_type": "code",
      "execution_count": 31,
      "metadata": {
        "colab": {
          "base_uri": "https://localhost:8080/"
        },
        "id": "4--9K42_pDmA",
        "outputId": "e2d85912-8a40-4a40-d9a7-6cd101ae527c"
      },
      "outputs": [
        {
          "data": {
            "text/plain": [
              "((10000,), {0, 1, 2, 3})"
            ]
          },
          "execution_count": 31,
          "metadata": {},
          "output_type": "execute_result"
        }
      ],
      "source": [
        "y_final.shape,set(y_final)"
      ]
    },
    {
      "attachments": {},
      "cell_type": "markdown",
      "metadata": {
        "id": "zFezJ64Iy-Sx"
      },
      "source": [
        "## Logistic Regression"
      ]
    },
    {
      "cell_type": "code",
      "execution_count": 32,
      "metadata": {
        "id": "t68_py6Kp6gl"
      },
      "outputs": [],
      "source": [
        "# Defining hyperparameters to tune\n",
        "hyperparameters = {\n",
        "    'C': uniform(0, 10), # regularization strength\n",
        "    'penalty': ['l1', 'l2','elasticnet'], # regularization type\n",
        "    'solver': ['newton-cg', 'saga']\n",
        "}\n",
        "\n",
        "log_model = LogisticRegression()\n",
        "\n",
        "random_search = RandomizedSearchCV(log_model, hyperparameters, \n",
        "                                   scoring='accuracy', n_iter=10, random_state=45)\n",
        "\n",
        "\n"
      ]
    },
    {
      "attachments": {},
      "cell_type": "markdown",
      "metadata": {
        "id": "6_eOQyvD44tC"
      },
      "source": [
        "- RandomizedSearchCV performs a randomized search over the hyperparameter space\n",
        "using cross-validation to find the best combination of hyperparameters.\n",
        "The hyperparameters dictionary specifies the range of values to be searched for each hyperparameter.\n",
        "- 'C': uniform(0, 10) means that the regularization strength C will be sampled uniformly between 0 and 10.\n",
        "- 'penalty': ['l1', 'l2', 'elasticnet'] specifies the types of regularization to be considered.\n",
        "- 'solver': ['newton-cg', 'saga'] specifies the solver algorithms to be considered.\n",
        "- The 'scoring' parameter is set to 'accuracy', which indicates that we want to optimize for accuracy.\n",
        "- 'n_iter=10' specifies the number of random combinations of hyperparameters to try.\n",
        "- 'random_state=45' is set to ensure reproducibility of results.\n",
        "- Then the RandomizedSearchCV object performs the search for the best hyperparameters."
      ]
    },
    {
      "cell_type": "code",
      "execution_count": 33,
      "metadata": {
        "colab": {
          "base_uri": "https://localhost:8080/"
        },
        "id": "cD12dZ5rI6fM",
        "outputId": "fb20f2ba-8c6f-4458-c8b6-b3d9b72b08ee"
      },
      "outputs": [
        {
          "name": "stdout",
          "output_type": "stream",
          "text": [
            "Best hyperparameters:  {'C': 2.8968734025209484, 'penalty': 'l1', 'solver': 'saga'}\n",
            "Best cross-validation score:  0.9739374999999999\n"
          ]
        }
      ],
      "source": [
        "random_search.fit(X_train_tfidf, y_train)\n",
        "\n",
        "print(\"Best hyperparameters: \", random_search.best_params_)\n",
        "print(\"Best cross-validation score: \", random_search.best_score_)"
      ]
    },
    {
      "cell_type": "code",
      "execution_count": 34,
      "metadata": {
        "colab": {
          "base_uri": "https://localhost:8080/"
        },
        "id": "gl-PbpdDuhhD",
        "outputId": "71ed04cd-84b4-4633-e616-00fd1f47769d"
      },
      "outputs": [
        {
          "name": "stdout",
          "output_type": "stream",
          "text": [
            "Test accuracy: 0.975875\n"
          ]
        }
      ],
      "source": [
        "# Evaluating the best model on the test data\n",
        "test_accuracy = random_search.score(X_test, y_test)\n",
        "print(\"Test accuracy:\", test_accuracy)\n"
      ]
    },
    {
      "cell_type": "code",
      "execution_count": 35,
      "metadata": {
        "colab": {
          "base_uri": "https://localhost:8080/"
        },
        "id": "6Be4YoOK8fIg",
        "outputId": "3d3593f1-f728-4425-b00d-e01c59923802"
      },
      "outputs": [
        {
          "name": "stdout",
          "output_type": "stream",
          "text": [
            "Precision: 0.98\n",
            "Recall: 0.98\n",
            "F1-score: 0.98\n"
          ]
        }
      ],
      "source": [
        "# Getting the predicted labels for the test data\n",
        "y_test_pred = random_search.predict(X_test)\n",
        "\n",
        "# Calculating precision\n",
        "precision = precision_score(y_test, y_test_pred, average='micro')\n",
        "\n",
        "# Calculating recall\n",
        "recall = recall_score(y_test, y_test_pred, average='micro')\n",
        "\n",
        "# Calculating F1-score\n",
        "f1 = f1_score(y_test, y_test_pred, average='micro')\n",
        "\n",
        "print(\"Precision: {:.2f}\".format(precision, 2))\n",
        "print(\"Recall: {:.2f}\".format(recall, 2))\n",
        "print(\"F1-score: {:.2f}\".format(f1, 2))\n"
      ]
    },
    {
      "cell_type": "code",
      "execution_count": 36,
      "metadata": {
        "colab": {
          "base_uri": "https://localhost:8080/"
        },
        "id": "wA1jj_DfBRGN",
        "outputId": "7af3ba29-a4fc-4cc4-cbbf-f112bcce3124"
      },
      "outputs": [
        {
          "name": "stdout",
          "output_type": "stream",
          "text": [
            "Final accuracy: 0.9769\n"
          ]
        }
      ],
      "source": [
        "# Evaluating the best model on the prod data\n",
        "final_accuracy = random_search.score(X_final_tfidf, y_final)\n",
        "print(\"Final accuracy:\", final_accuracy)\n"
      ]
    },
    {
      "cell_type": "code",
      "execution_count": 37,
      "metadata": {
        "colab": {
          "base_uri": "https://localhost:8080/"
        },
        "id": "9hu_UK139C1L",
        "outputId": "99a65d8c-14bf-4c57-8462-7d69a1911763"
      },
      "outputs": [
        {
          "name": "stdout",
          "output_type": "stream",
          "text": [
            "Precision: 0.98\n",
            "Recall: 0.98\n",
            "F1-score: 0.98\n"
          ]
        }
      ],
      "source": [
        "# Geting the predicted labels for the test data\n",
        "y_final_pred = random_search.predict(X_final_tfidf)\n",
        "\n",
        "# Calculating precision\n",
        "precision = precision_score(y_final, y_final_pred, average='micro')\n",
        "\n",
        "# Calculating recall\n",
        "recall = recall_score(y_final, y_final_pred, average='micro')\n",
        "\n",
        "# Calculating F1-score\n",
        "f1 = f1_score(y_final, y_final_pred, average='micro')\n",
        "\n",
        "print(\"Precision: {:.2f}\".format(precision, 2))\n",
        "print(\"Recall: {:.2f}\".format(recall, 2))\n",
        "print(\"F1-score: {:.2f}\".format(f1, 2))\n"
      ]
    },
    {
      "attachments": {},
      "cell_type": "markdown",
      "metadata": {
        "id": "3KnvKe8bZc7-"
      },
      "source": [
        "### Dimension Reduction"
      ]
    },
    {
      "attachments": {},
      "cell_type": "markdown",
      "metadata": {
        "id": "RV319V2WZhh7"
      },
      "source": [
        "- Using TruncatedSVD(Truncated Singular Value Decomposition) \n",
        "- It is a class from scikit-learn as an alternative to perform dimensionality reduction on sparse data.\n",
        "- As PCA does not support Sparse data \n",
        "- we perform Truncated SVD  or any SVD on the data matrix, whereas we use PCA on the covariance matrix."
      ]
    },
    {
      "cell_type": "code",
      "execution_count": 38,
      "metadata": {
        "colab": {
          "base_uri": "https://localhost:8080/",
          "height": 152
        },
        "id": "kRiffdher1Un",
        "outputId": "b6490207-ba9d-4e28-fb47-7a3e7aa0e6f6"
      },
      "outputs": [
        {
          "data": {
            "text/html": [
              "<style>#sk-container-id-1 {color: black;background-color: white;}#sk-container-id-1 pre{padding: 0;}#sk-container-id-1 div.sk-toggleable {background-color: white;}#sk-container-id-1 label.sk-toggleable__label {cursor: pointer;display: block;width: 100%;margin-bottom: 0;padding: 0.3em;box-sizing: border-box;text-align: center;}#sk-container-id-1 label.sk-toggleable__label-arrow:before {content: \"▸\";float: left;margin-right: 0.25em;color: #696969;}#sk-container-id-1 label.sk-toggleable__label-arrow:hover:before {color: black;}#sk-container-id-1 div.sk-estimator:hover label.sk-toggleable__label-arrow:before {color: black;}#sk-container-id-1 div.sk-toggleable__content {max-height: 0;max-width: 0;overflow: hidden;text-align: left;background-color: #f0f8ff;}#sk-container-id-1 div.sk-toggleable__content pre {margin: 0.2em;color: black;border-radius: 0.25em;background-color: #f0f8ff;}#sk-container-id-1 input.sk-toggleable__control:checked~div.sk-toggleable__content {max-height: 200px;max-width: 100%;overflow: auto;}#sk-container-id-1 input.sk-toggleable__control:checked~label.sk-toggleable__label-arrow:before {content: \"▾\";}#sk-container-id-1 div.sk-estimator input.sk-toggleable__control:checked~label.sk-toggleable__label {background-color: #d4ebff;}#sk-container-id-1 div.sk-label input.sk-toggleable__control:checked~label.sk-toggleable__label {background-color: #d4ebff;}#sk-container-id-1 input.sk-hidden--visually {border: 0;clip: rect(1px 1px 1px 1px);clip: rect(1px, 1px, 1px, 1px);height: 1px;margin: -1px;overflow: hidden;padding: 0;position: absolute;width: 1px;}#sk-container-id-1 div.sk-estimator {font-family: monospace;background-color: #f0f8ff;border: 1px dotted black;border-radius: 0.25em;box-sizing: border-box;margin-bottom: 0.5em;}#sk-container-id-1 div.sk-estimator:hover {background-color: #d4ebff;}#sk-container-id-1 div.sk-parallel-item::after {content: \"\";width: 100%;border-bottom: 1px solid gray;flex-grow: 1;}#sk-container-id-1 div.sk-label:hover label.sk-toggleable__label {background-color: #d4ebff;}#sk-container-id-1 div.sk-serial::before {content: \"\";position: absolute;border-left: 1px solid gray;box-sizing: border-box;top: 0;bottom: 0;left: 50%;z-index: 0;}#sk-container-id-1 div.sk-serial {display: flex;flex-direction: column;align-items: center;background-color: white;padding-right: 0.2em;padding-left: 0.2em;position: relative;}#sk-container-id-1 div.sk-item {position: relative;z-index: 1;}#sk-container-id-1 div.sk-parallel {display: flex;align-items: stretch;justify-content: center;background-color: white;position: relative;}#sk-container-id-1 div.sk-item::before, #sk-container-id-1 div.sk-parallel-item::before {content: \"\";position: absolute;border-left: 1px solid gray;box-sizing: border-box;top: 0;bottom: 0;left: 50%;z-index: -1;}#sk-container-id-1 div.sk-parallel-item {display: flex;flex-direction: column;z-index: 1;position: relative;background-color: white;}#sk-container-id-1 div.sk-parallel-item:first-child::after {align-self: flex-end;width: 50%;}#sk-container-id-1 div.sk-parallel-item:last-child::after {align-self: flex-start;width: 50%;}#sk-container-id-1 div.sk-parallel-item:only-child::after {width: 0;}#sk-container-id-1 div.sk-dashed-wrapped {border: 1px dashed gray;margin: 0 0.4em 0.5em 0.4em;box-sizing: border-box;padding-bottom: 0.4em;background-color: white;}#sk-container-id-1 div.sk-label label {font-family: monospace;font-weight: bold;display: inline-block;line-height: 1.2em;}#sk-container-id-1 div.sk-label-container {text-align: center;}#sk-container-id-1 div.sk-container {/* jupyter's `normalize.less` sets `[hidden] { display: none; }` but bootstrap.min.css set `[hidden] { display: none !important; }` so we also need the `!important` here to be able to override the default hidden behavior on the sphinx rendered scikit-learn.org. See: https://github.com/scikit-learn/scikit-learn/issues/21755 */display: inline-block !important;position: relative;}#sk-container-id-1 div.sk-text-repr-fallback {display: none;}</style><div id=\"sk-container-id-1\" class=\"sk-top-container\"><div class=\"sk-text-repr-fallback\"><pre>RandomizedSearchCV(estimator=Pipeline(steps=[(&#x27;svd&#x27;, TruncatedSVD()),\n",
              "                                             (&#x27;logistic&#x27;,\n",
              "                                              LogisticRegression())]),\n",
              "                   param_distributions={&#x27;logistic__C&#x27;: &lt;scipy.stats._distn_infrastructure.rv_continuous_frozen object at 0x7f1baebc28c0&gt;,\n",
              "                                        &#x27;logistic__penalty&#x27;: [&#x27;l1&#x27;, &#x27;l2&#x27;],\n",
              "                                        &#x27;logistic__solver&#x27;: [&#x27;newton-cg&#x27;,\n",
              "                                                             &#x27;saga&#x27;],\n",
              "                                        &#x27;svd__n_components&#x27;: [50, 100, 150]},\n",
              "                   random_state=45, scoring=&#x27;accuracy&#x27;)</pre><b>In a Jupyter environment, please rerun this cell to show the HTML representation or trust the notebook. <br />On GitHub, the HTML representation is unable to render, please try loading this page with nbviewer.org.</b></div><div class=\"sk-container\" hidden><div class=\"sk-item sk-dashed-wrapped\"><div class=\"sk-label-container\"><div class=\"sk-label sk-toggleable\"><input class=\"sk-toggleable__control sk-hidden--visually\" id=\"sk-estimator-id-1\" type=\"checkbox\" ><label for=\"sk-estimator-id-1\" class=\"sk-toggleable__label sk-toggleable__label-arrow\">RandomizedSearchCV</label><div class=\"sk-toggleable__content\"><pre>RandomizedSearchCV(estimator=Pipeline(steps=[(&#x27;svd&#x27;, TruncatedSVD()),\n",
              "                                             (&#x27;logistic&#x27;,\n",
              "                                              LogisticRegression())]),\n",
              "                   param_distributions={&#x27;logistic__C&#x27;: &lt;scipy.stats._distn_infrastructure.rv_continuous_frozen object at 0x7f1baebc28c0&gt;,\n",
              "                                        &#x27;logistic__penalty&#x27;: [&#x27;l1&#x27;, &#x27;l2&#x27;],\n",
              "                                        &#x27;logistic__solver&#x27;: [&#x27;newton-cg&#x27;,\n",
              "                                                             &#x27;saga&#x27;],\n",
              "                                        &#x27;svd__n_components&#x27;: [50, 100, 150]},\n",
              "                   random_state=45, scoring=&#x27;accuracy&#x27;)</pre></div></div></div><div class=\"sk-parallel\"><div class=\"sk-parallel-item\"><div class=\"sk-item\"><div class=\"sk-label-container\"><div class=\"sk-label sk-toggleable\"><input class=\"sk-toggleable__control sk-hidden--visually\" id=\"sk-estimator-id-2\" type=\"checkbox\" ><label for=\"sk-estimator-id-2\" class=\"sk-toggleable__label sk-toggleable__label-arrow\">estimator: Pipeline</label><div class=\"sk-toggleable__content\"><pre>Pipeline(steps=[(&#x27;svd&#x27;, TruncatedSVD()), (&#x27;logistic&#x27;, LogisticRegression())])</pre></div></div></div><div class=\"sk-serial\"><div class=\"sk-item\"><div class=\"sk-serial\"><div class=\"sk-item\"><div class=\"sk-estimator sk-toggleable\"><input class=\"sk-toggleable__control sk-hidden--visually\" id=\"sk-estimator-id-3\" type=\"checkbox\" ><label for=\"sk-estimator-id-3\" class=\"sk-toggleable__label sk-toggleable__label-arrow\">TruncatedSVD</label><div class=\"sk-toggleable__content\"><pre>TruncatedSVD()</pre></div></div></div><div class=\"sk-item\"><div class=\"sk-estimator sk-toggleable\"><input class=\"sk-toggleable__control sk-hidden--visually\" id=\"sk-estimator-id-4\" type=\"checkbox\" ><label for=\"sk-estimator-id-4\" class=\"sk-toggleable__label sk-toggleable__label-arrow\">LogisticRegression</label><div class=\"sk-toggleable__content\"><pre>LogisticRegression()</pre></div></div></div></div></div></div></div></div></div></div></div></div>"
            ],
            "text/plain": [
              "RandomizedSearchCV(estimator=Pipeline(steps=[('svd', TruncatedSVD()),\n",
              "                                             ('logistic',\n",
              "                                              LogisticRegression())]),\n",
              "                   param_distributions={'logistic__C': <scipy.stats._distn_infrastructure.rv_continuous_frozen object at 0x7f1baebc28c0>,\n",
              "                                        'logistic__penalty': ['l1', 'l2'],\n",
              "                                        'logistic__solver': ['newton-cg',\n",
              "                                                             'saga'],\n",
              "                                        'svd__n_components': [50, 100, 150]},\n",
              "                   random_state=45, scoring='accuracy')"
            ]
          },
          "execution_count": 38,
          "metadata": {},
          "output_type": "execute_result"
        }
      ],
      "source": [
        "hyperparameters = {\n",
        "    'svd__n_components': [50, 100, 150],  # Number of components for TruncatedSVD\n",
        "    'logistic__C': uniform(0, 10),  # Regularization strength for logistic regression\n",
        "    'logistic__penalty': ['l1', 'l2'],  # Regularization type for logistic regression\n",
        "    'logistic__solver': ['newton-cg', 'saga']  # Solver for logistic regression\n",
        "}\n",
        "\n",
        "pipeline = Pipeline([\n",
        "    ('svd', TruncatedSVD()),\n",
        "    ('logistic', LogisticRegression())\n",
        "])\n",
        "\n",
        "random_search = RandomizedSearchCV(pipeline, hyperparameters, scoring='accuracy', n_iter=10, random_state=45)\n",
        "random_search.fit(X_train_tfidf, y_train)"
      ]
    },
    {
      "attachments": {},
      "cell_type": "markdown",
      "metadata": {
        "id": "sliXXriI52K1"
      },
      "source": [
        "- Reference: https://analyticsindiamag.com/beginners-guide-to-truncated-svd-for-dimensionality-reduction/"
      ]
    },
    {
      "cell_type": "code",
      "execution_count": 39,
      "metadata": {
        "colab": {
          "base_uri": "https://localhost:8080/"
        },
        "id": "CDF0X8aEWqKH",
        "outputId": "85022981-17e8-464a-b0db-b78027e0c8b0"
      },
      "outputs": [
        {
          "name": "stdout",
          "output_type": "stream",
          "text": [
            "Best hyperparameters: {'logistic__C': 9.890115134756002, 'logistic__penalty': 'l2', 'logistic__solver': 'newton-cg', 'svd__n_components': 50}\n",
            "Best cross-validation score: 0.9809999999999999\n"
          ]
        }
      ],
      "source": [
        "print(\"Best hyperparameters:\", random_search.best_params_)\n",
        "print(\"Best cross-validation score:\", random_search.best_score_)\n"
      ]
    },
    {
      "cell_type": "code",
      "execution_count": 40,
      "metadata": {
        "colab": {
          "base_uri": "https://localhost:8080/"
        },
        "id": "o4AFLWdjWrlw",
        "outputId": "9171d930-38f5-4800-d0d3-0086eeb7fcfe"
      },
      "outputs": [
        {
          "name": "stdout",
          "output_type": "stream",
          "text": [
            "Test accuracy: 0.98525\n"
          ]
        }
      ],
      "source": [
        "test_accuracy = random_search.score(X_test, y_test)\n",
        "print(\"Test accuracy:\", test_accuracy)\n"
      ]
    },
    {
      "cell_type": "code",
      "execution_count": 41,
      "metadata": {
        "colab": {
          "base_uri": "https://localhost:8080/"
        },
        "id": "E5E7ATsP8q7S",
        "outputId": "30c458ce-1a5f-4d93-bb5b-5861da4d95d5"
      },
      "outputs": [
        {
          "name": "stdout",
          "output_type": "stream",
          "text": [
            "Precision: 0.99\n",
            "Recall: 0.99\n",
            "F1-score: 0.99\n"
          ]
        }
      ],
      "source": [
        "# Getting the predicted labels for the test data\n",
        "y_test_pred = random_search.predict(X_test)\n",
        "\n",
        "# Calculating precision\n",
        "precision = precision_score(y_test, y_test_pred, average='micro')\n",
        "\n",
        "# Calculating recall\n",
        "recall = recall_score(y_test, y_test_pred, average='micro')\n",
        "\n",
        "# Calculating F1-score\n",
        "f1 = f1_score(y_test, y_test_pred, average='micro')\n",
        "\n",
        "print(\"Precision: {:.2f}\".format(precision, 2))\n",
        "print(\"Recall: {:.2f}\".format(recall, 2))\n",
        "print(\"F1-score: {:.2f}\".format(f1, 2))\n"
      ]
    },
    {
      "cell_type": "code",
      "execution_count": 42,
      "metadata": {
        "colab": {
          "base_uri": "https://localhost:8080/"
        },
        "id": "VOa3UfPjWwBA",
        "outputId": "7ede27b5-81f9-4909-e2f4-c75173d910ce"
      },
      "outputs": [
        {
          "name": "stdout",
          "output_type": "stream",
          "text": [
            "Final accuracy: 0.9833\n"
          ]
        }
      ],
      "source": [
        "final_accuracy = random_search.score(X_final_tfidf, y_final)\n",
        "print(\"Final accuracy:\", final_accuracy)\n"
      ]
    },
    {
      "cell_type": "code",
      "execution_count": 43,
      "metadata": {
        "colab": {
          "base_uri": "https://localhost:8080/"
        },
        "id": "5F6x3DM58791",
        "outputId": "2755dec0-0fd0-4800-cd81-a608029cf86b"
      },
      "outputs": [
        {
          "name": "stdout",
          "output_type": "stream",
          "text": [
            "Precision: 0.98\n",
            "Recall: 0.98\n",
            "F1-score: 0.98\n"
          ]
        }
      ],
      "source": [
        "# Geting the predicted labels for the test data\n",
        "y_final_pred = random_search.predict(X_final_tfidf)\n",
        "\n",
        "# Calculating precision\n",
        "precision = precision_score(y_final, y_final_pred, average='micro')\n",
        "\n",
        "# Calculating recall\n",
        "recall = recall_score(y_final, y_final_pred, average='micro')\n",
        "\n",
        "# Calculating F1-score\n",
        "f1 = f1_score(y_final, y_final_pred, average='micro')\n",
        "\n",
        "print(\"Precision: {:.2f}\".format(precision, 2))\n",
        "print(\"Recall: {:.2f}\".format(recall, 2))\n",
        "print(\"F1-score: {:.2f}\".format(f1, 2))\n"
      ]
    },
    {
      "attachments": {},
      "cell_type": "markdown",
      "metadata": {
        "id": "hfsqiXjk76lr"
      },
      "source": [
        "- After using Dimensinality reduction along with LogisticRegression performance of the model was good."
      ]
    },
    {
      "attachments": {},
      "cell_type": "markdown",
      "metadata": {
        "id": "TZ1px5Gc1ZdP"
      },
      "source": [
        "## Decision Tree Classifier"
      ]
    },
    {
      "cell_type": "code",
      "execution_count": 44,
      "metadata": {
        "id": "vseQgayH1cFE"
      },
      "outputs": [],
      "source": [
        "dt_model = DecisionTreeClassifier()\n",
        "hyperparameters = {\n",
        "    'criterion': ['gini', 'entropy'],\n",
        "    'splitter': ['best', 'random'],\n",
        "    'max_depth': [5, 10, 20, 50, 100],\n",
        "    'min_samples_split': [2, 5, 10, 20],\n",
        "    'min_samples_leaf': [1, 2, 4, 8],\n",
        "}\n",
        "random_search = RandomizedSearchCV(dt_model, hyperparameters, \n",
        "                                   scoring='accuracy', n_iter=10, random_state=45)"
      ]
    },
    {
      "attachments": {},
      "cell_type": "markdown",
      "metadata": {
        "id": "BRLCTj9F9peL"
      },
      "source": [
        "- RandomizedSearchCV performs a randomized search over the hyperparameter space\n",
        "using cross-validation to find the best combination of hyperparameters.\n",
        "The hyperparameters dictionary specifies the range of values to be searched for each hyperparameter.\n",
        "- 'criterion': ['gini', 'entropy'] specifies the criteria for quality measurement of splits.\n",
        "- 'splitter': ['best', 'random'] specifies the strategies used to choose the split at each node.\n",
        "- 'max_depth': [5, 10, 20, 50, 100] specifies the maximum depth of the decision tree to be considered.\n",
        "- 'min_samples_split': [2, 5, 10, 20] specifies the minimum number of samples required to split an internal node.\n",
        "- 'min_samples_leaf': [1, 2, 4, 8] specifies the minimum number of samples required to be at a leaf node.\n",
        "- The 'scoring' parameter is set to 'accuracy', which indicates that we want to optimize for accuracy.\n",
        "- 'n_iter=10' specifies the number of random combinations of hyperparameters to try.\n",
        "- 'random_state=45' is set to ensure reproducibility of results.\n",
        "The RandomizedSearchCV object performs the search for the best hyperparameters."
      ]
    },
    {
      "cell_type": "code",
      "execution_count": 45,
      "metadata": {
        "colab": {
          "base_uri": "https://localhost:8080/"
        },
        "id": "ONDN6Ifd1-Ic",
        "outputId": "06850d4a-4a62-4b2c-c23e-06e1befa0b8d"
      },
      "outputs": [
        {
          "name": "stdout",
          "output_type": "stream",
          "text": [
            "Best hyperparameters:  {'splitter': 'best', 'min_samples_split': 5, 'min_samples_leaf': 8, 'max_depth': 20, 'criterion': 'entropy'}\n",
            "Best cross-validation score:  0.8879374999999999\n"
          ]
        }
      ],
      "source": [
        "random_search.fit(X_train_tfidf, y_train)\n",
        "\n",
        "print(\"Best hyperparameters: \", random_search.best_params_)\n",
        "print(\"Best cross-validation score: \", random_search.best_score_)"
      ]
    },
    {
      "cell_type": "code",
      "execution_count": 46,
      "metadata": {
        "colab": {
          "base_uri": "https://localhost:8080/"
        },
        "id": "HmStd5ST2Qgz",
        "outputId": "92b56a9e-e08b-4ebd-a81c-becb4e7557c6"
      },
      "outputs": [
        {
          "name": "stdout",
          "output_type": "stream",
          "text": [
            "Test accuracy: 0.88675\n"
          ]
        }
      ],
      "source": [
        "# Evaluating the best model on the test data\n",
        "test_accuracy = random_search.score(X_test, y_test)\n",
        "print(\"Test accuracy:\", test_accuracy)"
      ]
    },
    {
      "cell_type": "code",
      "execution_count": 47,
      "metadata": {
        "colab": {
          "base_uri": "https://localhost:8080/"
        },
        "id": "A3aUpAhR2DVX",
        "outputId": "50ea29a8-1a9a-4336-9a45-003ef2966a4b"
      },
      "outputs": [
        {
          "name": "stdout",
          "output_type": "stream",
          "text": [
            "Final accuracy: 0.8943\n"
          ]
        }
      ],
      "source": [
        "\n",
        "# Evaluating the best model on the prod data\n",
        "final_accuracy = random_search.score(X_final_tfidf, y_final)\n",
        "print(\"Final accuracy:\", final_accuracy)"
      ]
    },
    {
      "cell_type": "code",
      "execution_count": 48,
      "metadata": {
        "colab": {
          "base_uri": "https://localhost:8080/"
        },
        "id": "NB9CqCdYdKhp",
        "outputId": "4cf8ab76-007c-4d2e-909c-902e03a273d4"
      },
      "outputs": [
        {
          "name": "stdout",
          "output_type": "stream",
          "text": [
            "Precision: 0.89\n",
            "Recall: 0.89\n",
            "F1-score: 0.89\n"
          ]
        }
      ],
      "source": [
        "# Getting the predicted labels for the test data\n",
        "y_test_pred = random_search.predict(X_test)\n",
        "\n",
        "# Calculating precision\n",
        "precision = precision_score(y_test, y_test_pred, average='micro')\n",
        "\n",
        "# Calculating recall\n",
        "recall = recall_score(y_test, y_test_pred, average='micro')\n",
        "\n",
        "# Calculating F1-score\n",
        "f1 = f1_score(y_test, y_test_pred, average='micro')\n",
        "\n",
        "print(\"Precision: {:.2f}\".format(precision, 2))\n",
        "print(\"Recall: {:.2f}\".format(recall, 2))\n",
        "print(\"F1-score: {:.2f}\".format(f1, 2))\n"
      ]
    },
    {
      "cell_type": "code",
      "execution_count": 49,
      "metadata": {
        "colab": {
          "base_uri": "https://localhost:8080/"
        },
        "id": "y-GTlX47d78U",
        "outputId": "88f6f0c1-7973-41c9-9b7d-a5121c16ec92"
      },
      "outputs": [
        {
          "name": "stdout",
          "output_type": "stream",
          "text": [
            "Precision: 0.89\n",
            "Recall: 0.89\n",
            "F1-score: 0.89\n"
          ]
        }
      ],
      "source": [
        "# Geting the predicted labels for the test data\n",
        "y_final_pred = random_search.predict(X_final_tfidf)\n",
        "\n",
        "# Calculating precision\n",
        "precision = precision_score(y_final, y_final_pred, average='micro')\n",
        "\n",
        "# Calculating recall\n",
        "recall = recall_score(y_final, y_final_pred, average='micro')\n",
        "\n",
        "# Calculating F1-score\n",
        "f1 = f1_score(y_final, y_final_pred, average='micro')\n",
        "\n",
        "print(\"Precision: {:.2f}\".format(precision, 2))\n",
        "print(\"Recall: {:.2f}\".format(recall, 2))\n",
        "print(\"F1-score: {:.2f}\".format(f1, 2))\n"
      ]
    },
    {
      "attachments": {},
      "cell_type": "markdown",
      "metadata": {
        "id": "3-dHh4UdvlY3"
      },
      "source": [
        "### Dimension Reduction"
      ]
    },
    {
      "cell_type": "code",
      "execution_count": 50,
      "metadata": {
        "id": "bIFU3yPiwPyC"
      },
      "outputs": [],
      "source": [
        "# Define hyperparameters to tune\n",
        "hyperparameters = {\n",
        "    'svd__n_components': [50, 100, 150],  # Number of components for TruncatedSVD\n",
        "    'dt__criterion': ['gini', 'entropy'],  # Criterion for Decision Tree\n",
        "    'dt__splitter': ['best', 'random'],  # Splitter for Decision Tree\n",
        "    'dt__max_depth': [5, 10, 20, 50, 100],  # Maximum depth of Decision Tree\n",
        "    'dt__min_samples_split': [2, 5, 10, 20],  # Minimum samples required to split an internal node\n",
        "    'dt__min_samples_leaf': [1, 2, 4, 8]  # Minimum samples required to be at a leaf node\n",
        "}\n",
        "\n",
        "# Create the pipeline\n",
        "pipeline = Pipeline([\n",
        "    ('svd', TruncatedSVD()),\n",
        "    ('dt', DecisionTreeClassifier())\n",
        "])\n",
        "\n",
        "# Create RandomizedSearchCV object\n",
        "random_search = RandomizedSearchCV(pipeline, hyperparameters, scoring='accuracy', n_iter=10, random_state=45)"
      ]
    },
    {
      "cell_type": "code",
      "execution_count": 51,
      "metadata": {
        "colab": {
          "base_uri": "https://localhost:8080/"
        },
        "id": "YFc2huEbvkPN",
        "outputId": "411a5b0e-ed80-4cae-e2aa-3093c75f8a76"
      },
      "outputs": [
        {
          "name": "stdout",
          "output_type": "stream",
          "text": [
            "Best hyperparameters:  {'svd__n_components': 50, 'dt__splitter': 'best', 'dt__min_samples_split': 2, 'dt__min_samples_leaf': 1, 'dt__max_depth': 10, 'dt__criterion': 'gini'}\n",
            "Best cross-validation score:  0.9408749999999999\n"
          ]
        }
      ],
      "source": [
        "random_search.fit(X_train_tfidf, y_train)\n",
        "\n",
        "print(\"Best hyperparameters: \", random_search.best_params_)\n",
        "print(\"Best cross-validation score: \", random_search.best_score_)"
      ]
    },
    {
      "cell_type": "code",
      "execution_count": 52,
      "metadata": {
        "colab": {
          "base_uri": "https://localhost:8080/"
        },
        "id": "g5DV6jnVwWt9",
        "outputId": "baea942e-b9d9-4d57-9504-f0e32b619dd0"
      },
      "outputs": [
        {
          "name": "stdout",
          "output_type": "stream",
          "text": [
            "Test accuracy: 0.94225\n"
          ]
        }
      ],
      "source": [
        "# Evaluating the best model on the test data\n",
        "test_accuracy = random_search.score(X_test, y_test)\n",
        "print(\"Test accuracy:\", test_accuracy)"
      ]
    },
    {
      "cell_type": "code",
      "execution_count": 53,
      "metadata": {
        "colab": {
          "base_uri": "https://localhost:8080/"
        },
        "id": "1oR5IZJCwXkk",
        "outputId": "052c09d2-55e8-49e0-ebd6-32bf3cdc0dd9"
      },
      "outputs": [
        {
          "name": "stdout",
          "output_type": "stream",
          "text": [
            "Final accuracy: 0.9373\n"
          ]
        }
      ],
      "source": [
        "# Evaluating the best model on the prod data\n",
        "final_accuracy = random_search.score(X_final_tfidf, y_final)\n",
        "print(\"Final accuracy:\", final_accuracy)"
      ]
    },
    {
      "attachments": {},
      "cell_type": "markdown",
      "metadata": {
        "id": "Ornx9Jbc-EJY"
      },
      "source": [
        "- After Dimension Reduction Model performance improved"
      ]
    },
    {
      "attachments": {},
      "cell_type": "markdown",
      "metadata": {
        "id": "RMANKPR02cnB"
      },
      "source": [
        "## Random Forest Clasifier"
      ]
    },
    {
      "cell_type": "code",
      "execution_count": 54,
      "metadata": {
        "id": "tOqXbBZN2nwg"
      },
      "outputs": [],
      "source": [
        "# Defining the model\n",
        "rf_model = RandomForestClassifier()\n",
        "\n",
        "# Defining hyperparameters to tune\n",
        "hyperparameters = {\n",
        "    'n_estimators': [15, 25, 50, 100], # number of trees\n",
        "    'max_depth': [2, 5, 10, 20], # maximum depth of tree\n",
        "    'min_samples_split': [2, 5, 8, 10], # minimum number of samples required to split an internal node\n",
        "    'min_samples_leaf': [1, 2, 4, 6], # minimum number of samples required to be at a leaf node\n",
        "    'bootstrap': [True, False]\n",
        "}\n",
        "\n",
        "random_search = RandomizedSearchCV(rf_model, hyperparameters, \n",
        "                                   scoring='accuracy', n_iter=10, random_state=45)\n"
      ]
    },
    {
      "cell_type": "code",
      "execution_count": 55,
      "metadata": {
        "colab": {
          "base_uri": "https://localhost:8080/"
        },
        "id": "FmtmzfzX5Ea6",
        "outputId": "97886942-2994-4668-8f7a-315398f208d3"
      },
      "outputs": [
        {
          "name": "stdout",
          "output_type": "stream",
          "text": [
            "Best hyperparameters:  {'n_estimators': 15, 'min_samples_split': 2, 'min_samples_leaf': 4, 'max_depth': 20, 'bootstrap': False}\n",
            "Best cross-validation score:  0.5600937500000001\n"
          ]
        }
      ],
      "source": [
        "random_search.fit(X_train_tfidf, y_train)\n",
        "\n",
        "print(\"Best hyperparameters: \", random_search.best_params_)\n",
        "print(\"Best cross-validation score: \", random_search.best_score_)"
      ]
    },
    {
      "cell_type": "code",
      "execution_count": 56,
      "metadata": {
        "colab": {
          "base_uri": "https://localhost:8080/"
        },
        "id": "HGRBlce83Kxt",
        "outputId": "f9ca271b-219e-461a-8981-a30d2fe11b23"
      },
      "outputs": [
        {
          "name": "stdout",
          "output_type": "stream",
          "text": [
            "Test accuracy: 0.5555\n"
          ]
        }
      ],
      "source": [
        "# Evaluating the best model on the test data\n",
        "test_accuracy = random_search.score(X_test, y_test)\n",
        "print(\"Test accuracy:\", test_accuracy)"
      ]
    },
    {
      "cell_type": "code",
      "execution_count": 57,
      "metadata": {
        "colab": {
          "base_uri": "https://localhost:8080/"
        },
        "id": "jDrs1syt3NOh",
        "outputId": "3a21e3b9-87b7-421d-9315-36e3ba29ce24"
      },
      "outputs": [
        {
          "name": "stdout",
          "output_type": "stream",
          "text": [
            "Final accuracy: 0.5404\n"
          ]
        }
      ],
      "source": [
        "# Evaluating the best model on the prod data\n",
        "final_accuracy = random_search.score(X_final_tfidf, y_final)\n",
        "print(\"Final accuracy:\", final_accuracy)"
      ]
    },
    {
      "attachments": {},
      "cell_type": "markdown",
      "metadata": {
        "id": "nL_Al5vj74I1"
      },
      "source": [
        "## Naive Bayes"
      ]
    },
    {
      "cell_type": "code",
      "execution_count": 58,
      "metadata": {
        "id": "e6lGHi0m76_B"
      },
      "outputs": [],
      "source": [
        "# Define the model\n",
        "mb_model = MultinomialNB()\n",
        "\n",
        "# Define hyperparameters to tune\n",
        "hyperparameters = {\n",
        "    'alpha': uniform(0, 1),  # additive smoothing parameter\n",
        "    'fit_prior': [True, False]  # whether to learn class prior probabilities or not\n",
        "}\n",
        "\n",
        "# Create RandomizedSearchCV object\n",
        "random_search = RandomizedSearchCV(mb_model, hyperparameters, \n",
        "                                   scoring='accuracy', n_iter=10, random_state=45)\n",
        "\n"
      ]
    },
    {
      "cell_type": "code",
      "execution_count": 59,
      "metadata": {
        "colab": {
          "base_uri": "https://localhost:8080/"
        },
        "id": "vp1pruR48OIs",
        "outputId": "6250212b-fc2e-4e8c-c757-a90bf9fdf4bc"
      },
      "outputs": [
        {
          "name": "stdout",
          "output_type": "stream",
          "text": [
            "Best hyperparameters:  {'alpha': 0.04852200090644587, 'fit_prior': True}\n",
            "Best cross-validation score:  0.6376562499999999\n"
          ]
        }
      ],
      "source": [
        "random_search.fit(X_train_tfidf, y_train)\n",
        "\n",
        "print(\"Best hyperparameters: \", random_search.best_params_)\n",
        "print(\"Best cross-validation score: \", random_search.best_score_)"
      ]
    },
    {
      "cell_type": "code",
      "execution_count": 60,
      "metadata": {
        "colab": {
          "base_uri": "https://localhost:8080/"
        },
        "id": "zEmGLipQ8Nmc",
        "outputId": "2a480a6a-7851-4e7f-eed8-751901991062"
      },
      "outputs": [
        {
          "name": "stdout",
          "output_type": "stream",
          "text": [
            "Test accuracy: 0.64825\n"
          ]
        }
      ],
      "source": [
        "# Evaluating the best model on the test data\n",
        "test_accuracy = random_search.score(X_test, y_test)\n",
        "print(\"Test accuracy:\", test_accuracy)"
      ]
    },
    {
      "cell_type": "code",
      "execution_count": 61,
      "metadata": {
        "colab": {
          "base_uri": "https://localhost:8080/"
        },
        "id": "aKLqKa5w8aGP",
        "outputId": "982baea1-dd47-4851-e371-8aabd709fb70"
      },
      "outputs": [
        {
          "name": "stdout",
          "output_type": "stream",
          "text": [
            "Final accuracy: 0.6383\n"
          ]
        }
      ],
      "source": [
        "# Evaluating the best model on the prod data\n",
        "final_accuracy = random_search.score(X_final_tfidf, y_final)\n",
        "print(\"Final accuracy:\", final_accuracy)"
      ]
    },
    {
      "cell_type": "code",
      "execution_count": 61,
      "metadata": {
        "id": "L2Efv4ykTXBd"
      },
      "outputs": [],
      "source": []
    },
    {
      "attachments": {},
      "cell_type": "markdown",
      "metadata": {
        "id": "f3HRCrCF-c-K"
      },
      "source": [
        "## Conclusion\n",
        "- We read the data.\n",
        "- Performed the necessary cleaning such as Removing html tags, whitespaces, Text lemmatizing.\n",
        "- Performed TF-IDF Vectorization.\n",
        "- Using K-Means we used Silhouette curve to got the ideal number of clusters.\n",
        "- Using those clusters we got the labels for the data.\n",
        "- Used Various Models, hyperparameter tuning, Cross Validation to predict the data and evaluated the models.\n",
        "- Best was Logistic Regression when used with TruncatedSVD."
      ]
    }
  ],
  "metadata": {
    "colab": {
      "machine_shape": "hm",
      "provenance": []
    },
    "gpuClass": "standard",
    "kernelspec": {
      "display_name": "Python 3",
      "name": "python3"
    },
    "language_info": {
      "name": "python"
    }
  },
  "nbformat": 4,
  "nbformat_minor": 0
}
