{
 "cells": [
  {
   "cell_type": "markdown",
   "id": "57771d6f",
   "metadata": {},
   "source": [
    "# Week 3 Lab"
   ]
  },
  {
   "cell_type": "markdown",
   "id": "ccb647fd",
   "metadata": {},
   "source": [
    "## Questions:\n",
    "- Differences between supervised and unsupervised learning?  \n",
    "- Differences between classification and regression?  \n",
    "- Classification and regression are the only types of supervised learning? "
   ]
  },
  {
   "cell_type": "markdown",
   "id": "03e12e71",
   "metadata": {},
   "source": []
  },
  {
   "cell_type": "markdown",
   "id": "6203e434",
   "metadata": {},
   "source": [
    "### Differences between supervised and unsupervised learning?"
   ]
  },
  {
   "cell_type": "markdown",
   "id": "df2b5a69",
   "metadata": {},
   "source": [
    "**Supervised Learning:**\n",
    "It uses labeled data to for training machine learning algorithm for classifying or predicting outcomes accurately. <br>\n",
    "**UnSupervised Learning:**\n",
    "It uses unlabeled data to train machine learning algorithms to analyze and cluster them. These algorithms discover hidden paterns without the need o human interaction.\n",
    "\n",
    "**Differences**\n",
    "- Data: In Supervised learning data is labeled while in UnSupervised learning data is not labeled.\n",
    "- Goals: In Supervised learning goal is to predict outcome of new data based on trained labeled data. Here we know the type output the algaorith predicts. Where as in Unsupervised learning goal is to gain insights find patterns in data which might be helpful for further analysis or decision making.\n",
    "- Applications: Supervised learning is best for tasks such as spam detection, sentiment analysis, weather forecasting where model needs to make predictions based on labeled data. Where as in unsupervised learning goal is to find patterns in non labeled data hence it is useful for tasks such as anomaly detection, customer segmentation, recommendation engines, and medical imaging.\n",
    "- Complexity: Supervised learning is simple for machine learning can the goal can be achieved through use of programming languages such as R or Python. Where as for unsupervised learning we nned complex tools to handle large valumes of unlabeled data. Also Unsupervised learning algorithms are computationally complex becase it requires significant amount of training data to identify patterns.\n",
    "- Drawbacks: Supervised learning models can be time consuming to train and labelling of output data required expertise.Where as unsupervised learning models might be widely inaccurate because of dataset."
   ]
  },
  {
   "cell_type": "markdown",
   "id": "618fb01d",
   "metadata": {},
   "source": [
    "Reference: https://www.ibm.com/cloud/blog/supervised-vs-unsupervised-learning"
   ]
  },
  {
   "cell_type": "markdown",
   "id": "4c66862c",
   "metadata": {},
   "source": [
    "### Differences between classification and regression?"
   ]
  },
  {
   "cell_type": "markdown",
   "id": "c8098d95",
   "metadata": {},
   "source": [
    "**Classification:** The goal is to predict class labels of new instances based on part observations where training model classified labeled data and mapped input to a output class. These labels can be categorial or unordered.\n",
    "**Regression:** It is a process of finding correlation between dependent and independent variables. It halps to predict continuous variable such as stock market predictions.\n",
    "\n",
    "**Differences**\n",
    "- Output: In Classification output variable is discrete where as in regression it is continuous.\n",
    "- In classification we find the best fit boundary which can classify data into different classes where as in Regression we find the best fit line to predict output more accurately.\n",
    "- Regression can be further divided into linear and non linear regression where as classification is further divided into Binary classifier or multi-class classifier.\n",
    "- Classification is used for discrete data where as Regression is used for continuous data."
   ]
  },
  {
   "cell_type": "markdown",
   "id": "83e39fab",
   "metadata": {},
   "source": [
    "Reference: https://www.javatpoint.com/regression-vs-classification-in-machine-learning"
   ]
  },
  {
   "cell_type": "markdown",
   "id": "68598f82",
   "metadata": {},
   "source": [
    "### Classification and regression are the only types of supervised learning?\n",
    "Classification and Regression are the two major types of supervised learning but there are multiple models in each type such as:<br>\n",
    "Classification:<br>\n",
    "&nbsp; Naive Bayes Classifier: It is probability based machine learning model based on Bates theorem. <br>\n",
    "&nbsp; Support Vector Machines: It finds a hyperplane in an N-dimensional space that distinctly classifies data points.<br>\n",
    " &nbsp; Logistic Regression: It is a classification model which estimates the probability of event occuring.<br>\n",
    "Regression:<br>\n",
    "&nbsp; Linear Regression: It is used to predict the value of dependent variable based on independent variable.<br>\n",
    " &nbsp; Nonlinear Regression: It is to model non linear relationship between dependent and independent variable where the data show a curvy trend and as a result Linear Regression fails.<br>\n",
    " &nbsp; Bayesian Linear Regression: The model is represented by a prior distribution, which is then updated using Bayes theorem to obtain a posterior distribution.Useful in situations where there is limited data or where the data is noisy<br> "
   ]
  },
  {
   "cell_type": "markdown",
   "id": "7d5e571c",
   "metadata": {},
   "source": [
    "Reference: https://towardsdatascience.com/naive-bayes-classifier-81d512f50a7c <br>\n",
    "https://towardsdatascience.com/support-vector-machine-introduction-to-machine-learning-algorithms-934a444fca47 <br>\n",
    "https://www.ibm.com/topics/logistic-regression <br>\n",
    "https://www.ibm.com/topics/linear-regression <br>\n",
    "https://www.geeksforgeeks.org/non-linear-regression-examples-ml/ <br>\n",
    "https://towardsdatascience.com/introduction-to-bayesian-linear-regression-e66e60791ea7"
   ]
  },
  {
   "cell_type": "code",
   "execution_count": null,
   "id": "319dcb2a",
   "metadata": {},
   "outputs": [],
   "source": []
  }
 ],
 "metadata": {
  "kernelspec": {
   "display_name": "Python 3",
   "language": "python",
   "name": "python3"
  },
  "language_info": {
   "codemirror_mode": {
    "name": "ipython",
    "version": 3
   },
   "file_extension": ".py",
   "mimetype": "text/x-python",
   "name": "python",
   "nbconvert_exporter": "python",
   "pygments_lexer": "ipython3",
   "version": "3.8.8"
  },
  "toc": {
   "base_numbering": 1,
   "nav_menu": {},
   "number_sections": true,
   "sideBar": true,
   "skip_h1_title": false,
   "title_cell": "Table of Contents",
   "title_sidebar": "Contents",
   "toc_cell": false,
   "toc_position": {},
   "toc_section_display": true,
   "toc_window_display": false
  }
 },
 "nbformat": 4,
 "nbformat_minor": 5
}
