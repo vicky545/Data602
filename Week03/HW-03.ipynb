{
 "cells": [
  {
   "cell_type": "markdown",
   "id": "92665e74",
   "metadata": {},
   "source": [
    "# Week3 - Homework\n",
    "\n",
    "Write a rule based predictor for a given matrix\n",
    "\n",
    "* Don't use a machine learning model (You can use PCA)"
   ]
  },
  {
   "cell_type": "code",
   "execution_count": 3,
   "id": "71cb00e3",
   "metadata": {},
   "outputs": [
    {
     "name": "stdout",
     "output_type": "stream",
     "text": [
      "<class 'pandas.core.frame.DataFrame'>\n",
      "RangeIndex: 150 entries, 0 to 149\n",
      "Data columns (total 5 columns):\n",
      " #   Column        Non-Null Count  Dtype  \n",
      "---  ------        --------------  -----  \n",
      " 0   sepal_length  150 non-null    float64\n",
      " 1   sepal_width   150 non-null    float64\n",
      " 2   petal_length  150 non-null    float64\n",
      " 3   petal_width   150 non-null    float64\n",
      " 4   species       150 non-null    object \n",
      "dtypes: float64(4), object(1)\n",
      "memory usage: 6.0+ KB\n"
     ]
    }
   ],
   "source": [
    "import pandas as pd\n",
    "import numpy as np\n",
    "from matplotlib import pyplot as plt\n",
    "import seaborn as sns\n",
    "df = pd.read_csv('https://raw.githubusercontent.com/msaricaumbc/DS_data/master/ds602/iris.csv')\n",
    "df.info()"
   ]
  },
  {
   "cell_type": "code",
   "execution_count": 4,
   "id": "03ad628a",
   "metadata": {},
   "outputs": [
    {
     "data": {
      "text/plain": [
       "Iris-setosa        50\n",
       "Iris-versicolor    50\n",
       "Iris-virginica     50\n",
       "Name: species, dtype: int64"
      ]
     },
     "execution_count": 4,
     "metadata": {},
     "output_type": "execute_result"
    }
   ],
   "source": [
    "df.species.value_counts()"
   ]
  },
  {
   "cell_type": "code",
   "execution_count": 5,
   "id": "fd5c4de1",
   "metadata": {},
   "outputs": [
    {
     "data": {
      "text/html": [
       "<div>\n",
       "<style scoped>\n",
       "    .dataframe tbody tr th:only-of-type {\n",
       "        vertical-align: middle;\n",
       "    }\n",
       "\n",
       "    .dataframe tbody tr th {\n",
       "        vertical-align: top;\n",
       "    }\n",
       "\n",
       "    .dataframe thead th {\n",
       "        text-align: right;\n",
       "    }\n",
       "</style>\n",
       "<table border=\"1\" class=\"dataframe\">\n",
       "  <thead>\n",
       "    <tr style=\"text-align: right;\">\n",
       "      <th></th>\n",
       "      <th>sepal_length</th>\n",
       "      <th>sepal_width</th>\n",
       "      <th>petal_length</th>\n",
       "      <th>petal_width</th>\n",
       "      <th>species</th>\n",
       "    </tr>\n",
       "  </thead>\n",
       "  <tbody>\n",
       "    <tr>\n",
       "      <th>0</th>\n",
       "      <td>5.1</td>\n",
       "      <td>3.5</td>\n",
       "      <td>1.4</td>\n",
       "      <td>0.2</td>\n",
       "      <td>Iris-setosa</td>\n",
       "    </tr>\n",
       "    <tr>\n",
       "      <th>1</th>\n",
       "      <td>4.9</td>\n",
       "      <td>3.0</td>\n",
       "      <td>1.4</td>\n",
       "      <td>0.2</td>\n",
       "      <td>Iris-setosa</td>\n",
       "    </tr>\n",
       "    <tr>\n",
       "      <th>2</th>\n",
       "      <td>4.7</td>\n",
       "      <td>3.2</td>\n",
       "      <td>1.3</td>\n",
       "      <td>0.2</td>\n",
       "      <td>Iris-setosa</td>\n",
       "    </tr>\n",
       "    <tr>\n",
       "      <th>3</th>\n",
       "      <td>4.6</td>\n",
       "      <td>3.1</td>\n",
       "      <td>1.5</td>\n",
       "      <td>0.2</td>\n",
       "      <td>Iris-setosa</td>\n",
       "    </tr>\n",
       "    <tr>\n",
       "      <th>4</th>\n",
       "      <td>5.0</td>\n",
       "      <td>3.6</td>\n",
       "      <td>1.4</td>\n",
       "      <td>0.2</td>\n",
       "      <td>Iris-setosa</td>\n",
       "    </tr>\n",
       "  </tbody>\n",
       "</table>\n",
       "</div>"
      ],
      "text/plain": [
       "   sepal_length  sepal_width  petal_length  petal_width      species\n",
       "0           5.1          3.5           1.4          0.2  Iris-setosa\n",
       "1           4.9          3.0           1.4          0.2  Iris-setosa\n",
       "2           4.7          3.2           1.3          0.2  Iris-setosa\n",
       "3           4.6          3.1           1.5          0.2  Iris-setosa\n",
       "4           5.0          3.6           1.4          0.2  Iris-setosa"
      ]
     },
     "execution_count": 5,
     "metadata": {},
     "output_type": "execute_result"
    }
   ],
   "source": [
    "df.head()"
   ]
  },
  {
   "cell_type": "code",
   "execution_count": 8,
   "id": "a9ede989",
   "metadata": {},
   "outputs": [
    {
     "name": "stdout",
     "output_type": "stream",
     "text": [
      "Iris-setosa 4.3 5.8\n",
      "Iris-versicolor 4.9 7.0\n",
      "Iris-virginica 4.9 7.9\n"
     ]
    }
   ],
   "source": [
    "for i in df['species'].unique():\n",
    "    min_val = df[df['species']==i]['sepal_length'].min()\n",
    "    max_val = df[df['species']==i]['sepal_length'].max()\n",
    "    print(i,min_val,max_val)\n"
   ]
  },
  {
   "cell_type": "code",
   "execution_count": 9,
   "id": "c233065a",
   "metadata": {},
   "outputs": [
    {
     "name": "stdout",
     "output_type": "stream",
     "text": [
      "Iris-setosa 2.3 4.4\n",
      "Iris-versicolor 2.0 3.4\n",
      "Iris-virginica 2.2 3.8\n"
     ]
    }
   ],
   "source": [
    "for i in df['species'].unique():\n",
    "    min_val = df[df['species']==i]['sepal_width'].min()\n",
    "    max_val = df[df['species']==i]['sepal_width'].max()\n",
    "    print(i,min_val,max_val)"
   ]
  },
  {
   "cell_type": "code",
   "execution_count": 10,
   "id": "1ec48c96",
   "metadata": {},
   "outputs": [
    {
     "name": "stdout",
     "output_type": "stream",
     "text": [
      "Iris-setosa 1.0 1.9\n",
      "Iris-versicolor 3.0 5.1\n",
      "Iris-virginica 4.5 6.9\n"
     ]
    }
   ],
   "source": [
    "for i in df['species'].unique():\n",
    "    min_val = df[df['species']==i]['petal_length'].min()\n",
    "    max_val = df[df['species']==i]['petal_length'].max()\n",
    "    print(i,min_val,max_val)"
   ]
  },
  {
   "cell_type": "code",
   "execution_count": 11,
   "id": "2a3bcfbe",
   "metadata": {},
   "outputs": [
    {
     "name": "stdout",
     "output_type": "stream",
     "text": [
      "Iris-setosa 0.1 0.6\n",
      "Iris-versicolor 1.0 1.8\n",
      "Iris-virginica 1.4 2.5\n"
     ]
    }
   ],
   "source": [
    "for i in df['species'].unique():\n",
    "    min_val = df[df['species']==i]['petal_width'].min()\n",
    "    max_val = df[df['species']==i]['petal_width'].max()\n",
    "    print(i,min_val,max_val)"
   ]
  },
  {
   "cell_type": "code",
   "execution_count": 23,
   "id": "3cfc4e5c",
   "metadata": {},
   "outputs": [],
   "source": [
    "def predict_one(sepal_length, sepal_width, petal_length, petal_width):\n",
    "    # your code\n",
    "    if (sepal_length<5.8 and sepal_length>4.3) and (sepal_width<4.4 and sepal_width>2.3) and (petal_length<1.9 and petal_length>1.0) and (petal_width<0.6 and petal_width>0.1):\n",
    "        return 'Iris-setosa'\n",
    "    elif (sepal_length<7.0 and sepal_length>4.9) and (sepal_width<3.4 and sepal_width>2.0) and (petal_length<5.1 and petal_length>3.0) and (petal_width<1.8 and petal_width>1.0):\n",
    "        return 'Iris-versicolor'\n",
    "    else:\n",
    "        return 'Iris-virginica'"
   ]
  },
  {
   "cell_type": "code",
   "execution_count": 24,
   "id": "3889bd65",
   "metadata": {},
   "outputs": [
    {
     "name": "stdout",
     "output_type": "stream",
     "text": [
      "Accuracy: 0.8266666666666667\n"
     ]
    }
   ],
   "source": [
    "predictions = pd.Series([ predict_one(*line) for line in df.iloc[:, :4].to_numpy()])\n",
    "accuracy = sum(df.species == predictions) / len(df)\n",
    "print(f\"Accuracy: {accuracy}\")"
   ]
  },
  {
   "cell_type": "code",
   "execution_count": 25,
   "id": "4a0e16f7",
   "metadata": {},
   "outputs": [
    {
     "data": {
      "text/html": [
       "<div>\n",
       "<style scoped>\n",
       "    .dataframe tbody tr th:only-of-type {\n",
       "        vertical-align: middle;\n",
       "    }\n",
       "\n",
       "    .dataframe tbody tr th {\n",
       "        vertical-align: top;\n",
       "    }\n",
       "\n",
       "    .dataframe thead th {\n",
       "        text-align: right;\n",
       "    }\n",
       "</style>\n",
       "<table border=\"1\" class=\"dataframe\">\n",
       "  <thead>\n",
       "    <tr style=\"text-align: right;\">\n",
       "      <th></th>\n",
       "      <th>sepal_length</th>\n",
       "      <th>sepal_width</th>\n",
       "      <th>petal_length</th>\n",
       "      <th>petal_width</th>\n",
       "    </tr>\n",
       "  </thead>\n",
       "  <tbody>\n",
       "    <tr>\n",
       "      <th>sepal_length</th>\n",
       "      <td>1.000000</td>\n",
       "      <td>-0.109369</td>\n",
       "      <td>0.871754</td>\n",
       "      <td>0.817954</td>\n",
       "    </tr>\n",
       "    <tr>\n",
       "      <th>sepal_width</th>\n",
       "      <td>-0.109369</td>\n",
       "      <td>1.000000</td>\n",
       "      <td>-0.420516</td>\n",
       "      <td>-0.356544</td>\n",
       "    </tr>\n",
       "    <tr>\n",
       "      <th>petal_length</th>\n",
       "      <td>0.871754</td>\n",
       "      <td>-0.420516</td>\n",
       "      <td>1.000000</td>\n",
       "      <td>0.962757</td>\n",
       "    </tr>\n",
       "    <tr>\n",
       "      <th>petal_width</th>\n",
       "      <td>0.817954</td>\n",
       "      <td>-0.356544</td>\n",
       "      <td>0.962757</td>\n",
       "      <td>1.000000</td>\n",
       "    </tr>\n",
       "  </tbody>\n",
       "</table>\n",
       "</div>"
      ],
      "text/plain": [
       "              sepal_length  sepal_width  petal_length  petal_width\n",
       "sepal_length      1.000000    -0.109369      0.871754     0.817954\n",
       "sepal_width      -0.109369     1.000000     -0.420516    -0.356544\n",
       "petal_length      0.871754    -0.420516      1.000000     0.962757\n",
       "petal_width       0.817954    -0.356544      0.962757     1.000000"
      ]
     },
     "execution_count": 25,
     "metadata": {},
     "output_type": "execute_result"
    }
   ],
   "source": [
    "df.corr()"
   ]
  },
  {
   "cell_type": "code",
   "execution_count": 31,
   "id": "e5e20c9e",
   "metadata": {},
   "outputs": [],
   "source": [
    "#removing sepal_width as it is negatively correlated\n",
    "def predict_one(sepal_length, sepal_width, petal_length, petal_width):\n",
    "    # your code\n",
    "    if (sepal_length<7.0 and sepal_length>4.9) and (petal_length<5.1 and petal_length>3.0) and (petal_width<1.8 and petal_width>1.0):\n",
    "        return 'Iris-versicolor'\n",
    "    elif (sepal_length<5.8 and sepal_length>4.3) and (petal_length<1.9 and petal_length>1.0) and (petal_width<0.6 and petal_width>0.1):\n",
    "        return 'Iris-setosa'\n",
    "    else:\n",
    "        return 'Iris-virginica'"
   ]
  },
  {
   "cell_type": "code",
   "execution_count": 32,
   "id": "b003c4ee",
   "metadata": {},
   "outputs": [
    {
     "name": "stdout",
     "output_type": "stream",
     "text": [
      "Accuracy: 0.8466666666666667\n"
     ]
    }
   ],
   "source": [
    "predictions = pd.Series([ predict_one(*line) for line in df.iloc[:, :4].to_numpy()])\n",
    "accuracy = sum(df.species == predictions) / len(df)\n",
    "print(f\"Accuracy: {accuracy}\")"
   ]
  },
  {
   "cell_type": "code",
   "execution_count": 33,
   "id": "d11378f7",
   "metadata": {},
   "outputs": [],
   "source": [
    "def predict_one(sepal_length, sepal_width, petal_length, petal_width):\n",
    "    # your code\n",
    "    if (sepal_length<5.8) and (petal_length<1.9) and (petal_width<0.6):\n",
    "        return 'Iris-setosa'\n",
    "    elif (sepal_length<7.0) and (petal_length<5.1) and (petal_width<1.8):\n",
    "        return 'Iris-versicolor'\n",
    "    else:\n",
    "        return 'Iris-virginica'"
   ]
  },
  {
   "cell_type": "code",
   "execution_count": 34,
   "id": "e72bd8ef",
   "metadata": {},
   "outputs": [
    {
     "name": "stdout",
     "output_type": "stream",
     "text": [
      "Accuracy: 0.94\n"
     ]
    }
   ],
   "source": [
    "predictions = pd.Series([ predict_one(*line) for line in df.iloc[:, :4].to_numpy()])\n",
    "accuracy = sum(df.species == predictions) / len(df)\n",
    "print(f\"Accuracy: {accuracy}\")"
   ]
  },
  {
   "cell_type": "code",
   "execution_count": null,
   "id": "07fdb571",
   "metadata": {},
   "outputs": [],
   "source": []
  }
 ],
 "metadata": {
  "kernelspec": {
   "display_name": "Python 3",
   "language": "python",
   "name": "python3"
  },
  "language_info": {
   "codemirror_mode": {
    "name": "ipython",
    "version": 3
   },
   "file_extension": ".py",
   "mimetype": "text/x-python",
   "name": "python",
   "nbconvert_exporter": "python",
   "pygments_lexer": "ipython3",
   "version": "3.8.8"
  },
  "toc": {
   "base_numbering": 1,
   "nav_menu": {},
   "number_sections": true,
   "sideBar": true,
   "skip_h1_title": false,
   "title_cell": "Table of Contents",
   "title_sidebar": "Contents",
   "toc_cell": false,
   "toc_position": {},
   "toc_section_display": true,
   "toc_window_display": false
  }
 },
 "nbformat": 4,
 "nbformat_minor": 5
}
